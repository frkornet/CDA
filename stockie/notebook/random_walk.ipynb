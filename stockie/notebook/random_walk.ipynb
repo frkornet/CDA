{
 "cells": [
  {
   "cell_type": "code",
   "execution_count": 1,
   "metadata": {},
   "outputs": [
    {
     "name": "stdout",
     "output_type": "stream",
     "text": [
      "Train row count: 17272\n",
      "Test  row count: 9552\n"
     ]
    }
   ],
   "source": [
    "# General imports and reading the possible trades files\n",
    "import pandas as pd\n",
    "import numpy as np\n",
    "import matplotlib.pyplot as plt\n",
    "\n",
    "from numpy.random import choice\n",
    "from numpy.random import randint\n",
    "\n",
    "from util import get_stock_n_smooth\n",
    "from tqdm import tqdm\n",
    "\n",
    "import warnings\n",
    "warnings.filterwarnings('ignore')\n",
    "\n",
    "train_df = pd.read_csv('../data/train_possible_trades.csv')\n",
    "test_df = pd.read_csv('../data/test_possible_trades.csv')\n",
    "\n",
    "print(f\"Train row count: {len(train_df)}\")\n",
    "print(f\"Test  row count: {len(test_df)}\")"
   ]
  },
  {
   "cell_type": "code",
   "execution_count": 2,
   "metadata": {},
   "outputs": [
    {
     "name": "stdout",
     "output_type": "stream",
     "text": [
      "../python/util.py\r\n"
     ]
    }
   ],
   "source": [
    "ls ../python/util.py"
   ]
  },
  {
   "cell_type": "code",
   "execution_count": 3,
   "metadata": {},
   "outputs": [],
   "source": [
    "def stats_table(df, days_cutoff):\n",
    "    pos_df = df[['gain_pct', 'trading_days']].loc[df.gain_pct > 0].groupby(by='trading_days').count()\n",
    "    pos_df.columns = ['pos_counts']\n",
    "    loss_df = df[['gain_pct', 'trading_days']].loc[df.gain_pct < 0].groupby(by='trading_days').count()\n",
    "    loss_df.columns = ['neg_counts']\n",
    "    zero_df = df[['gain_pct', 'trading_days']].loc[df.gain_pct == 0].groupby(by='trading_days').count()\n",
    "    zero_df.columns = ['zero_counts']\n",
    "    temp = pd.concat([loss_df, pos_df, zero_df], join=\"outer\").reset_index()\n",
    "    cols = [ 'pos_counts', 'neg_counts', 'zero_counts' ]\n",
    "\n",
    "    stats_cnt = np.zeros((3, 4))\n",
    "    \n",
    "    totals = np.zeros((4,))\n",
    "    total_lt_xd = 0\n",
    "    print('         \\t pos     neg    zero    total')\n",
    "    print('         \\t======  ======  =====   ======')\n",
    "    print(f'< {days_cutoff} days\\t', end='')\n",
    "    for i, num in enumerate(temp[cols].loc[temp.trading_days < days_cutoff].sum()):\n",
    "        print(num, end='\\t')\n",
    "        total_lt_xd += num\n",
    "        totals[i] += num\n",
    "    print(total_lt_xd)\n",
    "    totals[3] += total_lt_xd\n",
    "\n",
    "    total_ge_xd = 0\n",
    "    print(f'>= {days_cutoff} days\\t', end='')\n",
    "    for i, num in enumerate(temp[cols].loc[temp.trading_days >= days_cutoff].sum()):\n",
    "        print(num, end='\\t')\n",
    "        total_ge_xd += num\n",
    "        totals[i] += num\n",
    "    print(total_ge_xd)\n",
    "    totals[3] += total_ge_xd\n",
    "\n",
    "    print('         \\t------\\t------\\t-----\\t------')\n",
    "    print('         \\t', end='')\n",
    "    for num in totals:\n",
    "        print(num, end='\\t')\n",
    "\n",
    "    print('')\n",
    "    print('')\n",
    "\n",
    "\n",
    "    totals_pct = np.zeros((4,))\n",
    "    total_lt_xd = 0\n",
    "    print('         \\t pos     neg    zero    total')\n",
    "    print('         \\t======  ======  =====   ======')\n",
    "    print(f'< {days_cutoff} days\\t', end='')\n",
    "    for i, num in enumerate(temp[cols].loc[temp.trading_days < days_cutoff].sum()):\n",
    "        num_pct = (num / totals[3])* 100\n",
    "        print(f'{num_pct:.2f}', end='\\t')\n",
    "        total_lt_xd += num_pct\n",
    "        totals_pct[i] += num_pct\n",
    "    print(f'{total_lt_xd:.2f}')\n",
    "    totals_pct[3] += total_lt_xd\n",
    "\n",
    "    total_ge_xd = 0\n",
    "    print(f'>= {days_cutoff} days\\t', end='')\n",
    "    for i, num in enumerate(temp[cols].loc[temp.trading_days >= days_cutoff].sum()):\n",
    "        num_pct = (num / totals[3])* 100    \n",
    "        print(f'{num_pct:.2f}', end='\\t')\n",
    "        total_ge_xd += num_pct\n",
    "        totals_pct[i] += num_pct\n",
    "    print(f'{total_ge_xd:.2f}')\n",
    "    totals_pct[3] += total_ge_xd\n",
    "\n",
    "    print('         \\t------\\t------\\t-----\\t------')\n",
    "    print('         \\t', end='')\n",
    "    for num in totals_pct:\n",
    "        print(f'{num:.2f}', end='\\t')"
   ]
  },
  {
   "cell_type": "code",
   "execution_count": 133,
   "metadata": {},
   "outputs": [],
   "source": [
    "def stats_table(df, days_cutoff):\n",
    "    pos_df = df[['gain_pct', 'trading_days']].loc[df.gain_pct > 0].groupby(by='trading_days').count()\n",
    "    pos_df.columns = ['pos_counts']\n",
    "    loss_df = df[['gain_pct', 'trading_days']].loc[df.gain_pct < 0].groupby(by='trading_days').count()\n",
    "    loss_df.columns = ['neg_counts']\n",
    "    zero_df = df[['gain_pct', 'trading_days']].loc[df.gain_pct == 0].groupby(by='trading_days').count()\n",
    "    zero_df.columns = ['zero_counts']\n",
    "    temp = pd.concat([loss_df, pos_df, zero_df], join=\"outer\").reset_index()\n",
    "    cols = [ 'pos_counts', 'neg_counts', 'zero_counts' ]\n",
    "\n",
    "    stats_cnt = np.zeros((3, 4))\n",
    "    totals_col = np.zeros((4,))\n",
    "    total_lt_xd = 0\n",
    "    for i, num in enumerate(temp[cols].loc[temp.trading_days < days_cutoff].sum()):\n",
    "        stats_cnt[0,i] = num\n",
    "        stats_cnt[2,i] += num\n",
    "    stats_cnt[0,3] = np.sum(stats_cnt[0,0:3])\n",
    "\n",
    "    \n",
    "    for i, num in enumerate(temp[cols].loc[temp.trading_days >= days_cutoff].sum()):\n",
    "        stats_cnt[1,i] = num\n",
    "        stats_cnt[2,i] += num\n",
    "    stats_cnt[1,3] = np.sum(stats_cnt[1,0:3])  \n",
    "    stats_cnt[2,3] = stats_cnt[0,3] + stats_cnt[1,3]\n",
    "    \n",
    "    stats_pct = (stats_cnt.copy() / stats_cnt[2,3]) * 100\n",
    "    \n",
    "    print('         \\t pos     neg    zero    total')\n",
    "    print('         \\t======  ======  =====   ======')\n",
    "    print(f'< {days_cutoff} days\\t', end='')\n",
    "    for i in range(4):\n",
    "        print(f'{stats_cnt[0, i]:.0f}', end='\\t')\n",
    "        \n",
    "    print(f'\\n>= {days_cutoff} days\\t', end='')\n",
    "    for i in range(4):\n",
    "        print(f'{stats_cnt[1, i]:.0f}', end='\\t') \n",
    "    \n",
    "    print('\\n         \\t------\\t------\\t-----\\t------')\n",
    "    print('         \\t', end='')\n",
    "    for i in range(4):\n",
    "        print(f'{stats_cnt[2, i]:.0f}', end='\\t')\n",
    "\n",
    "    print('\\n\\n\\n')\n",
    "    print('         \\t pos     neg    zero    total')\n",
    "    print('         \\t======  ======  =====   ======')\n",
    "    print(f'< {days_cutoff} days\\t', end='')\n",
    "    for i in range(4):\n",
    "        print(f'{stats_pct[0, i]:.2f}', end='\\t')\n",
    "        \n",
    "    print(f'\\n>= {days_cutoff} days\\t', end='')\n",
    "    for i in range(4):\n",
    "        print(f'{stats_pct[1, i]:.2f}', end='\\t') \n",
    "    \n",
    "    print('\\n         \\t------\\t------\\t-----\\t------')\n",
    "    print('         \\t', end='')\n",
    "    for i in range(4):\n",
    "        print(f'{stats_pct[2, i]:.2f}', end='\\t')\n",
    "    return stats_cnt, stats_pct"
   ]
  },
  {
   "cell_type": "code",
   "execution_count": 4,
   "metadata": {},
   "outputs": [
    {
     "name": "stdout",
     "output_type": "stream",
     "text": [
      "         \t pos     neg    zero    total\n",
      "         \t======  ======  =====   ======\n",
      "< 60 days\t5033.0\t1063.0\t30.0\t6126.0\n",
      ">= 60 days\t1350.0\t2074.0\t2.0\t3426.0\n",
      "         \t------\t------\t-----\t------\n",
      "         \t6383.0\t3137.0\t32.0\t9552.0\t\n",
      "\n",
      "         \t pos     neg    zero    total\n",
      "         \t======  ======  =====   ======\n",
      "< 60 days\t52.69\t11.13\t0.31\t64.13\n",
      ">= 60 days\t14.13\t21.71\t0.02\t35.87\n",
      "         \t------\t------\t-----\t------\n",
      "         \t66.82\t32.84\t0.34\t100.00\t"
     ]
    }
   ],
   "source": [
    "stats_table(test_df, 60)"
   ]
  },
  {
   "cell_type": "code",
   "execution_count": 5,
   "metadata": {},
   "outputs": [
    {
     "name": "stdout",
     "output_type": "stream",
     "text": [
      "         \t pos     neg    zero    total\n",
      "         \t======  ======  =====   ======\n",
      "< 55 days\t4875.0\t948.0\t26.0\t5849.0\n",
      ">= 55 days\t1508.0\t2189.0\t6.0\t3703.0\n",
      "         \t------\t------\t-----\t------\n",
      "         \t6383.0\t3137.0\t32.0\t9552.0\t\n",
      "\n",
      "         \t pos     neg    zero    total\n",
      "         \t======  ======  =====   ======\n",
      "< 55 days\t51.04\t9.92\t0.27\t61.23\n",
      ">= 55 days\t15.79\t22.92\t0.06\t38.77\n",
      "         \t------\t------\t-----\t------\n",
      "         \t66.82\t32.84\t0.34\t100.00\t"
     ]
    }
   ],
   "source": [
    "stats_table(test_df, 55)"
   ]
  },
  {
   "cell_type": "code",
   "execution_count": 6,
   "metadata": {},
   "outputs": [
    {
     "name": "stdout",
     "output_type": "stream",
     "text": [
      "         \t pos     neg    zero    total\n",
      "         \t======  ======  =====   ======\n",
      "< 60 days\t17272.0\t0.0\t0.0\t17272.0\n",
      ">= 60 days\t0.0\t0.0\t0.0\t0.0\n",
      "         \t------\t------\t-----\t------\n",
      "         \t17272.0\t0.0\t0.0\t17272.0\t\n",
      "\n",
      "         \t pos     neg    zero    total\n",
      "         \t======  ======  =====   ======\n",
      "< 60 days\t100.00\t0.00\t0.00\t100.00\n",
      ">= 60 days\t0.00\t0.00\t0.00\t0.00\n",
      "         \t------\t------\t-----\t------\n",
      "         \t100.00\t0.00\t0.00\t100.00\t"
     ]
    }
   ],
   "source": [
    "stats_table(train_df, 60)"
   ]
  },
  {
   "cell_type": "code",
   "execution_count": 7,
   "metadata": {},
   "outputs": [
    {
     "name": "stdout",
     "output_type": "stream",
     "text": [
      "         \t pos     neg    zero    total\n",
      "         \t======  ======  =====   ======\n",
      "< 55 days\t17272.0\t0.0\t0.0\t17272.0\n",
      ">= 55 days\t0.0\t0.0\t0.0\t0.0\n",
      "         \t------\t------\t-----\t------\n",
      "         \t17272.0\t0.0\t0.0\t17272.0\t\n",
      "\n",
      "         \t pos     neg    zero    total\n",
      "         \t======  ======  =====   ======\n",
      "< 55 days\t100.00\t0.00\t0.00\t100.00\n",
      ">= 55 days\t0.00\t0.00\t0.00\t0.00\n",
      "         \t------\t------\t-----\t------\n",
      "         \t100.00\t0.00\t0.00\t100.00\t"
     ]
    }
   ],
   "source": [
    "stats_table(train_df, 55)"
   ]
  },
  {
   "cell_type": "code",
   "execution_count": 8,
   "metadata": {},
   "outputs": [],
   "source": [
    "def random_stock(tickers):\n",
    "    while True:\n",
    "        ticker = choice(tickers)\n",
    "        success, hist = get_stock_n_smooth(ticker, '10y')\n",
    "        if success == False:\n",
    "            continue\n",
    "        \n",
    "        n_len = len(hist)\n",
    "        if n_len < 5 * 252:\n",
    "            continue\n",
    "        \n",
    "        train_len = int(n_len * 0.7)\n",
    "        test_len  = n_len - train_len\n",
    "        \n",
    "        return ticker, hist.reset_index(), train_len, test_len"
   ]
  },
  {
   "cell_type": "code",
   "execution_count": 9,
   "metadata": {},
   "outputs": [
    {
     "data": {
      "text/plain": [
       "2185"
      ]
     },
     "execution_count": 9,
     "metadata": {},
     "output_type": "execute_result"
    }
   ],
   "source": [
    "tickers = list(set(train_df.ticker) | set(test_df.ticker))\n",
    "len(tickers)"
   ]
  },
  {
   "cell_type": "code",
   "execution_count": 10,
   "metadata": {},
   "outputs": [
    {
     "data": {
      "text/plain": [
       "('CBZ', 2516, 1761, 755)"
      ]
     },
     "execution_count": 10,
     "metadata": {},
     "output_type": "execute_result"
    }
   ],
   "source": [
    "ticker, hist, train_len, test_len = random_stock(tickers)\n",
    "hist = hist\n",
    "ticker, len(hist), train_len, test_len"
   ]
  },
  {
   "cell_type": "code",
   "execution_count": 11,
   "metadata": {},
   "outputs": [],
   "source": [
    "tdl   = test_df.groupby(by='trading_days').count()['ticker'].index.tolist()\n",
    "p_tdl = test_df.groupby(by='trading_days').count()['ticker']\n",
    "som = sum(p_tdl)\n",
    "p_tdl = np.array(p_tdl / som)"
   ]
  },
  {
   "cell_type": "code",
   "execution_count": 12,
   "metadata": {},
   "outputs": [
    {
     "data": {
      "text/plain": [
       "(406, 406)"
      ]
     },
     "execution_count": 12,
     "metadata": {},
     "output_type": "execute_result"
    }
   ],
   "source": [
    "len(tdl), len(p_tdl)"
   ]
  },
  {
   "cell_type": "code",
   "execution_count": 13,
   "metadata": {},
   "outputs": [],
   "source": [
    "def random_trading_days(test_len, tdl, p_tdl):\n",
    "    while True:\n",
    "        sday = randint(0, test_len)\n",
    "        tday = choice(a=tdl, size=1, p=p_tdl)[0]\n",
    "        \n",
    "        if sday + tday >= test_len:\n",
    "            continue\n",
    "            \n",
    "        return sday, tday"
   ]
  },
  {
   "cell_type": "code",
   "execution_count": 14,
   "metadata": {},
   "outputs": [
    {
     "data": {
      "text/html": [
       "<div>\n",
       "<style scoped>\n",
       "    .dataframe tbody tr th:only-of-type {\n",
       "        vertical-align: middle;\n",
       "    }\n",
       "\n",
       "    .dataframe tbody tr th {\n",
       "        vertical-align: top;\n",
       "    }\n",
       "\n",
       "    .dataframe thead th {\n",
       "        text-align: right;\n",
       "    }\n",
       "</style>\n",
       "<table border=\"1\" class=\"dataframe\">\n",
       "  <thead>\n",
       "    <tr style=\"text-align: right;\">\n",
       "      <th></th>\n",
       "      <th>buy_close</th>\n",
       "      <th>buy_date</th>\n",
       "      <th>daily_return</th>\n",
       "      <th>gain_pct</th>\n",
       "      <th>sell_close</th>\n",
       "      <th>sell_date</th>\n",
       "      <th>ticker</th>\n",
       "      <th>trading_days</th>\n",
       "    </tr>\n",
       "  </thead>\n",
       "  <tbody>\n",
       "    <tr>\n",
       "      <th>0</th>\n",
       "      <td>7.82</td>\n",
       "      <td>2019-03-12</td>\n",
       "      <td>-0.129711</td>\n",
       "      <td>-2.941176</td>\n",
       "      <td>7.59</td>\n",
       "      <td>2019-04-12</td>\n",
       "      <td>CECE</td>\n",
       "      <td>23</td>\n",
       "    </tr>\n",
       "  </tbody>\n",
       "</table>\n",
       "</div>"
      ],
      "text/plain": [
       "   buy_close    buy_date  daily_return  gain_pct  sell_close   sell_date  \\\n",
       "0       7.82  2019-03-12     -0.129711 -2.941176        7.59  2019-04-12   \n",
       "\n",
       "  ticker  trading_days  \n",
       "0   CECE            23  "
      ]
     },
     "execution_count": 14,
     "metadata": {},
     "output_type": "execute_result"
    }
   ],
   "source": [
    "ticker, hist, train_len, test_len = random_stock(tickers)\n",
    "sday, tday = random_trading_days(test_len, tdl, p_tdl)\n",
    "\n",
    "buy_date   = str(hist['Date'].iloc[train_len+sday])[:10]\n",
    "buy_close  = float(hist['Close'].iloc[train_len+sday])\n",
    "\n",
    "sell_date  = str(hist['Date'].iloc[train_len+sday+tday])[:10]\n",
    "sell_close = float(hist['Close'].iloc[train_len+sday+tday])\n",
    "\n",
    "gain_pct   = ((sell_close - buy_close) / buy_close)\n",
    "daily_ret  = (1 + gain_pct) ** (1/tday) - 1.0\n",
    "gain_pct  *= 100\n",
    "daily_ret *= 100\n",
    "\n",
    "dict_df = { 'buy_close': [buy_close], 'buy_date': [buy_date], 'daily_return': [daily_ret], \n",
    "            'gain_pct' : [gain_pct],  'sell_close': [sell_close], 'sell_date': [sell_date],\n",
    "            'ticker': [ticker], 'trading_days' : [tday]\n",
    "          }\n",
    "df = pd.DataFrame().from_dict(dict_df)\n",
    "df"
   ]
  },
  {
   "cell_type": "code",
   "execution_count": 15,
   "metadata": {},
   "outputs": [],
   "source": [
    "def simulate_trades(nr_trades):\n",
    "    sim_df = pd.DataFrame()\n",
    "    for t in tqdm(range(nr_trades), 'Simulations:'):\n",
    "        \n",
    "        ticker, hist, train_len, test_len = random_stock(tickers)\n",
    "        sday, tday = random_trading_days(test_len, tdl, p_tdl)\n",
    "\n",
    "        buy_date   = str(hist['Date'].iloc[train_len+sday])[:10]\n",
    "        buy_close  = float(hist['Close'].iloc[train_len+sday])\n",
    "\n",
    "        sell_date  = str(hist['Date'].iloc[train_len+sday+tday])[:10]\n",
    "        sell_close = float(hist['Close'].iloc[train_len+sday+tday])\n",
    "\n",
    "        gain_pct   = ((sell_close - buy_close) / buy_close)\n",
    "        daily_ret  = (1 + gain_pct) ** (1/tday) - 1.0\n",
    "        gain_pct  *= 100\n",
    "        daily_ret *= 100\n",
    "\n",
    "        dict_df = { 'buy_close': [buy_close], 'buy_date': [buy_date], 'daily_return': [daily_ret], \n",
    "                    'gain_pct' : [gain_pct],  'sell_close': [sell_close], 'sell_date': [sell_date],\n",
    "                    'ticker': [ticker], 'trading_days' : [tday]\n",
    "                  }\n",
    "        df = pd.DataFrame().from_dict(dict_df)\n",
    "        sim_df = pd.concat([sim_df, df])\n",
    "    \n",
    "    return sim_df"
   ]
  },
  {
   "cell_type": "code",
   "execution_count": 16,
   "metadata": {},
   "outputs": [
    {
     "name": "stderr",
     "output_type": "stream",
     "text": [
      "Simulations::   1%|          | 85/9552 [00:31<1:00:09,  2.62it/s]"
     ]
    },
    {
     "name": "stdout",
     "output_type": "stream",
     "text": [
      "- PEIX: No data found, symbol may be delisted\n"
     ]
    },
    {
     "name": "stderr",
     "output_type": "stream",
     "text": [
      "Simulations::   2%|▏         | 178/9552 [01:06<1:04:36,  2.42it/s]"
     ]
    },
    {
     "name": "stdout",
     "output_type": "stream",
     "text": [
      "- PEIX: No data found, symbol may be delisted\n"
     ]
    },
    {
     "name": "stderr",
     "output_type": "stream",
     "text": [
      "Simulations::   8%|▊         | 736/9552 [08:33<2:37:41,  1.07s/it]"
     ]
    },
    {
     "name": "stdout",
     "output_type": "stream",
     "text": [
      "- BEAT: No data found, symbol may be delisted\n"
     ]
    },
    {
     "name": "stderr",
     "output_type": "stream",
     "text": [
      "Simulations::  15%|█▍        | 1407/9552 [19:56<2:02:24,  1.11it/s]"
     ]
    },
    {
     "name": "stdout",
     "output_type": "stream",
     "text": [
      "- AAXN: No data found, symbol may be delisted\n"
     ]
    },
    {
     "name": "stderr",
     "output_type": "stream",
     "text": [
      "Simulations::  19%|█▉        | 1794/9552 [26:30<2:37:58,  1.22s/it]"
     ]
    },
    {
     "name": "stdout",
     "output_type": "stream",
     "text": [
      "- AAXN: No data found, symbol may be delisted\n"
     ]
    },
    {
     "name": "stderr",
     "output_type": "stream",
     "text": [
      "Simulations::  27%|██▋       | 2570/9552 [39:49<1:56:58,  1.01s/it]"
     ]
    },
    {
     "name": "stdout",
     "output_type": "stream",
     "text": [
      "- PEIX: No data found, symbol may be delisted\n"
     ]
    },
    {
     "name": "stderr",
     "output_type": "stream",
     "text": [
      "Simulations::  35%|███▌      | 3370/9552 [53:36<1:44:51,  1.02s/it]"
     ]
    },
    {
     "name": "stdout",
     "output_type": "stream",
     "text": [
      "- PEIX: No data found, symbol may be delisted\n"
     ]
    },
    {
     "name": "stderr",
     "output_type": "stream",
     "text": [
      "Simulations::  41%|████      | 3895/9552 [1:02:31<1:17:16,  1.22it/s]"
     ]
    },
    {
     "name": "stdout",
     "output_type": "stream",
     "text": [
      "- VRTU: No data found, symbol may be delisted\n"
     ]
    },
    {
     "name": "stderr",
     "output_type": "stream",
     "text": [
      "Simulations::  42%|████▏     | 3976/9552 [1:03:56<1:49:43,  1.18s/it]"
     ]
    },
    {
     "name": "stdout",
     "output_type": "stream",
     "text": [
      "- BEAT: No data found, symbol may be delisted\n"
     ]
    },
    {
     "name": "stderr",
     "output_type": "stream",
     "text": [
      "Simulations::  43%|████▎     | 4132/9552 [1:06:37<1:18:33,  1.15it/s]"
     ]
    },
    {
     "name": "stdout",
     "output_type": "stream",
     "text": [
      "- EIGI: No data found, symbol may be delisted\n"
     ]
    },
    {
     "name": "stderr",
     "output_type": "stream",
     "text": [
      "Simulations::  44%|████▎     | 4163/9552 [1:07:09<1:34:23,  1.05s/it]"
     ]
    },
    {
     "name": "stdout",
     "output_type": "stream",
     "text": [
      "- EIGI: No data found, symbol may be delisted\n"
     ]
    },
    {
     "name": "stderr",
     "output_type": "stream",
     "text": [
      "Simulations::  46%|████▌     | 4365/9552 [1:10:30<1:18:22,  1.10it/s]"
     ]
    },
    {
     "name": "stdout",
     "output_type": "stream",
     "text": [
      "- VRTU: No data found, symbol may be delisted\n"
     ]
    },
    {
     "name": "stderr",
     "output_type": "stream",
     "text": [
      "Simulations::  48%|████▊     | 4596/9552 [1:14:32<1:17:24,  1.07it/s]"
     ]
    },
    {
     "name": "stdout",
     "output_type": "stream",
     "text": [
      "- AAXN: No data found, symbol may be delisted\n"
     ]
    },
    {
     "name": "stderr",
     "output_type": "stream",
     "text": [
      "Simulations::  49%|████▉     | 4686/9552 [1:16:06<1:23:04,  1.02s/it]"
     ]
    },
    {
     "name": "stdout",
     "output_type": "stream",
     "text": [
      "- BEAT: No data found, symbol may be delisted\n"
     ]
    },
    {
     "name": "stderr",
     "output_type": "stream",
     "text": [
      "Simulations::  70%|██████▉   | 6680/9552 [1:50:15<40:04,  1.19it/s]  "
     ]
    },
    {
     "name": "stdout",
     "output_type": "stream",
     "text": [
      "- BEAT: No data found, symbol may be delisted\n"
     ]
    },
    {
     "name": "stderr",
     "output_type": "stream",
     "text": [
      "Simulations::  79%|███████▊  | 7500/9552 [2:04:18<32:30,  1.05it/s]  "
     ]
    },
    {
     "name": "stdout",
     "output_type": "stream",
     "text": [
      "- BEAT: No data found, symbol may be delisted\n"
     ]
    },
    {
     "name": "stderr",
     "output_type": "stream",
     "text": [
      "Simulations::  79%|███████▉  | 7535/9552 [2:04:55<36:07,  1.07s/it]"
     ]
    },
    {
     "name": "stdout",
     "output_type": "stream",
     "text": [
      "- EIGI: No data found, symbol may be delisted\n"
     ]
    },
    {
     "name": "stderr",
     "output_type": "stream",
     "text": [
      "Simulations::  83%|████████▎ | 7906/9552 [2:11:13<24:13,  1.13it/s]"
     ]
    },
    {
     "name": "stdout",
     "output_type": "stream",
     "text": [
      "- SALT: No data found, symbol may be delisted\n"
     ]
    },
    {
     "name": "stderr",
     "output_type": "stream",
     "text": [
      "Simulations::  84%|████████▍ | 8014/9552 [2:13:07<24:12,  1.06it/s]"
     ]
    },
    {
     "name": "stdout",
     "output_type": "stream",
     "text": [
      "- VRTU: No data found, symbol may be delisted\n"
     ]
    },
    {
     "name": "stderr",
     "output_type": "stream",
     "text": [
      "Simulations::  96%|█████████▋| 9198/9552 [2:33:51<06:12,  1.05s/it]"
     ]
    },
    {
     "name": "stdout",
     "output_type": "stream",
     "text": [
      "- AAXN: No data found, symbol may be delisted\n"
     ]
    },
    {
     "name": "stderr",
     "output_type": "stream",
     "text": [
      "Simulations::  99%|█████████▉| 9437/9552 [2:37:56<01:47,  1.07it/s]"
     ]
    },
    {
     "name": "stdout",
     "output_type": "stream",
     "text": [
      "- AAXN: No data found, symbol may be delisted\n"
     ]
    },
    {
     "name": "stderr",
     "output_type": "stream",
     "text": [
      "Simulations:: 100%|██████████| 9552/9552 [2:39:54<00:00,  1.00s/it]"
     ]
    },
    {
     "name": "stdout",
     "output_type": "stream",
     "text": [
      "CPU times: user 11min 38s, sys: 20 s, total: 11min 58s\n",
      "Wall time: 2h 39min 54s\n"
     ]
    },
    {
     "name": "stderr",
     "output_type": "stream",
     "text": [
      "\n"
     ]
    },
    {
     "data": {
      "text/html": [
       "<div>\n",
       "<style scoped>\n",
       "    .dataframe tbody tr th:only-of-type {\n",
       "        vertical-align: middle;\n",
       "    }\n",
       "\n",
       "    .dataframe tbody tr th {\n",
       "        vertical-align: top;\n",
       "    }\n",
       "\n",
       "    .dataframe thead th {\n",
       "        text-align: right;\n",
       "    }\n",
       "</style>\n",
       "<table border=\"1\" class=\"dataframe\">\n",
       "  <thead>\n",
       "    <tr style=\"text-align: right;\">\n",
       "      <th></th>\n",
       "      <th>buy_close</th>\n",
       "      <th>buy_date</th>\n",
       "      <th>daily_return</th>\n",
       "      <th>gain_pct</th>\n",
       "      <th>sell_close</th>\n",
       "      <th>sell_date</th>\n",
       "      <th>ticker</th>\n",
       "      <th>trading_days</th>\n",
       "    </tr>\n",
       "  </thead>\n",
       "  <tbody>\n",
       "    <tr>\n",
       "      <th>0</th>\n",
       "      <td>20.6500</td>\n",
       "      <td>2019-08-29</td>\n",
       "      <td>1.910885</td>\n",
       "      <td>23.147700</td>\n",
       "      <td>25.430</td>\n",
       "      <td>2019-09-16</td>\n",
       "      <td>TGI</td>\n",
       "      <td>11</td>\n",
       "    </tr>\n",
       "    <tr>\n",
       "      <th>0</th>\n",
       "      <td>15.3901</td>\n",
       "      <td>2018-09-11</td>\n",
       "      <td>-0.127514</td>\n",
       "      <td>-4.854419</td>\n",
       "      <td>14.643</td>\n",
       "      <td>2018-11-05</td>\n",
       "      <td>MITT</td>\n",
       "      <td>39</td>\n",
       "    </tr>\n",
       "    <tr>\n",
       "      <th>0</th>\n",
       "      <td>114.7400</td>\n",
       "      <td>2019-12-26</td>\n",
       "      <td>0.009390</td>\n",
       "      <td>0.697229</td>\n",
       "      <td>115.540</td>\n",
       "      <td>2020-04-14</td>\n",
       "      <td>PFPT</td>\n",
       "      <td>74</td>\n",
       "    </tr>\n",
       "    <tr>\n",
       "      <th>0</th>\n",
       "      <td>140.1700</td>\n",
       "      <td>2019-12-05</td>\n",
       "      <td>0.151725</td>\n",
       "      <td>28.422630</td>\n",
       "      <td>180.010</td>\n",
       "      <td>2020-08-03</td>\n",
       "      <td>IPGP</td>\n",
       "      <td>165</td>\n",
       "    </tr>\n",
       "    <tr>\n",
       "      <th>0</th>\n",
       "      <td>14.9900</td>\n",
       "      <td>2019-10-11</td>\n",
       "      <td>0.079291</td>\n",
       "      <td>5.203469</td>\n",
       "      <td>15.770</td>\n",
       "      <td>2020-01-14</td>\n",
       "      <td>ZEUS</td>\n",
       "      <td>64</td>\n",
       "    </tr>\n",
       "    <tr>\n",
       "      <th>...</th>\n",
       "      <td>...</td>\n",
       "      <td>...</td>\n",
       "      <td>...</td>\n",
       "      <td>...</td>\n",
       "      <td>...</td>\n",
       "      <td>...</td>\n",
       "      <td>...</td>\n",
       "      <td>...</td>\n",
       "    </tr>\n",
       "    <tr>\n",
       "      <th>0</th>\n",
       "      <td>3.3600</td>\n",
       "      <td>2018-12-12</td>\n",
       "      <td>-0.429333</td>\n",
       "      <td>-6.250000</td>\n",
       "      <td>3.150</td>\n",
       "      <td>2019-01-04</td>\n",
       "      <td>ATLC</td>\n",
       "      <td>15</td>\n",
       "    </tr>\n",
       "    <tr>\n",
       "      <th>0</th>\n",
       "      <td>39.2200</td>\n",
       "      <td>2019-06-07</td>\n",
       "      <td>0.306004</td>\n",
       "      <td>24.987251</td>\n",
       "      <td>49.020</td>\n",
       "      <td>2019-09-20</td>\n",
       "      <td>HRI</td>\n",
       "      <td>73</td>\n",
       "    </tr>\n",
       "    <tr>\n",
       "      <th>0</th>\n",
       "      <td>3.3500</td>\n",
       "      <td>2019-08-14</td>\n",
       "      <td>-0.520067</td>\n",
       "      <td>-14.925373</td>\n",
       "      <td>2.850</td>\n",
       "      <td>2019-09-27</td>\n",
       "      <td>ARAY</td>\n",
       "      <td>31</td>\n",
       "    </tr>\n",
       "    <tr>\n",
       "      <th>0</th>\n",
       "      <td>23.5000</td>\n",
       "      <td>2018-08-28</td>\n",
       "      <td>0.048956</td>\n",
       "      <td>0.638298</td>\n",
       "      <td>23.650</td>\n",
       "      <td>2018-09-17</td>\n",
       "      <td>CBZ</td>\n",
       "      <td>13</td>\n",
       "    </tr>\n",
       "    <tr>\n",
       "      <th>0</th>\n",
       "      <td>2.4500</td>\n",
       "      <td>2020-03-05</td>\n",
       "      <td>-2.717708</td>\n",
       "      <td>-46.938776</td>\n",
       "      <td>1.300</td>\n",
       "      <td>2020-04-07</td>\n",
       "      <td>RLH</td>\n",
       "      <td>23</td>\n",
       "    </tr>\n",
       "  </tbody>\n",
       "</table>\n",
       "<p>9552 rows × 8 columns</p>\n",
       "</div>"
      ],
      "text/plain": [
       "    buy_close    buy_date  daily_return   gain_pct  sell_close   sell_date  \\\n",
       "0     20.6500  2019-08-29      1.910885  23.147700      25.430  2019-09-16   \n",
       "0     15.3901  2018-09-11     -0.127514  -4.854419      14.643  2018-11-05   \n",
       "0    114.7400  2019-12-26      0.009390   0.697229     115.540  2020-04-14   \n",
       "0    140.1700  2019-12-05      0.151725  28.422630     180.010  2020-08-03   \n",
       "0     14.9900  2019-10-11      0.079291   5.203469      15.770  2020-01-14   \n",
       "..        ...         ...           ...        ...         ...         ...   \n",
       "0      3.3600  2018-12-12     -0.429333  -6.250000       3.150  2019-01-04   \n",
       "0     39.2200  2019-06-07      0.306004  24.987251      49.020  2019-09-20   \n",
       "0      3.3500  2019-08-14     -0.520067 -14.925373       2.850  2019-09-27   \n",
       "0     23.5000  2018-08-28      0.048956   0.638298      23.650  2018-09-17   \n",
       "0      2.4500  2020-03-05     -2.717708 -46.938776       1.300  2020-04-07   \n",
       "\n",
       "   ticker  trading_days  \n",
       "0     TGI            11  \n",
       "0    MITT            39  \n",
       "0    PFPT            74  \n",
       "0    IPGP           165  \n",
       "0    ZEUS            64  \n",
       "..    ...           ...  \n",
       "0    ATLC            15  \n",
       "0     HRI            73  \n",
       "0    ARAY            31  \n",
       "0     CBZ            13  \n",
       "0     RLH            23  \n",
       "\n",
       "[9552 rows x 8 columns]"
      ]
     },
     "execution_count": 16,
     "metadata": {},
     "output_type": "execute_result"
    }
   ],
   "source": [
    "%time sim_df = simulate_trades(len(test_df))\n",
    "sim_df"
   ]
  },
  {
   "cell_type": "code",
   "execution_count": 17,
   "metadata": {},
   "outputs": [
    {
     "name": "stdout",
     "output_type": "stream",
     "text": [
      "         \t pos     neg    zero    total\n",
      "         \t======  ======  =====   ======\n",
      "< 55 days\t3412.0\t2745.0\t45.0\t6202.0\n",
      ">= 55 days\t1819.0\t1526.0\t5.0\t3350.0\n",
      "         \t------\t------\t-----\t------\n",
      "         \t5231.0\t4271.0\t50.0\t9552.0\t\n",
      "\n",
      "         \t pos     neg    zero    total\n",
      "         \t======  ======  =====   ======\n",
      "< 55 days\t35.72\t28.74\t0.47\t64.93\n",
      ">= 55 days\t19.04\t15.98\t0.05\t35.07\n",
      "         \t------\t------\t-----\t------\n",
      "         \t54.76\t44.71\t0.52\t100.00\t"
     ]
    }
   ],
   "source": [
    "stats_table(sim_df, 55)"
   ]
  },
  {
   "cell_type": "code",
   "execution_count": 18,
   "metadata": {},
   "outputs": [
    {
     "name": "stdout",
     "output_type": "stream",
     "text": [
      "         \t pos     neg    zero    total\n",
      "         \t======  ======  =====   ======\n",
      "< 55 days\t4875.0\t948.0\t26.0\t5849.0\n",
      ">= 55 days\t1508.0\t2189.0\t6.0\t3703.0\n",
      "         \t------\t------\t-----\t------\n",
      "         \t6383.0\t3137.0\t32.0\t9552.0\t\n",
      "\n",
      "         \t pos     neg    zero    total\n",
      "         \t======  ======  =====   ======\n",
      "< 55 days\t51.04\t9.92\t0.27\t61.23\n",
      ">= 55 days\t15.79\t22.92\t0.06\t38.77\n",
      "         \t------\t------\t-----\t------\n",
      "         \t66.82\t32.84\t0.34\t100.00\t"
     ]
    }
   ],
   "source": [
    "stats_table(test_df, 55)"
   ]
  },
  {
   "cell_type": "code",
   "execution_count": 19,
   "metadata": {},
   "outputs": [
    {
     "data": {
      "text/plain": [
       "9552"
      ]
     },
     "execution_count": 19,
     "metadata": {},
     "output_type": "execute_result"
    }
   ],
   "source": [
    "len(test_df)"
   ]
  },
  {
   "cell_type": "code",
   "execution_count": 20,
   "metadata": {},
   "outputs": [
    {
     "data": {
      "text/plain": [
       "1990"
      ]
     },
     "execution_count": 20,
     "metadata": {},
     "output_type": "execute_result"
    }
   ],
   "source": [
    "len(test_df.ticker.unique())"
   ]
  },
  {
   "cell_type": "code",
   "execution_count": 21,
   "metadata": {},
   "outputs": [
    {
     "data": {
      "text/plain": [
       "2146"
      ]
     },
     "execution_count": 21,
     "metadata": {},
     "output_type": "execute_result"
    }
   ],
   "source": [
    "len(sim_df.ticker.unique())"
   ]
  },
  {
   "cell_type": "code",
   "execution_count": 22,
   "metadata": {},
   "outputs": [
    {
     "data": {
      "text/plain": [
       "2185"
      ]
     },
     "execution_count": 22,
     "metadata": {},
     "output_type": "execute_result"
    }
   ],
   "source": [
    "len(tickers)"
   ]
  },
  {
   "cell_type": "code",
   "execution_count": 23,
   "metadata": {},
   "outputs": [
    {
     "name": "stderr",
     "output_type": "stream",
     "text": [
      "Simulations::   2%|▏         | 192/9552 [03:22<2:39:35,  1.02s/it]"
     ]
    },
    {
     "name": "stdout",
     "output_type": "stream",
     "text": [
      "- BEAT: No data found, symbol may be delisted\n"
     ]
    },
    {
     "name": "stderr",
     "output_type": "stream",
     "text": [
      "Simulations::   3%|▎         | 332/9552 [05:47<2:15:19,  1.14it/s]"
     ]
    },
    {
     "name": "stdout",
     "output_type": "stream",
     "text": [
      "- EIGI: No data found, symbol may be delisted\n"
     ]
    },
    {
     "name": "stderr",
     "output_type": "stream",
     "text": [
      "Simulations::   4%|▍         | 407/9552 [07:03<2:42:34,  1.07s/it]"
     ]
    },
    {
     "name": "stdout",
     "output_type": "stream",
     "text": [
      "- VRTU: No data found, symbol may be delisted\n"
     ]
    },
    {
     "name": "stderr",
     "output_type": "stream",
     "text": [
      "Simulations::   5%|▍         | 455/9552 [07:53<2:53:44,  1.15s/it]"
     ]
    },
    {
     "name": "stdout",
     "output_type": "stream",
     "text": [
      "- EIGI: No data found, symbol may be delisted\n"
     ]
    },
    {
     "name": "stderr",
     "output_type": "stream",
     "text": [
      "Simulations::   5%|▍         | 457/9552 [07:54<2:37:44,  1.04s/it]"
     ]
    },
    {
     "name": "stdout",
     "output_type": "stream",
     "text": [
      "- EIGI: No data found, symbol may be delisted\n"
     ]
    },
    {
     "name": "stderr",
     "output_type": "stream",
     "text": [
      "Simulations::  19%|█▊        | 1777/9552 [30:08<2:03:47,  1.05it/s]"
     ]
    },
    {
     "name": "stdout",
     "output_type": "stream",
     "text": [
      "- AAXN: No data found, symbol may be delisted\n"
     ]
    },
    {
     "name": "stderr",
     "output_type": "stream",
     "text": [
      "Simulations::  24%|██▎       | 2248/9552 [38:06<1:50:59,  1.10it/s]"
     ]
    },
    {
     "name": "stdout",
     "output_type": "stream",
     "text": [
      "- AAXN: No data found, symbol may be delisted\n"
     ]
    },
    {
     "name": "stderr",
     "output_type": "stream",
     "text": [
      "Simulations::  28%|██▊       | 2697/9552 [45:53<1:51:48,  1.02it/s]"
     ]
    },
    {
     "name": "stdout",
     "output_type": "stream",
     "text": [
      "- VRTU: No data found, symbol may be delisted\n"
     ]
    },
    {
     "name": "stderr",
     "output_type": "stream",
     "text": [
      "Simulations::  29%|██▉       | 2753/9552 [46:50<1:59:48,  1.06s/it]"
     ]
    },
    {
     "name": "stdout",
     "output_type": "stream",
     "text": [
      "- VRTU: No data found, symbol may be delisted\n"
     ]
    },
    {
     "name": "stderr",
     "output_type": "stream",
     "text": [
      "Simulations::  35%|███▍      | 3318/9552 [56:25<1:59:49,  1.15s/it]"
     ]
    },
    {
     "name": "stdout",
     "output_type": "stream",
     "text": [
      "- EIGI: No data found, symbol may be delisted\n"
     ]
    },
    {
     "name": "stderr",
     "output_type": "stream",
     "text": [
      "Simulations::  35%|███▌      | 3371/9552 [57:19<1:36:49,  1.06it/s]"
     ]
    },
    {
     "name": "stdout",
     "output_type": "stream",
     "text": [
      "- SALT: No data found, symbol may be delisted\n"
     ]
    },
    {
     "name": "stderr",
     "output_type": "stream",
     "text": [
      "Simulations::  36%|███▌      | 3438/9552 [58:28<1:43:01,  1.01s/it]"
     ]
    },
    {
     "name": "stdout",
     "output_type": "stream",
     "text": [
      "- VRTU: No data found, symbol may be delisted\n"
     ]
    },
    {
     "name": "stderr",
     "output_type": "stream",
     "text": [
      "Simulations::  36%|███▋      | 3474/9552 [59:03<1:52:52,  1.11s/it]"
     ]
    },
    {
     "name": "stdout",
     "output_type": "stream",
     "text": [
      "- PEIX: No data found, symbol may be delisted\n"
     ]
    },
    {
     "name": "stderr",
     "output_type": "stream",
     "text": [
      "Simulations::  39%|███▉      | 3748/9552 [1:03:38<1:39:42,  1.03s/it]"
     ]
    },
    {
     "name": "stdout",
     "output_type": "stream",
     "text": [
      "- BEAT: No data found, symbol may be delisted\n"
     ]
    },
    {
     "name": "stderr",
     "output_type": "stream",
     "text": [
      "Simulations::  40%|████      | 3847/9552 [1:05:17<1:48:10,  1.14s/it]"
     ]
    },
    {
     "name": "stdout",
     "output_type": "stream",
     "text": [
      "- AAXN: No data found, symbol may be delisted\n"
     ]
    },
    {
     "name": "stderr",
     "output_type": "stream",
     "text": [
      "Simulations::  46%|████▋     | 4427/9552 [1:15:05<1:23:18,  1.03it/s]"
     ]
    },
    {
     "name": "stdout",
     "output_type": "stream",
     "text": [
      "- BEAT: No data found, symbol may be delisted\n"
     ]
    },
    {
     "name": "stderr",
     "output_type": "stream",
     "text": [
      "Simulations::  53%|█████▎    | 5020/9552 [1:25:02<1:25:24,  1.13s/it]"
     ]
    },
    {
     "name": "stdout",
     "output_type": "stream",
     "text": [
      "- PEIX: No data found, symbol may be delisted\n"
     ]
    },
    {
     "name": "stderr",
     "output_type": "stream",
     "text": [
      "Simulations::  56%|█████▌    | 5370/9552 [1:30:50<1:07:38,  1.03it/s]"
     ]
    },
    {
     "name": "stdout",
     "output_type": "stream",
     "text": [
      "- EIGI: No data found, symbol may be delisted\n"
     ]
    },
    {
     "name": "stderr",
     "output_type": "stream",
     "text": [
      "Simulations::  56%|█████▋    | 5394/9552 [1:31:17<1:19:15,  1.14s/it]"
     ]
    },
    {
     "name": "stdout",
     "output_type": "stream",
     "text": [
      "- BEAT: No data found, symbol may be delisted\n"
     ]
    },
    {
     "name": "stderr",
     "output_type": "stream",
     "text": [
      "Simulations::  57%|█████▋    | 5442/9552 [1:32:07<1:12:18,  1.06s/it]"
     ]
    },
    {
     "name": "stdout",
     "output_type": "stream",
     "text": [
      "- VRTU: No data found, symbol may be delisted\n"
     ]
    },
    {
     "name": "stderr",
     "output_type": "stream",
     "text": [
      "Simulations::  58%|█████▊    | 5587/9552 [1:34:33<1:03:44,  1.04it/s]"
     ]
    },
    {
     "name": "stdout",
     "output_type": "stream",
     "text": [
      "- VRTU: No data found, symbol may be delisted\n"
     ]
    },
    {
     "name": "stderr",
     "output_type": "stream",
     "text": [
      "Simulations::  61%|██████    | 5800/9552 [1:38:13<58:54,  1.06it/s]  "
     ]
    },
    {
     "name": "stdout",
     "output_type": "stream",
     "text": [
      "- SALT: No data found, symbol may be delisted\n"
     ]
    },
    {
     "name": "stderr",
     "output_type": "stream",
     "text": [
      "Simulations::  73%|███████▎  | 6928/9552 [1:57:27<47:03,  1.08s/it]  "
     ]
    },
    {
     "name": "stdout",
     "output_type": "stream",
     "text": [
      "- SALT: No data found, symbol may be delisted\n"
     ]
    },
    {
     "name": "stderr",
     "output_type": "stream",
     "text": [
      "Simulations::  73%|███████▎  | 6994/9552 [1:58:36<41:06,  1.04it/s]"
     ]
    },
    {
     "name": "stdout",
     "output_type": "stream",
     "text": [
      "- PEIX: No data found, symbol may be delisted\n"
     ]
    },
    {
     "name": "stderr",
     "output_type": "stream",
     "text": [
      "Simulations::  77%|███████▋  | 7340/9552 [2:04:26<39:21,  1.07s/it]  "
     ]
    },
    {
     "name": "stdout",
     "output_type": "stream",
     "text": [
      "- BEAT: No data found, symbol may be delisted\n"
     ]
    },
    {
     "name": "stderr",
     "output_type": "stream",
     "text": [
      "Simulations::  79%|███████▉  | 7533/9552 [2:07:45<33:02,  1.02it/s]"
     ]
    },
    {
     "name": "stdout",
     "output_type": "stream",
     "text": [
      "- SALT: No data found, symbol may be delisted\n"
     ]
    },
    {
     "name": "stderr",
     "output_type": "stream",
     "text": [
      "Simulations::  83%|████████▎ | 7904/9552 [2:14:07<29:12,  1.06s/it]"
     ]
    },
    {
     "name": "stdout",
     "output_type": "stream",
     "text": [
      "- AAXN: No data found, symbol may be delisted\n"
     ]
    },
    {
     "name": "stderr",
     "output_type": "stream",
     "text": [
      "Simulations::  87%|████████▋ | 8344/9552 [2:21:37<22:34,  1.12s/it]"
     ]
    },
    {
     "name": "stdout",
     "output_type": "stream",
     "text": [
      "- SALT: No data found, symbol may be delisted\n"
     ]
    },
    {
     "name": "stderr",
     "output_type": "stream",
     "text": [
      "Simulations::  89%|████████▉ | 8510/9552 [2:24:27<15:02,  1.16it/s]"
     ]
    },
    {
     "name": "stdout",
     "output_type": "stream",
     "text": [
      "- SALT: No data found, symbol may be delisted\n"
     ]
    },
    {
     "name": "stderr",
     "output_type": "stream",
     "text": [
      "Simulations::  90%|█████████ | 8601/9552 [2:26:02<16:32,  1.04s/it]"
     ]
    },
    {
     "name": "stdout",
     "output_type": "stream",
     "text": [
      "- EIGI: No data found, symbol may be delisted\n"
     ]
    },
    {
     "name": "stderr",
     "output_type": "stream",
     "text": [
      "Simulations::  93%|█████████▎| 8924/9552 [2:31:37<09:15,  1.13it/s]"
     ]
    },
    {
     "name": "stdout",
     "output_type": "stream",
     "text": [
      "- AAXN: No data found, symbol may be delisted\n"
     ]
    },
    {
     "name": "stderr",
     "output_type": "stream",
     "text": [
      "Simulations::  96%|█████████▌| 9151/9552 [2:35:37<07:13,  1.08s/it]"
     ]
    },
    {
     "name": "stdout",
     "output_type": "stream",
     "text": [
      "- BEAT: No data found, symbol may be delisted\n"
     ]
    },
    {
     "name": "stderr",
     "output_type": "stream",
     "text": [
      "Simulations::  99%|█████████▉| 9502/9552 [2:41:41<00:50,  1.01s/it]"
     ]
    },
    {
     "name": "stdout",
     "output_type": "stream",
     "text": [
      "- PEIX: No data found, symbol may be delisted\n"
     ]
    },
    {
     "name": "stderr",
     "output_type": "stream",
     "text": [
      "Simulations:: 100%|██████████| 9552/9552 [2:42:33<00:00,  1.02s/it]"
     ]
    },
    {
     "name": "stdout",
     "output_type": "stream",
     "text": [
      "CPU times: user 11min 38s, sys: 20 s, total: 11min 58s\n",
      "Wall time: 2h 42min 33s\n",
      "         \t pos     neg    zero    total\n",
      "         \t======  ======  =====   ======\n",
      "< 55 days\t3445.0\t2782.0\t42.0\t6269.0\n",
      ">= 55 days\t1774.0\t1502.0\t7.0\t3283.0\n",
      "         \t------\t------\t-----\t------\n",
      "         \t5219.0\t4284.0\t49.0\t9552.0\t\n",
      "\n",
      "         \t pos     neg    zero    total\n",
      "         \t======  ======  =====   ======\n",
      "< 55 days\t36.07\t29.12\t0.44\t65.63\n",
      ">= 55 days\t18.57\t15.72\t0.07\t34.37\n",
      "         \t------\t------\t-----\t------\n",
      "         \t54.64\t44.85\t0.51\t100.00\t"
     ]
    },
    {
     "name": "stderr",
     "output_type": "stream",
     "text": [
      "\n"
     ]
    }
   ],
   "source": [
    "%time sim_df = simulate_trades(len(test_df))\n",
    "stats_table(sim_df, 55)"
   ]
  },
  {
   "cell_type": "code",
   "execution_count": 24,
   "metadata": {},
   "outputs": [
    {
     "name": "stderr",
     "output_type": "stream",
     "text": [
      "Simulations::   1%|          | 114/9552 [01:53<2:07:41,  1.23it/s]"
     ]
    },
    {
     "name": "stdout",
     "output_type": "stream",
     "text": [
      "- SALT: No data found, symbol may be delisted\n"
     ]
    },
    {
     "name": "stderr",
     "output_type": "stream",
     "text": [
      "Simulations::   3%|▎         | 281/9552 [04:43<2:50:22,  1.10s/it]"
     ]
    },
    {
     "name": "stdout",
     "output_type": "stream",
     "text": [
      "- PEIX: No data found, symbol may be delisted\n"
     ]
    },
    {
     "name": "stderr",
     "output_type": "stream",
     "text": [
      "Simulations::   6%|▌         | 591/9552 [10:04<2:32:46,  1.02s/it]"
     ]
    },
    {
     "name": "stdout",
     "output_type": "stream",
     "text": [
      "- VRTU: No data found, symbol may be delisted\n"
     ]
    },
    {
     "name": "stderr",
     "output_type": "stream",
     "text": [
      "Simulations::  11%|█         | 1016/9552 [17:21<2:24:18,  1.01s/it]"
     ]
    },
    {
     "name": "stdout",
     "output_type": "stream",
     "text": [
      "- BEAT: No data found, symbol may be delisted\n"
     ]
    },
    {
     "name": "stderr",
     "output_type": "stream",
     "text": [
      "\r",
      "Simulations::  11%|█         | 1017/9552 [17:22<2:19:17,  1.02it/s]"
     ]
    },
    {
     "name": "stdout",
     "output_type": "stream",
     "text": [
      "- PEIX: No data found, symbol may be delisted\n"
     ]
    },
    {
     "name": "stderr",
     "output_type": "stream",
     "text": [
      "Simulations::  36%|███▌      | 3391/9552 [58:18<1:45:56,  1.03s/it]"
     ]
    },
    {
     "name": "stdout",
     "output_type": "stream",
     "text": [
      "- BEAT: No data found, symbol may be delisted\n"
     ]
    },
    {
     "name": "stderr",
     "output_type": "stream",
     "text": [
      "Simulations::  43%|████▎     | 4061/9552 [1:09:43<1:22:41,  1.11it/s]"
     ]
    },
    {
     "name": "stdout",
     "output_type": "stream",
     "text": [
      "- VRTU: No data found, symbol may be delisted\n"
     ]
    },
    {
     "name": "stderr",
     "output_type": "stream",
     "text": [
      "Simulations::  48%|████▊     | 4574/9552 [1:18:25<1:27:52,  1.06s/it]"
     ]
    },
    {
     "name": "stdout",
     "output_type": "stream",
     "text": [
      "- SALT: No data found, symbol may be delisted\n"
     ]
    },
    {
     "name": "stderr",
     "output_type": "stream",
     "text": [
      "Simulations::  52%|█████▏    | 4962/9552 [1:25:01<1:14:40,  1.02it/s]"
     ]
    },
    {
     "name": "stdout",
     "output_type": "stream",
     "text": [
      "- AAXN: No data found, symbol may be delisted\n"
     ]
    },
    {
     "name": "stderr",
     "output_type": "stream",
     "text": [
      "Simulations::  53%|█████▎    | 5059/9552 [1:26:37<1:12:07,  1.04it/s]"
     ]
    },
    {
     "name": "stdout",
     "output_type": "stream",
     "text": [
      "- PEIX: No data found, symbol may be delisted\n"
     ]
    },
    {
     "name": "stderr",
     "output_type": "stream",
     "text": [
      "Simulations::  57%|█████▋    | 5419/9552 [1:32:47<1:02:13,  1.11it/s]"
     ]
    },
    {
     "name": "stdout",
     "output_type": "stream",
     "text": [
      "- EIGI: No data found, symbol may be delisted\n"
     ]
    },
    {
     "name": "stderr",
     "output_type": "stream",
     "text": [
      "Simulations::  57%|█████▋    | 5447/9552 [1:33:15<1:01:53,  1.11it/s]"
     ]
    },
    {
     "name": "stdout",
     "output_type": "stream",
     "text": [
      "- PEIX: No data found, symbol may be delisted\n"
     ]
    },
    {
     "name": "stderr",
     "output_type": "stream",
     "text": [
      "Simulations::  57%|█████▋    | 5457/9552 [1:33:24<1:03:50,  1.07it/s]"
     ]
    },
    {
     "name": "stdout",
     "output_type": "stream",
     "text": [
      "- PEIX: No data found, symbol may be delisted\n"
     ]
    },
    {
     "name": "stderr",
     "output_type": "stream",
     "text": [
      "Simulations::  58%|█████▊    | 5576/9552 [1:35:23<1:05:39,  1.01it/s]"
     ]
    },
    {
     "name": "stdout",
     "output_type": "stream",
     "text": [
      "- SALT: No data found, symbol may be delisted\n"
     ]
    },
    {
     "name": "stderr",
     "output_type": "stream",
     "text": [
      "Simulations::  60%|█████▉    | 5714/9552 [1:37:44<1:10:43,  1.11s/it]"
     ]
    },
    {
     "name": "stdout",
     "output_type": "stream",
     "text": [
      "- SALT: No data found, symbol may be delisted\n"
     ]
    },
    {
     "name": "stderr",
     "output_type": "stream",
     "text": [
      "Simulations::  64%|██████▍   | 6157/9552 [1:45:12<53:29,  1.06it/s]  "
     ]
    },
    {
     "name": "stdout",
     "output_type": "stream",
     "text": [
      "- PEIX: No data found, symbol may be delisted\n",
      "- AAXN: No data found, symbol may be delisted\n"
     ]
    },
    {
     "name": "stderr",
     "output_type": "stream",
     "text": [
      "Simulations::  67%|██████▋   | 6442/9552 [1:50:12<55:00,  1.06s/it]  "
     ]
    },
    {
     "name": "stdout",
     "output_type": "stream",
     "text": [
      "- PEIX: No data found, symbol may be delisted\n"
     ]
    },
    {
     "name": "stderr",
     "output_type": "stream",
     "text": [
      "Simulations::  70%|███████   | 6710/9552 [1:55:01<39:24,  1.20it/s]  "
     ]
    },
    {
     "name": "stdout",
     "output_type": "stream",
     "text": [
      "- BEAT: No data found, symbol may be delisted\n"
     ]
    },
    {
     "name": "stderr",
     "output_type": "stream",
     "text": [
      "Simulations::  72%|███████▏  | 6864/9552 [1:57:44<46:43,  1.04s/it]  "
     ]
    },
    {
     "name": "stdout",
     "output_type": "stream",
     "text": [
      "- SALT: No data found, symbol may be delisted\n"
     ]
    },
    {
     "name": "stderr",
     "output_type": "stream",
     "text": [
      "Simulations::  73%|███████▎  | 6959/9552 [1:59:21<45:48,  1.06s/it]"
     ]
    },
    {
     "name": "stdout",
     "output_type": "stream",
     "text": [
      "- SALT: No data found, symbol may be delisted\n"
     ]
    },
    {
     "name": "stderr",
     "output_type": "stream",
     "text": [
      "Simulations::  74%|███████▍  | 7073/9552 [2:01:24<43:23,  1.05s/it]  "
     ]
    },
    {
     "name": "stdout",
     "output_type": "stream",
     "text": [
      "- VRTU: No data found, symbol may be delisted\n"
     ]
    },
    {
     "name": "stderr",
     "output_type": "stream",
     "text": [
      "Simulations::  74%|███████▍  | 7109/9552 [2:02:01<38:41,  1.05it/s]"
     ]
    },
    {
     "name": "stdout",
     "output_type": "stream",
     "text": [
      "- VRTU: No data found, symbol may be delisted\n"
     ]
    },
    {
     "name": "stderr",
     "output_type": "stream",
     "text": [
      "Simulations::  78%|███████▊  | 7437/9552 [2:07:36<34:41,  1.02it/s]"
     ]
    },
    {
     "name": "stdout",
     "output_type": "stream",
     "text": [
      "- VRTU: No data found, symbol may be delisted\n"
     ]
    },
    {
     "name": "stderr",
     "output_type": "stream",
     "text": [
      "Simulations::  78%|███████▊  | 7463/9552 [2:08:03<33:45,  1.03it/s]"
     ]
    },
    {
     "name": "stdout",
     "output_type": "stream",
     "text": [
      "- VRTU: No data found, symbol may be delisted\n"
     ]
    },
    {
     "name": "stderr",
     "output_type": "stream",
     "text": [
      "Simulations::  78%|███████▊  | 7467/9552 [2:08:08<38:11,  1.10s/it]"
     ]
    },
    {
     "name": "stdout",
     "output_type": "stream",
     "text": [
      "- EIGI: No data found, symbol may be delisted\n"
     ]
    },
    {
     "name": "stderr",
     "output_type": "stream",
     "text": [
      "Simulations::  79%|███████▊  | 7518/9552 [2:08:59<34:53,  1.03s/it]"
     ]
    },
    {
     "name": "stdout",
     "output_type": "stream",
     "text": [
      "- EIGI: No data found, symbol may be delisted\n"
     ]
    },
    {
     "name": "stderr",
     "output_type": "stream",
     "text": [
      "Simulations::  81%|████████  | 7734/9552 [2:12:52<27:07,  1.12it/s]"
     ]
    },
    {
     "name": "stdout",
     "output_type": "stream",
     "text": [
      "- AAXN: No data found, symbol may be delisted\n"
     ]
    },
    {
     "name": "stderr",
     "output_type": "stream",
     "text": [
      "Simulations::  84%|████████▍ | 8063/9552 [2:18:26<26:17,  1.06s/it]"
     ]
    },
    {
     "name": "stdout",
     "output_type": "stream",
     "text": [
      "- BEAT: No data found, symbol may be delisted\n"
     ]
    },
    {
     "name": "stderr",
     "output_type": "stream",
     "text": [
      "Simulations::  91%|█████████▏| 8734/9552 [2:30:07<14:58,  1.10s/it]"
     ]
    },
    {
     "name": "stdout",
     "output_type": "stream",
     "text": [
      "- AAXN: No data found, symbol may be delisted\n"
     ]
    },
    {
     "name": "stderr",
     "output_type": "stream",
     "text": [
      "Simulations::  93%|█████████▎| 8913/9552 [2:33:14<11:46,  1.10s/it]"
     ]
    },
    {
     "name": "stdout",
     "output_type": "stream",
     "text": [
      "- AAXN: No data found, symbol may be delisted\n"
     ]
    },
    {
     "name": "stderr",
     "output_type": "stream",
     "text": [
      "Simulations::  94%|█████████▎| 8939/9552 [2:33:42<10:38,  1.04s/it]"
     ]
    },
    {
     "name": "stdout",
     "output_type": "stream",
     "text": [
      "- PEIX: No data found, symbol may be delisted\n"
     ]
    },
    {
     "name": "stderr",
     "output_type": "stream",
     "text": [
      "Simulations::  95%|█████████▌| 9111/9552 [2:36:47<07:40,  1.05s/it]"
     ]
    },
    {
     "name": "stdout",
     "output_type": "stream",
     "text": [
      "- SALT: No data found, symbol may be delisted\n"
     ]
    },
    {
     "name": "stderr",
     "output_type": "stream",
     "text": [
      "Simulations::  99%|█████████▉| 9482/9552 [2:43:21<01:12,  1.04s/it]"
     ]
    },
    {
     "name": "stdout",
     "output_type": "stream",
     "text": [
      "- BEAT: No data found, symbol may be delisted\n"
     ]
    },
    {
     "name": "stderr",
     "output_type": "stream",
     "text": [
      "Simulations:: 100%|██████████| 9552/9552 [2:44:33<00:00,  1.03s/it]"
     ]
    },
    {
     "name": "stdout",
     "output_type": "stream",
     "text": [
      "CPU times: user 11min 38s, sys: 19.9 s, total: 11min 58s\n",
      "Wall time: 2h 44min 33s\n",
      "         \t pos     neg    zero    total\n",
      "         \t======  ======  =====   ======\n",
      "< 55 days\t3381.0\t2777.0\t46.0\t6204.0\n",
      ">= 55 days\t1818.0\t1527.0\t3.0\t3348.0\n",
      "         \t------\t------\t-----\t------\n",
      "         \t5199.0\t4304.0\t49.0\t9552.0\t\n",
      "\n",
      "         \t pos     neg    zero    total\n",
      "         \t======  ======  =====   ======\n",
      "< 55 days\t35.40\t29.07\t0.48\t64.95\n",
      ">= 55 days\t19.03\t15.99\t0.03\t35.05\n",
      "         \t------\t------\t-----\t------\n",
      "         \t54.43\t45.06\t0.51\t100.00\t"
     ]
    },
    {
     "name": "stderr",
     "output_type": "stream",
     "text": [
      "\n"
     ]
    }
   ],
   "source": [
    "%time sim_df = simulate_trades(len(test_df))\n",
    "stats_table(sim_df, 55)"
   ]
  },
  {
   "cell_type": "code",
   "execution_count": 25,
   "metadata": {},
   "outputs": [
    {
     "data": {
      "text/plain": [
       "'/Users/frkornet/CDA/Project/stockie/notebook'"
      ]
     },
     "execution_count": 25,
     "metadata": {},
     "output_type": "execute_result"
    }
   ],
   "source": [
    "pwd"
   ]
  },
  {
   "cell_type": "code",
   "execution_count": 28,
   "metadata": {},
   "outputs": [
    {
     "data": {
      "text/html": [
       "<div>\n",
       "<style scoped>\n",
       "    .dataframe tbody tr th:only-of-type {\n",
       "        vertical-align: middle;\n",
       "    }\n",
       "\n",
       "    .dataframe tbody tr th {\n",
       "        vertical-align: top;\n",
       "    }\n",
       "\n",
       "    .dataframe thead th {\n",
       "        text-align: right;\n",
       "    }\n",
       "</style>\n",
       "<table border=\"1\" class=\"dataframe\">\n",
       "  <thead>\n",
       "    <tr style=\"text-align: right;\">\n",
       "      <th></th>\n",
       "      <th>buy_close</th>\n",
       "      <th>buy_date</th>\n",
       "      <th>daily_return</th>\n",
       "      <th>gain_pct</th>\n",
       "      <th>sell_close</th>\n",
       "      <th>sell_date</th>\n",
       "      <th>ticker</th>\n",
       "      <th>trading_days</th>\n",
       "    </tr>\n",
       "  </thead>\n",
       "  <tbody>\n",
       "    <tr>\n",
       "      <th>0</th>\n",
       "      <td>65.75</td>\n",
       "      <td>2018-03-22</td>\n",
       "      <td>0.04</td>\n",
       "      <td>6.66</td>\n",
       "      <td>70.13</td>\n",
       "      <td>2018-11-28</td>\n",
       "      <td>A</td>\n",
       "      <td>174</td>\n",
       "    </tr>\n",
       "    <tr>\n",
       "      <th>1</th>\n",
       "      <td>62.10</td>\n",
       "      <td>2018-12-21</td>\n",
       "      <td>0.75</td>\n",
       "      <td>11.82</td>\n",
       "      <td>69.44</td>\n",
       "      <td>2019-01-15</td>\n",
       "      <td>A</td>\n",
       "      <td>15</td>\n",
       "    </tr>\n",
       "    <tr>\n",
       "      <th>2</th>\n",
       "      <td>66.66</td>\n",
       "      <td>2019-05-15</td>\n",
       "      <td>0.30</td>\n",
       "      <td>7.41</td>\n",
       "      <td>71.60</td>\n",
       "      <td>2019-06-19</td>\n",
       "      <td>A</td>\n",
       "      <td>24</td>\n",
       "    </tr>\n",
       "    <tr>\n",
       "      <th>3</th>\n",
       "      <td>68.74</td>\n",
       "      <td>2019-07-17</td>\n",
       "      <td>0.16</td>\n",
       "      <td>5.64</td>\n",
       "      <td>72.62</td>\n",
       "      <td>2019-09-05</td>\n",
       "      <td>A</td>\n",
       "      <td>35</td>\n",
       "    </tr>\n",
       "    <tr>\n",
       "      <th>4</th>\n",
       "      <td>81.90</td>\n",
       "      <td>2020-01-31</td>\n",
       "      <td>-0.09</td>\n",
       "      <td>-4.37</td>\n",
       "      <td>78.32</td>\n",
       "      <td>2020-04-16</td>\n",
       "      <td>A</td>\n",
       "      <td>52</td>\n",
       "    </tr>\n",
       "    <tr>\n",
       "      <th>...</th>\n",
       "      <td>...</td>\n",
       "      <td>...</td>\n",
       "      <td>...</td>\n",
       "      <td>...</td>\n",
       "      <td>...</td>\n",
       "      <td>...</td>\n",
       "      <td>...</td>\n",
       "      <td>...</td>\n",
       "    </tr>\n",
       "    <tr>\n",
       "      <th>10902</th>\n",
       "      <td>2.77</td>\n",
       "      <td>2018-12-04</td>\n",
       "      <td>0.32</td>\n",
       "      <td>6.50</td>\n",
       "      <td>2.95</td>\n",
       "      <td>2019-01-04</td>\n",
       "      <td>ZYXI</td>\n",
       "      <td>20</td>\n",
       "    </tr>\n",
       "    <tr>\n",
       "      <th>10903</th>\n",
       "      <td>7.70</td>\n",
       "      <td>2019-07-15</td>\n",
       "      <td>1.06</td>\n",
       "      <td>27.53</td>\n",
       "      <td>9.82</td>\n",
       "      <td>2019-08-15</td>\n",
       "      <td>ZYXI</td>\n",
       "      <td>23</td>\n",
       "    </tr>\n",
       "    <tr>\n",
       "      <th>10904</th>\n",
       "      <td>9.76</td>\n",
       "      <td>2019-08-22</td>\n",
       "      <td>-0.22</td>\n",
       "      <td>-3.69</td>\n",
       "      <td>9.40</td>\n",
       "      <td>2019-09-17</td>\n",
       "      <td>ZYXI</td>\n",
       "      <td>17</td>\n",
       "    </tr>\n",
       "    <tr>\n",
       "      <th>10905</th>\n",
       "      <td>9.01</td>\n",
       "      <td>2019-10-30</td>\n",
       "      <td>0.26</td>\n",
       "      <td>21.86</td>\n",
       "      <td>10.98</td>\n",
       "      <td>2020-02-20</td>\n",
       "      <td>ZYXI</td>\n",
       "      <td>76</td>\n",
       "    </tr>\n",
       "    <tr>\n",
       "      <th>10906</th>\n",
       "      <td>9.16</td>\n",
       "      <td>2020-03-12</td>\n",
       "      <td>0.24</td>\n",
       "      <td>65.72</td>\n",
       "      <td>15.18</td>\n",
       "      <td>2021-01-07</td>\n",
       "      <td>ZYXI</td>\n",
       "      <td>208</td>\n",
       "    </tr>\n",
       "  </tbody>\n",
       "</table>\n",
       "<p>10907 rows × 8 columns</p>\n",
       "</div>"
      ],
      "text/plain": [
       "       buy_close    buy_date  daily_return  gain_pct  sell_close   sell_date  \\\n",
       "0          65.75  2018-03-22          0.04      6.66       70.13  2018-11-28   \n",
       "1          62.10  2018-12-21          0.75     11.82       69.44  2019-01-15   \n",
       "2          66.66  2019-05-15          0.30      7.41       71.60  2019-06-19   \n",
       "3          68.74  2019-07-17          0.16      5.64       72.62  2019-09-05   \n",
       "4          81.90  2020-01-31         -0.09     -4.37       78.32  2020-04-16   \n",
       "...          ...         ...           ...       ...         ...         ...   \n",
       "10902       2.77  2018-12-04          0.32      6.50        2.95  2019-01-04   \n",
       "10903       7.70  2019-07-15          1.06     27.53        9.82  2019-08-15   \n",
       "10904       9.76  2019-08-22         -0.22     -3.69        9.40  2019-09-17   \n",
       "10905       9.01  2019-10-30          0.26     21.86       10.98  2020-02-20   \n",
       "10906       9.16  2020-03-12          0.24     65.72       15.18  2021-01-07   \n",
       "\n",
       "      ticker  trading_days  \n",
       "0          A           174  \n",
       "1          A            15  \n",
       "2          A            24  \n",
       "3          A            35  \n",
       "4          A            52  \n",
       "...      ...           ...  \n",
       "10902   ZYXI            20  \n",
       "10903   ZYXI            23  \n",
       "10904   ZYXI            17  \n",
       "10905   ZYXI            76  \n",
       "10906   ZYXI           208  \n",
       "\n",
       "[10907 rows x 8 columns]"
      ]
     },
     "execution_count": 28,
     "metadata": {},
     "output_type": "execute_result"
    }
   ],
   "source": [
    "fnm = '/Users/frkornet/CDA/Project/stockie/data/negtrades/test_possible_trades_05.csv'\n",
    "negtrades_test_possible_trades = pd.read_csv(fnm)\n",
    "negtrades_test_possible_trades"
   ]
  },
  {
   "cell_type": "code",
   "execution_count": 30,
   "metadata": {},
   "outputs": [
    {
     "name": "stdout",
     "output_type": "stream",
     "text": [
      "         \t pos     neg    zero    total\n",
      "         \t======  ======  =====   ======\n",
      "< 55 days\t5845.0\t1194.0\t29.0\t7068.0\n",
      ">= 55 days\t1515.0\t2316.0\t8.0\t3839.0\n",
      "         \t------\t------\t-----\t------\n",
      "         \t7360.0\t3510.0\t37.0\t10907.0\t\n",
      "\n",
      "         \t pos     neg    zero    total\n",
      "         \t======  ======  =====   ======\n",
      "< 55 days\t53.59\t10.95\t0.27\t64.80\n",
      ">= 55 days\t13.89\t21.23\t0.07\t35.20\n",
      "         \t------\t------\t-----\t------\n",
      "         \t67.48\t32.18\t0.34\t100.00\t"
     ]
    }
   ],
   "source": [
    "stats_table(negtrades_test_possible_trades, 55)"
   ]
  },
  {
   "cell_type": "code",
   "execution_count": 134,
   "metadata": {},
   "outputs": [
    {
     "data": {
      "text/html": [
       "<div>\n",
       "<style scoped>\n",
       "    .dataframe tbody tr th:only-of-type {\n",
       "        vertical-align: middle;\n",
       "    }\n",
       "\n",
       "    .dataframe tbody tr th {\n",
       "        vertical-align: top;\n",
       "    }\n",
       "\n",
       "    .dataframe thead th {\n",
       "        text-align: right;\n",
       "    }\n",
       "</style>\n",
       "<table border=\"1\" class=\"dataframe\">\n",
       "  <thead>\n",
       "    <tr style=\"text-align: right;\">\n",
       "      <th></th>\n",
       "      <th>buy_close</th>\n",
       "      <th>buy_date</th>\n",
       "      <th>daily_return</th>\n",
       "      <th>gain_pct</th>\n",
       "      <th>sell_close</th>\n",
       "      <th>sell_date</th>\n",
       "      <th>ticker</th>\n",
       "      <th>trading_days</th>\n",
       "    </tr>\n",
       "  </thead>\n",
       "  <tbody>\n",
       "    <tr>\n",
       "      <th>0</th>\n",
       "      <td>39.78</td>\n",
       "      <td>2018-03-23</td>\n",
       "      <td>0.27</td>\n",
       "      <td>33.11</td>\n",
       "      <td>52.95</td>\n",
       "      <td>2018-08-27</td>\n",
       "      <td>AAPL</td>\n",
       "      <td>108</td>\n",
       "    </tr>\n",
       "    <tr>\n",
       "      <th>1</th>\n",
       "      <td>52.56</td>\n",
       "      <td>2018-10-26</td>\n",
       "      <td>-0.09</td>\n",
       "      <td>-8.83</td>\n",
       "      <td>47.92</td>\n",
       "      <td>2019-04-04</td>\n",
       "      <td>AAPL</td>\n",
       "      <td>108</td>\n",
       "    </tr>\n",
       "    <tr>\n",
       "      <th>2</th>\n",
       "      <td>44.93</td>\n",
       "      <td>2019-05-22</td>\n",
       "      <td>0.31</td>\n",
       "      <td>46.38</td>\n",
       "      <td>65.77</td>\n",
       "      <td>2019-11-15</td>\n",
       "      <td>AAPL</td>\n",
       "      <td>124</td>\n",
       "    </tr>\n",
       "    <tr>\n",
       "      <th>3</th>\n",
       "      <td>67.85</td>\n",
       "      <td>2020-02-27</td>\n",
       "      <td>0.18</td>\n",
       "      <td>8.80</td>\n",
       "      <td>73.82</td>\n",
       "      <td>2020-05-05</td>\n",
       "      <td>AAPL</td>\n",
       "      <td>47</td>\n",
       "    </tr>\n",
       "    <tr>\n",
       "      <th>4</th>\n",
       "      <td>37.83</td>\n",
       "      <td>2018-10-24</td>\n",
       "      <td>0.00</td>\n",
       "      <td>0.79</td>\n",
       "      <td>38.13</td>\n",
       "      <td>2019-07-05</td>\n",
       "      <td>ABCB</td>\n",
       "      <td>173</td>\n",
       "    </tr>\n",
       "    <tr>\n",
       "      <th>...</th>\n",
       "      <td>...</td>\n",
       "      <td>...</td>\n",
       "      <td>...</td>\n",
       "      <td>...</td>\n",
       "      <td>...</td>\n",
       "      <td>...</td>\n",
       "      <td>...</td>\n",
       "      <td>...</td>\n",
       "    </tr>\n",
       "    <tr>\n",
       "      <th>1649</th>\n",
       "      <td>7.74</td>\n",
       "      <td>2019-08-16</td>\n",
       "      <td>-0.18</td>\n",
       "      <td>-10.21</td>\n",
       "      <td>6.95</td>\n",
       "      <td>2019-11-08</td>\n",
       "      <td>ZIXI</td>\n",
       "      <td>59</td>\n",
       "    </tr>\n",
       "    <tr>\n",
       "      <th>1650</th>\n",
       "      <td>3.92</td>\n",
       "      <td>2020-03-17</td>\n",
       "      <td>1.53</td>\n",
       "      <td>72.70</td>\n",
       "      <td>6.77</td>\n",
       "      <td>2020-05-07</td>\n",
       "      <td>ZIXI</td>\n",
       "      <td>36</td>\n",
       "    </tr>\n",
       "    <tr>\n",
       "      <th>1651</th>\n",
       "      <td>24.25</td>\n",
       "      <td>2018-05-22</td>\n",
       "      <td>0.28</td>\n",
       "      <td>18.35</td>\n",
       "      <td>28.70</td>\n",
       "      <td>2018-08-16</td>\n",
       "      <td>ZUMZ</td>\n",
       "      <td>60</td>\n",
       "    </tr>\n",
       "    <tr>\n",
       "      <th>1652</th>\n",
       "      <td>27.00</td>\n",
       "      <td>2018-09-25</td>\n",
       "      <td>-0.23</td>\n",
       "      <td>-15.22</td>\n",
       "      <td>22.89</td>\n",
       "      <td>2019-01-10</td>\n",
       "      <td>ZUMZ</td>\n",
       "      <td>73</td>\n",
       "    </tr>\n",
       "    <tr>\n",
       "      <th>1653</th>\n",
       "      <td>32.61</td>\n",
       "      <td>2020-02-14</td>\n",
       "      <td>-0.89</td>\n",
       "      <td>-35.33</td>\n",
       "      <td>21.09</td>\n",
       "      <td>2020-04-27</td>\n",
       "      <td>ZUMZ</td>\n",
       "      <td>49</td>\n",
       "    </tr>\n",
       "  </tbody>\n",
       "</table>\n",
       "<p>1654 rows × 8 columns</p>\n",
       "</div>"
      ],
      "text/plain": [
       "      buy_close    buy_date  daily_return  gain_pct  sell_close   sell_date  \\\n",
       "0         39.78  2018-03-23          0.27     33.11       52.95  2018-08-27   \n",
       "1         52.56  2018-10-26         -0.09     -8.83       47.92  2019-04-04   \n",
       "2         44.93  2019-05-22          0.31     46.38       65.77  2019-11-15   \n",
       "3         67.85  2020-02-27          0.18      8.80       73.82  2020-05-05   \n",
       "4         37.83  2018-10-24          0.00      0.79       38.13  2019-07-05   \n",
       "...         ...         ...           ...       ...         ...         ...   \n",
       "1649       7.74  2019-08-16         -0.18    -10.21        6.95  2019-11-08   \n",
       "1650       3.92  2020-03-17          1.53     72.70        6.77  2020-05-07   \n",
       "1651      24.25  2018-05-22          0.28     18.35       28.70  2018-08-16   \n",
       "1652      27.00  2018-09-25         -0.23    -15.22       22.89  2019-01-10   \n",
       "1653      32.61  2020-02-14         -0.89    -35.33       21.09  2020-04-27   \n",
       "\n",
       "     ticker  trading_days  \n",
       "0      AAPL           108  \n",
       "1      AAPL           108  \n",
       "2      AAPL           124  \n",
       "3      AAPL            47  \n",
       "4      ABCB           173  \n",
       "...     ...           ...  \n",
       "1649   ZIXI            59  \n",
       "1650   ZIXI            36  \n",
       "1651   ZUMZ            60  \n",
       "1652   ZUMZ            73  \n",
       "1653   ZUMZ            49  \n",
       "\n",
       "[1654 rows x 8 columns]"
      ]
     },
     "execution_count": 134,
     "metadata": {},
     "output_type": "execute_result"
    }
   ],
   "source": [
    "new_test_df = pd.read_csv('/Users/frkornet/CDA/Project/stockie/data/test_possible_trades.csv')\n",
    "new_test_df"
   ]
  },
  {
   "cell_type": "code",
   "execution_count": 137,
   "metadata": {},
   "outputs": [
    {
     "name": "stdout",
     "output_type": "stream",
     "text": [
      "         \t pos     neg    zero    total\n",
      "         \t======  ======  =====   ======\n",
      "< 55 days\t786\t135\t2\t923\t\n",
      ">= 55 days\t361\t370\t0\t731\t\n",
      "         \t------\t------\t-----\t------\n",
      "         \t1147\t505\t2\t1654\t\n",
      "\n",
      "\n",
      "\n",
      "         \t pos     neg    zero    total\n",
      "         \t======  ======  =====   ======\n",
      "< 55 days\t47.52\t8.16\t0.12\t55.80\t\n",
      ">= 55 days\t21.83\t22.37\t0.00\t44.20\t\n",
      "         \t------\t------\t-----\t------\n",
      "         \t69.35\t30.53\t0.12\t100.00\t"
     ]
    },
    {
     "data": {
      "text/plain": [
       "(array([[ 786.,  135.,    2.,  923.],\n",
       "        [ 361.,  370.,    0.,  731.],\n",
       "        [1147.,  505.,    2., 1654.]]),\n",
       " array([[ 47.52116082,   8.16203144,   0.12091898,  55.80411125],\n",
       "        [ 21.82587666,  22.37001209,   0.        ,  44.19588875],\n",
       "        [ 69.34703748,  30.53204353,   0.12091898, 100.        ]]))"
      ]
     },
     "execution_count": 137,
     "metadata": {},
     "output_type": "execute_result"
    }
   ],
   "source": [
    "stats_table(new_test_df, 55)"
   ]
  },
  {
   "cell_type": "code",
   "execution_count": 35,
   "metadata": {},
   "outputs": [
    {
     "data": {
      "text/plain": [
       "9552"
      ]
     },
     "execution_count": 35,
     "metadata": {},
     "output_type": "execute_result"
    }
   ],
   "source": [
    "len(test_df)"
   ]
  },
  {
   "cell_type": "code",
   "execution_count": null,
   "metadata": {},
   "outputs": [],
   "source": []
  },
  {
   "cell_type": "code",
   "execution_count": 140,
   "metadata": {},
   "outputs": [
    {
     "name": "stdout",
     "output_type": "stream",
     "text": [
      "('MACD', 'PctDiff', 'StdDev') 3\n",
      "('MACD', 'PctDiff', 'RSI') 3\n",
      "('MACD', 'PctDiff', 'WPR') 3\n",
      "('MACD', 'PctDiff', 'MFI') 3\n",
      "('MACD', 'PctDiff', 'BBP') 3\n",
      "('MACD', 'StdDev', 'RSI') 3\n",
      "('MACD', 'StdDev', 'WPR') 3\n",
      "('MACD', 'StdDev', 'MFI') 3\n",
      "('MACD', 'StdDev', 'BBP') 3\n",
      "('MACD', 'RSI', 'WPR') 3\n",
      "('MACD', 'RSI', 'MFI') 3\n",
      "('MACD', 'RSI', 'BBP') 3\n",
      "('MACD', 'WPR', 'MFI') 3\n",
      "('MACD', 'WPR', 'BBP') 3\n",
      "('MACD', 'MFI', 'BBP') 3\n",
      "('PctDiff', 'StdDev', 'RSI') 3\n",
      "('PctDiff', 'StdDev', 'WPR') 3\n",
      "('PctDiff', 'StdDev', 'MFI') 3\n",
      "('PctDiff', 'StdDev', 'BBP') 3\n",
      "('PctDiff', 'RSI', 'WPR') 3\n",
      "('PctDiff', 'RSI', 'MFI') 3\n",
      "('PctDiff', 'RSI', 'BBP') 3\n",
      "('PctDiff', 'WPR', 'MFI') 3\n",
      "('PctDiff', 'WPR', 'BBP') 3\n",
      "('PctDiff', 'MFI', 'BBP') 3\n",
      "('StdDev', 'RSI', 'WPR') 3\n",
      "('StdDev', 'RSI', 'MFI') 3\n",
      "('StdDev', 'RSI', 'BBP') 3\n",
      "('StdDev', 'WPR', 'MFI') 3\n",
      "('StdDev', 'WPR', 'BBP') 3\n",
      "('StdDev', 'MFI', 'BBP') 3\n",
      "('RSI', 'WPR', 'MFI') 3\n",
      "('RSI', 'WPR', 'BBP') 3\n",
      "('RSI', 'MFI', 'BBP') 3\n",
      "('WPR', 'MFI', 'BBP') 3\n",
      "('MACD', 'PctDiff', 'StdDev', 'RSI') 4\n",
      "('MACD', 'PctDiff', 'StdDev', 'WPR') 4\n",
      "('MACD', 'PctDiff', 'StdDev', 'MFI') 4\n",
      "('MACD', 'PctDiff', 'StdDev', 'BBP') 4\n",
      "('MACD', 'PctDiff', 'RSI', 'WPR') 4\n",
      "('MACD', 'PctDiff', 'RSI', 'MFI') 4\n",
      "('MACD', 'PctDiff', 'RSI', 'BBP') 4\n",
      "('MACD', 'PctDiff', 'WPR', 'MFI') 4\n",
      "('MACD', 'PctDiff', 'WPR', 'BBP') 4\n",
      "('MACD', 'PctDiff', 'MFI', 'BBP') 4\n",
      "('MACD', 'StdDev', 'RSI', 'WPR') 4\n",
      "('MACD', 'StdDev', 'RSI', 'MFI') 4\n",
      "('MACD', 'StdDev', 'RSI', 'BBP') 4\n",
      "('MACD', 'StdDev', 'WPR', 'MFI') 4\n",
      "('MACD', 'StdDev', 'WPR', 'BBP') 4\n",
      "('MACD', 'StdDev', 'MFI', 'BBP') 4\n",
      "('MACD', 'RSI', 'WPR', 'MFI') 4\n",
      "('MACD', 'RSI', 'WPR', 'BBP') 4\n",
      "('MACD', 'RSI', 'MFI', 'BBP') 4\n",
      "('MACD', 'WPR', 'MFI', 'BBP') 4\n",
      "('PctDiff', 'StdDev', 'RSI', 'WPR') 4\n",
      "('PctDiff', 'StdDev', 'RSI', 'MFI') 4\n",
      "('PctDiff', 'StdDev', 'RSI', 'BBP') 4\n",
      "('PctDiff', 'StdDev', 'WPR', 'MFI') 4\n",
      "('PctDiff', 'StdDev', 'WPR', 'BBP') 4\n",
      "('PctDiff', 'StdDev', 'MFI', 'BBP') 4\n",
      "('PctDiff', 'RSI', 'WPR', 'MFI') 4\n",
      "('PctDiff', 'RSI', 'WPR', 'BBP') 4\n",
      "('PctDiff', 'RSI', 'MFI', 'BBP') 4\n",
      "('PctDiff', 'WPR', 'MFI', 'BBP') 4\n",
      "('StdDev', 'RSI', 'WPR', 'MFI') 4\n",
      "('StdDev', 'RSI', 'WPR', 'BBP') 4\n",
      "('StdDev', 'RSI', 'MFI', 'BBP') 4\n",
      "('StdDev', 'WPR', 'MFI', 'BBP') 4\n",
      "('RSI', 'WPR', 'MFI', 'BBP') 4\n",
      "('MACD', 'PctDiff', 'StdDev', 'RSI', 'WPR') 5\n",
      "('MACD', 'PctDiff', 'StdDev', 'RSI', 'MFI') 5\n",
      "('MACD', 'PctDiff', 'StdDev', 'RSI', 'BBP') 5\n",
      "('MACD', 'PctDiff', 'StdDev', 'WPR', 'MFI') 5\n",
      "('MACD', 'PctDiff', 'StdDev', 'WPR', 'BBP') 5\n",
      "('MACD', 'PctDiff', 'StdDev', 'MFI', 'BBP') 5\n",
      "('MACD', 'PctDiff', 'RSI', 'WPR', 'MFI') 5\n",
      "('MACD', 'PctDiff', 'RSI', 'WPR', 'BBP') 5\n",
      "('MACD', 'PctDiff', 'RSI', 'MFI', 'BBP') 5\n",
      "('MACD', 'PctDiff', 'WPR', 'MFI', 'BBP') 5\n",
      "('MACD', 'StdDev', 'RSI', 'WPR', 'MFI') 5\n",
      "('MACD', 'StdDev', 'RSI', 'WPR', 'BBP') 5\n",
      "('MACD', 'StdDev', 'RSI', 'MFI', 'BBP') 5\n",
      "('MACD', 'StdDev', 'WPR', 'MFI', 'BBP') 5\n",
      "('MACD', 'RSI', 'WPR', 'MFI', 'BBP') 5\n",
      "('PctDiff', 'StdDev', 'RSI', 'WPR', 'MFI') 5\n",
      "('PctDiff', 'StdDev', 'RSI', 'WPR', 'BBP') 5\n",
      "('PctDiff', 'StdDev', 'RSI', 'MFI', 'BBP') 5\n",
      "('PctDiff', 'StdDev', 'WPR', 'MFI', 'BBP') 5\n",
      "('PctDiff', 'RSI', 'WPR', 'MFI', 'BBP') 5\n",
      "('StdDev', 'RSI', 'WPR', 'MFI', 'BBP') 5\n",
      "('MACD', 'PctDiff', 'StdDev', 'RSI', 'WPR', 'MFI') 6\n",
      "('MACD', 'PctDiff', 'StdDev', 'RSI', 'WPR', 'BBP') 6\n",
      "('MACD', 'PctDiff', 'StdDev', 'RSI', 'MFI', 'BBP') 6\n",
      "('MACD', 'PctDiff', 'StdDev', 'WPR', 'MFI', 'BBP') 6\n",
      "('MACD', 'PctDiff', 'RSI', 'WPR', 'MFI', 'BBP') 6\n",
      "('MACD', 'StdDev', 'RSI', 'WPR', 'MFI', 'BBP') 6\n",
      "('PctDiff', 'StdDev', 'RSI', 'WPR', 'MFI', 'BBP') 6\n",
      "('MACD', 'PctDiff', 'StdDev', 'RSI', 'WPR', 'MFI', 'BBP') 7\n",
      "Combinations with at least 3 or more lements: 99\n"
     ]
    }
   ],
   "source": [
    "from itertools import chain, combinations\n",
    "\n",
    "def powerset(iterable):\n",
    "    \"powerset([1,2,3]) --> () (1,) (2,) (3,) (1,2) (1,3) (2,3) (1,2,3)\"\n",
    "    s = list(iterable)  # allows duplicate elements\n",
    "    return chain.from_iterable(combinations(s, r) for r in range(len(s)+1))\n",
    "\n",
    "stuff = ['MACD', 'PctDiff', 'StdDev', 'RSI', 'WPR', 'MFI', 'BBP']\n",
    "count_f = 0\n",
    "combs = []\n",
    "for p in powerset(stuff):\n",
    "    if len(p) > 2:\n",
    "        count_f += 1\n",
    "        combs.append(p)\n",
    "        print(p, len(p))\n",
    "print(f\"Combinations with at least 3 or more lements: {count_f}\")"
   ]
  },
  {
   "cell_type": "code",
   "execution_count": 141,
   "metadata": {},
   "outputs": [
    {
     "data": {
      "text/plain": [
       "[('MACD', 'PctDiff', 'StdDev'),\n",
       " ('MACD', 'PctDiff', 'RSI'),\n",
       " ('MACD', 'PctDiff', 'WPR'),\n",
       " ('MACD', 'PctDiff', 'MFI'),\n",
       " ('MACD', 'PctDiff', 'BBP'),\n",
       " ('MACD', 'StdDev', 'RSI'),\n",
       " ('MACD', 'StdDev', 'WPR'),\n",
       " ('MACD', 'StdDev', 'MFI'),\n",
       " ('MACD', 'StdDev', 'BBP'),\n",
       " ('MACD', 'RSI', 'WPR'),\n",
       " ('MACD', 'RSI', 'MFI'),\n",
       " ('MACD', 'RSI', 'BBP'),\n",
       " ('MACD', 'WPR', 'MFI'),\n",
       " ('MACD', 'WPR', 'BBP'),\n",
       " ('MACD', 'MFI', 'BBP'),\n",
       " ('PctDiff', 'StdDev', 'RSI'),\n",
       " ('PctDiff', 'StdDev', 'WPR'),\n",
       " ('PctDiff', 'StdDev', 'MFI'),\n",
       " ('PctDiff', 'StdDev', 'BBP'),\n",
       " ('PctDiff', 'RSI', 'WPR'),\n",
       " ('PctDiff', 'RSI', 'MFI'),\n",
       " ('PctDiff', 'RSI', 'BBP'),\n",
       " ('PctDiff', 'WPR', 'MFI'),\n",
       " ('PctDiff', 'WPR', 'BBP'),\n",
       " ('PctDiff', 'MFI', 'BBP'),\n",
       " ('StdDev', 'RSI', 'WPR'),\n",
       " ('StdDev', 'RSI', 'MFI'),\n",
       " ('StdDev', 'RSI', 'BBP'),\n",
       " ('StdDev', 'WPR', 'MFI'),\n",
       " ('StdDev', 'WPR', 'BBP'),\n",
       " ('StdDev', 'MFI', 'BBP'),\n",
       " ('RSI', 'WPR', 'MFI'),\n",
       " ('RSI', 'WPR', 'BBP'),\n",
       " ('RSI', 'MFI', 'BBP'),\n",
       " ('WPR', 'MFI', 'BBP'),\n",
       " ('MACD', 'PctDiff', 'StdDev', 'RSI'),\n",
       " ('MACD', 'PctDiff', 'StdDev', 'WPR'),\n",
       " ('MACD', 'PctDiff', 'StdDev', 'MFI'),\n",
       " ('MACD', 'PctDiff', 'StdDev', 'BBP'),\n",
       " ('MACD', 'PctDiff', 'RSI', 'WPR'),\n",
       " ('MACD', 'PctDiff', 'RSI', 'MFI'),\n",
       " ('MACD', 'PctDiff', 'RSI', 'BBP'),\n",
       " ('MACD', 'PctDiff', 'WPR', 'MFI'),\n",
       " ('MACD', 'PctDiff', 'WPR', 'BBP'),\n",
       " ('MACD', 'PctDiff', 'MFI', 'BBP'),\n",
       " ('MACD', 'StdDev', 'RSI', 'WPR'),\n",
       " ('MACD', 'StdDev', 'RSI', 'MFI'),\n",
       " ('MACD', 'StdDev', 'RSI', 'BBP'),\n",
       " ('MACD', 'StdDev', 'WPR', 'MFI'),\n",
       " ('MACD', 'StdDev', 'WPR', 'BBP'),\n",
       " ('MACD', 'StdDev', 'MFI', 'BBP'),\n",
       " ('MACD', 'RSI', 'WPR', 'MFI'),\n",
       " ('MACD', 'RSI', 'WPR', 'BBP'),\n",
       " ('MACD', 'RSI', 'MFI', 'BBP'),\n",
       " ('MACD', 'WPR', 'MFI', 'BBP'),\n",
       " ('PctDiff', 'StdDev', 'RSI', 'WPR'),\n",
       " ('PctDiff', 'StdDev', 'RSI', 'MFI'),\n",
       " ('PctDiff', 'StdDev', 'RSI', 'BBP'),\n",
       " ('PctDiff', 'StdDev', 'WPR', 'MFI'),\n",
       " ('PctDiff', 'StdDev', 'WPR', 'BBP'),\n",
       " ('PctDiff', 'StdDev', 'MFI', 'BBP'),\n",
       " ('PctDiff', 'RSI', 'WPR', 'MFI'),\n",
       " ('PctDiff', 'RSI', 'WPR', 'BBP'),\n",
       " ('PctDiff', 'RSI', 'MFI', 'BBP'),\n",
       " ('PctDiff', 'WPR', 'MFI', 'BBP'),\n",
       " ('StdDev', 'RSI', 'WPR', 'MFI'),\n",
       " ('StdDev', 'RSI', 'WPR', 'BBP'),\n",
       " ('StdDev', 'RSI', 'MFI', 'BBP'),\n",
       " ('StdDev', 'WPR', 'MFI', 'BBP'),\n",
       " ('RSI', 'WPR', 'MFI', 'BBP'),\n",
       " ('MACD', 'PctDiff', 'StdDev', 'RSI', 'WPR'),\n",
       " ('MACD', 'PctDiff', 'StdDev', 'RSI', 'MFI'),\n",
       " ('MACD', 'PctDiff', 'StdDev', 'RSI', 'BBP'),\n",
       " ('MACD', 'PctDiff', 'StdDev', 'WPR', 'MFI'),\n",
       " ('MACD', 'PctDiff', 'StdDev', 'WPR', 'BBP'),\n",
       " ('MACD', 'PctDiff', 'StdDev', 'MFI', 'BBP'),\n",
       " ('MACD', 'PctDiff', 'RSI', 'WPR', 'MFI'),\n",
       " ('MACD', 'PctDiff', 'RSI', 'WPR', 'BBP'),\n",
       " ('MACD', 'PctDiff', 'RSI', 'MFI', 'BBP'),\n",
       " ('MACD', 'PctDiff', 'WPR', 'MFI', 'BBP'),\n",
       " ('MACD', 'StdDev', 'RSI', 'WPR', 'MFI'),\n",
       " ('MACD', 'StdDev', 'RSI', 'WPR', 'BBP'),\n",
       " ('MACD', 'StdDev', 'RSI', 'MFI', 'BBP'),\n",
       " ('MACD', 'StdDev', 'WPR', 'MFI', 'BBP'),\n",
       " ('MACD', 'RSI', 'WPR', 'MFI', 'BBP'),\n",
       " ('PctDiff', 'StdDev', 'RSI', 'WPR', 'MFI'),\n",
       " ('PctDiff', 'StdDev', 'RSI', 'WPR', 'BBP'),\n",
       " ('PctDiff', 'StdDev', 'RSI', 'MFI', 'BBP'),\n",
       " ('PctDiff', 'StdDev', 'WPR', 'MFI', 'BBP'),\n",
       " ('PctDiff', 'RSI', 'WPR', 'MFI', 'BBP'),\n",
       " ('StdDev', 'RSI', 'WPR', 'MFI', 'BBP'),\n",
       " ('MACD', 'PctDiff', 'StdDev', 'RSI', 'WPR', 'MFI'),\n",
       " ('MACD', 'PctDiff', 'StdDev', 'RSI', 'WPR', 'BBP'),\n",
       " ('MACD', 'PctDiff', 'StdDev', 'RSI', 'MFI', 'BBP'),\n",
       " ('MACD', 'PctDiff', 'StdDev', 'WPR', 'MFI', 'BBP'),\n",
       " ('MACD', 'PctDiff', 'RSI', 'WPR', 'MFI', 'BBP'),\n",
       " ('MACD', 'StdDev', 'RSI', 'WPR', 'MFI', 'BBP'),\n",
       " ('PctDiff', 'StdDev', 'RSI', 'WPR', 'MFI', 'BBP'),\n",
       " ('MACD', 'PctDiff', 'StdDev', 'RSI', 'WPR', 'MFI', 'BBP')]"
      ]
     },
     "execution_count": 141,
     "metadata": {},
     "output_type": "execute_result"
    }
   ],
   "source": [
    "combs"
   ]
  },
  {
   "cell_type": "code",
   "execution_count": 99,
   "metadata": {},
   "outputs": [
    {
     "data": {
      "text/plain": [
       "False"
      ]
     },
     "execution_count": 99,
     "metadata": {},
     "output_type": "execute_result"
    }
   ],
   "source": []
  },
  {
   "cell_type": "code",
   "execution_count": 100,
   "metadata": {},
   "outputs": [
    {
     "data": {
      "text/plain": [
       "True"
      ]
     },
     "execution_count": 100,
     "metadata": {},
     "output_type": "execute_result"
    }
   ],
   "source": []
  },
  {
   "cell_type": "code",
   "execution_count": null,
   "metadata": {},
   "outputs": [],
   "source": []
  },
  {
   "cell_type": "code",
   "execution_count": 130,
   "metadata": {},
   "outputs": [],
   "source": [
    "def stats_table2(df, days_cutoff):\n",
    "    pos_df = df[['gain_pct', 'trading_days']].loc[df.gain_pct > 0].groupby(by='trading_days').count()\n",
    "    pos_df.columns = ['pos_counts']\n",
    "    loss_df = df[['gain_pct', 'trading_days']].loc[df.gain_pct < 0].groupby(by='trading_days').count()\n",
    "    loss_df.columns = ['neg_counts']\n",
    "    zero_df = df[['gain_pct', 'trading_days']].loc[df.gain_pct == 0].groupby(by='trading_days').count()\n",
    "    zero_df.columns = ['zero_counts']\n",
    "    temp = pd.concat([loss_df, pos_df, zero_df], join=\"outer\").reset_index()\n",
    "    cols = [ 'pos_counts', 'neg_counts', 'zero_counts' ]\n",
    "\n",
    "    stats_cnt = np.zeros((3, 4))\n",
    "    totals_col = np.zeros((4,))\n",
    "    total_lt_xd = 0\n",
    "    for i, num in enumerate(temp[cols].loc[temp.trading_days < days_cutoff].sum()):\n",
    "        stats_cnt[0,i] = num\n",
    "        stats_cnt[2,i] += num\n",
    "    stats_cnt[0,3] = np.sum(stats_cnt[0,0:3])\n",
    "\n",
    "    \n",
    "    for i, num in enumerate(temp[cols].loc[temp.trading_days >= days_cutoff].sum()):\n",
    "        stats_cnt[1,i] = num\n",
    "        stats_cnt[2,i] += num\n",
    "    stats_cnt[1,3] = np.sum(stats_cnt[1,0:3])  \n",
    "    stats_cnt[2,3] = stats_cnt[0,3] + stats_cnt[1,3]\n",
    "    \n",
    "    stats_pct = (stats_cnt.copy() / stats_cnt[2,3]) * 100\n",
    "    \n",
    "    print('         \\t pos     neg    zero    total')\n",
    "    print('         \\t======  ======  =====   ======')\n",
    "    print(f'< {days_cutoff} days\\t', end='')\n",
    "    for i in range(4):\n",
    "        print(f'{stats_cnt[0, i]:.0f}', end='\\t')\n",
    "        \n",
    "    print(f'\\n>= {days_cutoff} days\\t', end='')\n",
    "    for i in range(4):\n",
    "        print(f'{stats_cnt[1, i]:.0f}', end='\\t') \n",
    "    \n",
    "    print('\\n         \\t------\\t------\\t-----\\t------')\n",
    "    print('         \\t', end='')\n",
    "    for i in range(4):\n",
    "        print(f'{stats_cnt[2, i]:.0f}', end='\\t')\n",
    "\n",
    "    print('\\n\\n\\n')\n",
    "    print('         \\t pos     neg    zero    total')\n",
    "    print('         \\t======  ======  =====   ======')\n",
    "    print(f'< {days_cutoff} days\\t', end='')\n",
    "    for i in range(4):\n",
    "        print(f'{stats_pct[0, i]:.2f}', end='\\t')\n",
    "        \n",
    "    print(f'\\n>= {days_cutoff} days\\t', end='')\n",
    "    for i in range(4):\n",
    "        print(f'{stats_pct[1, i]:.2f}', end='\\t') \n",
    "    \n",
    "    print('\\n         \\t------\\t------\\t-----\\t------')\n",
    "    print('         \\t', end='')\n",
    "    for i in range(4):\n",
    "        print(f'{stats_pct[2, i]:.2f}', end='\\t')\n",
    "    return stats_cnt, stats_pct"
   ]
  },
  {
   "cell_type": "code",
   "execution_count": 131,
   "metadata": {},
   "outputs": [
    {
     "name": "stdout",
     "output_type": "stream",
     "text": [
      "         \t pos     neg    zero    total\n",
      "         \t======  ======  =====   ======\n",
      "< 55 days\t1033\t201\t1\t1235\t\n",
      ">= 55 days\t435\t486\t3\t924\t\n",
      "         \t------\t------\t-----\t------\n",
      "         \t1468\t687\t4\t2159\t\n",
      "\n",
      "\n",
      "\n",
      "         \t pos     neg    zero    total\n",
      "         \t======  ======  =====   ======\n",
      "< 55 days\t47.85\t9.31\t0.05\t57.20\t\n",
      ">= 55 days\t20.15\t22.51\t0.14\t42.80\t\n",
      "         \t------\t------\t-----\t------\n",
      "         \t67.99\t31.82\t0.19\t100.00\t\n",
      "\n",
      "\n",
      "\n",
      "\t\t1033\t201\t1\t1235\t\n",
      "\t\t435\t486\t3\t924\t\n",
      "\t\t1468\t687\t4\t2159\t\n",
      "\n",
      "\t\t47.85\t9.31\t0.05\t57.20\t\n",
      "\t\t20.15\t22.51\t0.14\t42.80\t\n",
      "\t\t67.99\t31.82\t0.19\t100.00\t\n"
     ]
    }
   ],
   "source": [
    "stats_cnt, stats_pct = stats_table2(new_test_df, 55)\n",
    "print('\\n\\n\\n')\n",
    "for i in range(3):\n",
    "    print('\\t\\t', end='')\n",
    "    for j in range(4):\n",
    "        print(f'{stats_cnt[i,j]:.0f}\\t', end='')\n",
    "    print('')\n",
    "\n",
    "print('')\n",
    "\n",
    "for i in range(3):\n",
    "    print('\\t\\t', end='')\n",
    "    for j in range(4):\n",
    "        print(f'{stats_pct[i,j]:.2f}\\t', end='')\n",
    "    print('')"
   ]
  },
  {
   "cell_type": "code",
   "execution_count": 132,
   "metadata": {},
   "outputs": [
    {
     "name": "stdout",
     "output_type": "stream",
     "text": [
      "         \t pos     neg    zero    total\n",
      "         \t======  ======  =====   ======\n",
      "< 55 days\t1033.0\t201.0\t1.0\t1235.0\n",
      ">= 55 days\t435.0\t486.0\t3.0\t924.0\n",
      "         \t------\t------\t-----\t------\n",
      "         \t1468.0\t687.0\t4.0\t2159.0\t\n",
      "\n",
      "         \t pos     neg    zero    total\n",
      "         \t======  ======  =====   ======\n",
      "< 55 days\t47.85\t9.31\t0.05\t57.20\n",
      ">= 55 days\t20.15\t22.51\t0.14\t42.80\n",
      "         \t------\t------\t-----\t------\n",
      "         \t67.99\t31.82\t0.19\t100.00\t"
     ]
    }
   ],
   "source": [
    "stats_table(new_test_df, 55)"
   ]
  },
  {
   "cell_type": "code",
   "execution_count": null,
   "metadata": {},
   "outputs": [],
   "source": [
    "stats_cnt = np.zeros((3,4))\n",
    "for i, num in enumerate(temp[cols].loc[temp.trading_days < days_cutoff].sum()):\n",
    "        print(num, end='\\t')\n",
    "        total_lt_xd += num\n",
    "        totals[i] += num\n",
    "    print(total_lt_xd)\n",
    "    totals[3] += total_lt_xd"
   ]
  },
  {
   "cell_type": "code",
   "execution_count": null,
   "metadata": {},
   "outputs": [],
   "source": []
  },
  {
   "cell_type": "code",
   "execution_count": null,
   "metadata": {},
   "outputs": [],
   "source": []
  },
  {
   "cell_type": "code",
   "execution_count": null,
   "metadata": {},
   "outputs": [],
   "source": []
  },
  {
   "cell_type": "code",
   "execution_count": null,
   "metadata": {},
   "outputs": [],
   "source": []
  }
 ],
 "metadata": {
  "kernelspec": {
   "display_name": "Python 3.7.5 64-bit ('learn': conda)",
   "language": "python",
   "name": "python37564bitlearnconda9edf13e24aea43b294d817638a3bc50f"
  },
  "language_info": {
   "codemirror_mode": {
    "name": "ipython",
    "version": 3
   },
   "file_extension": ".py",
   "mimetype": "text/x-python",
   "name": "python",
   "nbconvert_exporter": "python",
   "pygments_lexer": "ipython3",
   "version": "3.7.5"
  }
 },
 "nbformat": 4,
 "nbformat_minor": 2
}
