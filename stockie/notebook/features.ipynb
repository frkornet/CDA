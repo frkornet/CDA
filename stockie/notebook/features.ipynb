{
 "cells": [
  {
   "cell_type": "code",
   "execution_count": 1,
   "metadata": {},
   "outputs": [],
   "source": [
    "import pandas as pd\n",
    "import numpy  as np\n",
    "import gc; gc.collect()\n",
    "\n",
    "import warnings\n",
    "warnings.filterwarnings(\"ignore\")"
   ]
  },
  {
   "cell_type": "code",
   "execution_count": 2,
   "metadata": {},
   "outputs": [],
   "source": [
    "YFLOAD_PATH = '/Users/frkornet/CDA/Project/stockie/data/yfin/'\n",
    "TRADE_PERIOD    = \"10y\""
   ]
  },
  {
   "cell_type": "code",
   "execution_count": 3,
   "metadata": {},
   "outputs": [],
   "source": [
    "def get_stock_n_smooth(ticker, period):\n",
    "    \"\"\"\n",
    "    Copy of what is in util.py. Except this version reads what has been read \n",
    "    from yfinance and stored on file. The stored version is smoothed already, \n",
    "    and reading from disk should be much faster as it avoids the expensive \n",
    "    smoothing operation. The reading from file, will only return success if \n",
    "    there is at least 5 years worth of data to work with. \n",
    "    \"\"\"\n",
    "    gc.collect()\n",
    "    try:\n",
    "        hist = pd.read_csv(f'{YFLOAD_PATH}{ticker}.csv')\n",
    "        hist.index = hist.Date.values\n",
    "        del hist['Date']\n",
    "        success = len(hist) > 5 * 252\n",
    "        print(f'Successfully retrieved smoothed price data for {ticker} '+\n",
    "            f'(len(hist)={len(hist)}, success={success})')\n",
    "    except:\n",
    "        hist = None\n",
    "        success = False\n",
    "        print(f'Failed to find {ticker}.csv in {YFLOAD_PATH}!')\n",
    "    return success, hist"
   ]
  },
  {
   "cell_type": "code",
   "execution_count": 4,
   "metadata": {},
   "outputs": [],
   "source": [
    "def features(data, target):\n",
    "    \"\"\" \n",
    "    Given a standard yfinance data dataframe, add features that will help\n",
    "    the balanced scorecard to recognize buy and sell signals in the data.\n",
    "    The features are added as columns in the data dataframe. \n",
    "    \n",
    "    The original hist dataframe from yfinance is provided, so we can copy\n",
    "    the target to the data dataframe. The data dataframe with the extra \n",
    "    features is returned. The target argument contains the name of the \n",
    "    column that contains the the target.\n",
    "    \"\"\"\n",
    "    windows = [3, 5, 10, 15, 20, 30, 45, 60] \n",
    "\n",
    "    for i in windows:\n",
    "        ma = data.Close.rolling(i).mean()\n",
    "        # Moving Average Convergence Divergence (MACD)\n",
    "        data[f'MACD_{i}']    = ma - data.Close\n",
    "        data[f'PctDiff_{i}'] = data.Close.diff(i)\n",
    "        data[f'StdDev_{i}']  = data.Close.rolling(i).std()\n",
    "        data[f'RSI_{i}']     = RSI(data, i)\n",
    "        data[f'WPR_{i}']     = WPR(data, i)\n",
    "        data[f'MFI_{i}']     = MFI(data, i)\n",
    "        data[f'BB_{i}']      = BB(data, i)\n",
    "\n",
    "    exclude_cols = [target, 'smooth', 'Close', 'Date', 'Volume', 'Dividends', 'Stock Splits'] \n",
    "    factor = data.Close.copy()\n",
    "    for c in data.columns.tolist():\n",
    "        if c in exclude_cols:\n",
    "           continue\n",
    "        data[c] = data[c] / factor\n",
    "\n",
    "    data = data.dropna()\n",
    "    \n",
    "    return data"
   ]
  },
  {
   "cell_type": "code",
   "execution_count": 5,
   "metadata": {},
   "outputs": [],
   "source": [
    "def RSI_Frank(df, window):\n",
    "    price = hist['Close']\n",
    "    rsi = price.copy()\n",
    "    \n",
    "    daily_rets = price.copy()\n",
    "    daily_rets.values[1:] = price.values[1:] - price.values[:-1]\n",
    "    daily_rets.values[0]  = np.nan\n",
    "\n",
    "    up_rets = price.copy()\n",
    "    up_rets[:] = np.nan\n",
    "    up_rets[daily_rets >= 0] = daily_rets[daily_rets >= 0]\n",
    "    up_rets = up_rets.fillna(0).cumsum()\n",
    "    \n",
    "    down_rets = price.copy()\n",
    "    down_rets[:] = np.nan\n",
    "    down_rets[daily_rets <  0] = -daily_rets[daily_rets <  0] # .fillna(0).cumsum() * -1.0\n",
    "    down_rets = down_rets.fillna(0).cumsum() \n",
    "    \n",
    "    up_gain = price.copy()\n",
    "    up_gain[:window] = 0\n",
    "    up_gain.values[window:] = up_rets.values[window:] - up_rets.values[:-window]\n",
    "\n",
    "    down_loss = price.copy()\n",
    "    down_loss.iloc[:window] = 0 \n",
    "    down_loss.values[window:] = down_rets.values[window:] - down_rets.values[:-window]\n",
    "    \n",
    "    rs = (up_gain / window) / (down_loss / window)\n",
    "    \n",
    "    rsi = 100 - (100 / (1 + rs))\n",
    "    rsi.iloc[:window] = np.nan\n",
    "\n",
    "    rsi[rsi == np.inf] == 100 \n",
    "    return rsi "
   ]
  },
  {
   "cell_type": "code",
   "execution_count": 6,
   "metadata": {},
   "outputs": [],
   "source": [
    "def RSI_Harshad(df, window):\n",
    "    Gain=df['Close'].copy()\n",
    "    Loss=df['Close'].copy()\n",
    "    Avg_gain=df['Close'].copy()\n",
    "    Avg_loss=df['Close'].copy()\n",
    "    rsi=df['Close'].copy()\n",
    "\n",
    "    Gain[:]=0.0\n",
    "    Loss[:]=0.0\n",
    "    Avg_gain[:]=0.0\n",
    "    Avg_loss[:]=0.0\n",
    "    rsi[:]=np.nan\n",
    "\n",
    "    for i in range(1,len(df)):\n",
    "        if df.Close.iloc[i] > df.Close.iloc[i-1]:\n",
    "            Gain[i]=df.Close.iloc[i]-df.Close.iloc[i-1]\n",
    "        else:\n",
    "            # For loss save the absolute value on loss\n",
    "            Loss[i]=abs(df.Close.iloc[i]-df.Close.iloc[i-1])\n",
    "        if i>window:\n",
    "            Avg_gain[i]=(Avg_gain[i-1]*(window-1)+Gain[i])/window\n",
    "            Avg_loss[i]=(Avg_loss[i-1]*(window-1)+Loss[i])/window\n",
    "            rsi[i]=(100*Avg_gain[i]/(Avg_gain[i]+Avg_loss[i])).round(2)\n",
    "\n",
    "    return rsi"
   ]
  },
  {
   "cell_type": "code",
   "execution_count": 7,
   "metadata": {},
   "outputs": [],
   "source": [
    "def WPR(df, window):\n",
    "\n",
    "    Highest_High = df['High'].rolling(window,min_periods=window).max()\n",
    "    Lowest_Low   = df['Low'].rolling(window,min_periods=window).min()\n",
    "    wpr=100 *(df['Close'] - Highest_High)/(Highest_High - Lowest_Low)\n",
    "\n",
    "    return wpr"
   ]
  },
  {
   "cell_type": "code",
   "execution_count": 8,
   "metadata": {},
   "outputs": [],
   "source": [
    "def MFI(df, window):\n",
    "\n",
    "    typical_price = (df['High'] + df['Low'] + df['Close'])/3\n",
    "    raw_money_flow = typical_price*df['Volume']\n",
    "\n",
    "    idx = typical_price>typical_price.shift(1)\n",
    "\n",
    "    pos_money_flow = raw_money_flow.copy()\n",
    "    pos_money_flow.iloc[:] = 0.0\n",
    "    pos_money_flow.loc[idx] = raw_money_flow.loc[idx]\n",
    "\n",
    "    neg_money_flow = raw_money_flow.copy()\n",
    "    neg_money_flow.iloc[:] = 0.0\n",
    "    neg_money_flow.loc[~idx] = raw_money_flow.loc[~idx]\n",
    "\n",
    "    mfi_pos = pos_money_flow.rolling(window).sum()\n",
    "    mfi_neg = neg_money_flow.rolling(window).sum()\n",
    "    mfi = 100 * mfi_pos / (mfi_pos+mfi_neg)\n",
    "\n",
    "    return mfi"
   ]
  },
  {
   "cell_type": "code",
   "execution_count": 9,
   "metadata": {},
   "outputs": [],
   "source": [
    "def BB(df, window):   \n",
    "    MA=df['Close'].rolling(window).mean()\n",
    "    Std_Dev=df['Close'].rolling(window).std()\n",
    "\n",
    "    BOLU=MA+2*Std_Dev\n",
    "    BOLL=MA-2*Std_Dev\n",
    "\n",
    "    return ( df['Close'] - BOLL) / (BOLU - BOLL)"
   ]
  },
  {
   "cell_type": "code",
   "execution_count": 10,
   "metadata": {},
   "outputs": [
    {
     "name": "stdout",
     "output_type": "stream",
     "text": [
      "Successfully retrieved smoothed price data for AAPL (len(hist)=2517, success=True)\n"
     ]
    }
   ],
   "source": [
    "ticker = 'AAPL'\n",
    "target = 'target'\n",
    "success, hist = get_stock_n_smooth(ticker, TRADE_PERIOD)\n",
    "assert success == True, \"Unable to get historical price data and smooth price!\"\n",
    "hist[target] = 0"
   ]
  },
  {
   "cell_type": "code",
   "execution_count": 11,
   "metadata": {},
   "outputs": [
    {
     "data": {
      "text/html": [
       "<div>\n",
       "<style scoped>\n",
       "    .dataframe tbody tr th:only-of-type {\n",
       "        vertical-align: middle;\n",
       "    }\n",
       "\n",
       "    .dataframe tbody tr th {\n",
       "        vertical-align: top;\n",
       "    }\n",
       "\n",
       "    .dataframe thead th {\n",
       "        text-align: right;\n",
       "    }\n",
       "</style>\n",
       "<table border=\"1\" class=\"dataframe\">\n",
       "  <thead>\n",
       "    <tr style=\"text-align: right;\">\n",
       "      <th></th>\n",
       "      <th>Open</th>\n",
       "      <th>High</th>\n",
       "      <th>Low</th>\n",
       "      <th>Close</th>\n",
       "      <th>Volume</th>\n",
       "      <th>Dividends</th>\n",
       "      <th>Stock Splits</th>\n",
       "      <th>smooth</th>\n",
       "      <th>target</th>\n",
       "    </tr>\n",
       "  </thead>\n",
       "  <tbody>\n",
       "    <tr>\n",
       "      <th>2011-02-14</th>\n",
       "      <td>10.98</td>\n",
       "      <td>11.06</td>\n",
       "      <td>10.97</td>\n",
       "      <td>11.05</td>\n",
       "      <td>310416400</td>\n",
       "      <td>0.0</td>\n",
       "      <td>0.0</td>\n",
       "      <td>10.952331</td>\n",
       "      <td>0</td>\n",
       "    </tr>\n",
       "    <tr>\n",
       "      <th>2011-02-15</th>\n",
       "      <td>11.05</td>\n",
       "      <td>11.07</td>\n",
       "      <td>11.00</td>\n",
       "      <td>11.07</td>\n",
       "      <td>284174800</td>\n",
       "      <td>0.0</td>\n",
       "      <td>0.0</td>\n",
       "      <td>10.937638</td>\n",
       "      <td>0</td>\n",
       "    </tr>\n",
       "    <tr>\n",
       "      <th>2011-02-16</th>\n",
       "      <td>11.10</td>\n",
       "      <td>11.23</td>\n",
       "      <td>11.09</td>\n",
       "      <td>11.17</td>\n",
       "      <td>481157600</td>\n",
       "      <td>0.0</td>\n",
       "      <td>0.0</td>\n",
       "      <td>10.922946</td>\n",
       "      <td>0</td>\n",
       "    </tr>\n",
       "    <tr>\n",
       "      <th>2011-02-17</th>\n",
       "      <td>10.99</td>\n",
       "      <td>11.08</td>\n",
       "      <td>10.97</td>\n",
       "      <td>11.02</td>\n",
       "      <td>530583200</td>\n",
       "      <td>0.0</td>\n",
       "      <td>0.0</td>\n",
       "      <td>10.908253</td>\n",
       "      <td>0</td>\n",
       "    </tr>\n",
       "    <tr>\n",
       "      <th>2011-02-18</th>\n",
       "      <td>11.03</td>\n",
       "      <td>11.06</td>\n",
       "      <td>10.75</td>\n",
       "      <td>10.78</td>\n",
       "      <td>816057200</td>\n",
       "      <td>0.0</td>\n",
       "      <td>0.0</td>\n",
       "      <td>10.893560</td>\n",
       "      <td>0</td>\n",
       "    </tr>\n",
       "    <tr>\n",
       "      <th>...</th>\n",
       "      <td>...</td>\n",
       "      <td>...</td>\n",
       "      <td>...</td>\n",
       "      <td>...</td>\n",
       "      <td>...</td>\n",
       "      <td>...</td>\n",
       "      <td>...</td>\n",
       "      <td>...</td>\n",
       "      <td>...</td>\n",
       "    </tr>\n",
       "    <tr>\n",
       "      <th>2021-02-08</th>\n",
       "      <td>136.03</td>\n",
       "      <td>136.96</td>\n",
       "      <td>134.92</td>\n",
       "      <td>136.91</td>\n",
       "      <td>71297200</td>\n",
       "      <td>0.0</td>\n",
       "      <td>0.0</td>\n",
       "      <td>136.688054</td>\n",
       "      <td>0</td>\n",
       "    </tr>\n",
       "    <tr>\n",
       "      <th>2021-02-09</th>\n",
       "      <td>136.62</td>\n",
       "      <td>137.88</td>\n",
       "      <td>135.85</td>\n",
       "      <td>136.01</td>\n",
       "      <td>76774200</td>\n",
       "      <td>0.0</td>\n",
       "      <td>0.0</td>\n",
       "      <td>136.930016</td>\n",
       "      <td>0</td>\n",
       "    </tr>\n",
       "    <tr>\n",
       "      <th>2021-02-10</th>\n",
       "      <td>136.48</td>\n",
       "      <td>136.99</td>\n",
       "      <td>134.40</td>\n",
       "      <td>135.39</td>\n",
       "      <td>73046600</td>\n",
       "      <td>0.0</td>\n",
       "      <td>0.0</td>\n",
       "      <td>137.171978</td>\n",
       "      <td>0</td>\n",
       "    </tr>\n",
       "    <tr>\n",
       "      <th>2021-02-11</th>\n",
       "      <td>135.90</td>\n",
       "      <td>136.39</td>\n",
       "      <td>133.77</td>\n",
       "      <td>135.13</td>\n",
       "      <td>64154400</td>\n",
       "      <td>0.0</td>\n",
       "      <td>0.0</td>\n",
       "      <td>137.413940</td>\n",
       "      <td>0</td>\n",
       "    </tr>\n",
       "    <tr>\n",
       "      <th>2021-02-12</th>\n",
       "      <td>134.35</td>\n",
       "      <td>135.53</td>\n",
       "      <td>133.69</td>\n",
       "      <td>135.37</td>\n",
       "      <td>60029300</td>\n",
       "      <td>0.0</td>\n",
       "      <td>0.0</td>\n",
       "      <td>137.655902</td>\n",
       "      <td>0</td>\n",
       "    </tr>\n",
       "  </tbody>\n",
       "</table>\n",
       "<p>2517 rows × 9 columns</p>\n",
       "</div>"
      ],
      "text/plain": [
       "              Open    High     Low   Close     Volume  Dividends  \\\n",
       "2011-02-14   10.98   11.06   10.97   11.05  310416400        0.0   \n",
       "2011-02-15   11.05   11.07   11.00   11.07  284174800        0.0   \n",
       "2011-02-16   11.10   11.23   11.09   11.17  481157600        0.0   \n",
       "2011-02-17   10.99   11.08   10.97   11.02  530583200        0.0   \n",
       "2011-02-18   11.03   11.06   10.75   10.78  816057200        0.0   \n",
       "...            ...     ...     ...     ...        ...        ...   \n",
       "2021-02-08  136.03  136.96  134.92  136.91   71297200        0.0   \n",
       "2021-02-09  136.62  137.88  135.85  136.01   76774200        0.0   \n",
       "2021-02-10  136.48  136.99  134.40  135.39   73046600        0.0   \n",
       "2021-02-11  135.90  136.39  133.77  135.13   64154400        0.0   \n",
       "2021-02-12  134.35  135.53  133.69  135.37   60029300        0.0   \n",
       "\n",
       "            Stock Splits      smooth  target  \n",
       "2011-02-14           0.0   10.952331       0  \n",
       "2011-02-15           0.0   10.937638       0  \n",
       "2011-02-16           0.0   10.922946       0  \n",
       "2011-02-17           0.0   10.908253       0  \n",
       "2011-02-18           0.0   10.893560       0  \n",
       "...                  ...         ...     ...  \n",
       "2021-02-08           0.0  136.688054       0  \n",
       "2021-02-09           0.0  136.930016       0  \n",
       "2021-02-10           0.0  137.171978       0  \n",
       "2021-02-11           0.0  137.413940       0  \n",
       "2021-02-12           0.0  137.655902       0  \n",
       "\n",
       "[2517 rows x 9 columns]"
      ]
     },
     "execution_count": 11,
     "metadata": {},
     "output_type": "execute_result"
    }
   ],
   "source": [
    "hist"
   ]
  },
  {
   "cell_type": "code",
   "execution_count": 12,
   "metadata": {},
   "outputs": [],
   "source": [
    "#hist = features(hist, target)"
   ]
  },
  {
   "cell_type": "code",
   "execution_count": 13,
   "metadata": {},
   "outputs": [],
   "source": [
    "#hist.columns"
   ]
  },
  {
   "cell_type": "code",
   "execution_count": 14,
   "metadata": {},
   "outputs": [
    {
     "data": {
      "text/plain": [
       "2517"
      ]
     },
     "execution_count": 14,
     "metadata": {},
     "output_type": "execute_result"
    }
   ],
   "source": [
    "len(hist)"
   ]
  },
  {
   "cell_type": "code",
   "execution_count": 15,
   "metadata": {},
   "outputs": [],
   "source": [
    "Gain=hist['Close'].copy()\n",
    "Loss=hist['Close'].copy()\n",
    "Avg_gain=hist['Close'].copy()\n",
    "Avg_loss=hist['Close'].copy()\n",
    "rsi=hist['Close'].copy()\n",
    "\n",
    "Gain[:]=0.0\n",
    "Loss[:]=0.0\n",
    "Avg_gain[:]=0.0\n",
    "Avg_loss[:]=0.0\n",
    "rsi[:]=np.nan"
   ]
  },
  {
   "cell_type": "code",
   "execution_count": 16,
   "metadata": {},
   "outputs": [
    {
     "data": {
      "text/plain": [
       "2011-02-14    0.00\n",
       "2011-02-15    0.02\n",
       "2011-02-16    0.10\n",
       "2011-02-17   -0.15\n",
       "2011-02-18   -0.24\n",
       "              ... \n",
       "2021-02-08    0.15\n",
       "2021-02-09   -0.90\n",
       "2021-02-10   -0.62\n",
       "2021-02-11   -0.26\n",
       "2021-02-12    0.24\n",
       "Name: Close, Length: 2517, dtype: float64"
      ]
     },
     "execution_count": 16,
     "metadata": {},
     "output_type": "execute_result"
    }
   ],
   "source": [
    "change = hist.Close - hist.Close.shift(1)\n",
    "change = change.fillna(0)\n",
    "change"
   ]
  },
  {
   "cell_type": "code",
   "execution_count": 17,
   "metadata": {},
   "outputs": [
    {
     "data": {
      "text/plain": [
       "2011-02-14    0.00\n",
       "2011-02-15    0.02\n",
       "2011-02-16    0.10\n",
       "2011-02-17    0.00\n",
       "2011-02-18    0.00\n",
       "              ... \n",
       "2021-02-08    0.15\n",
       "2021-02-09    0.00\n",
       "2021-02-10    0.00\n",
       "2021-02-11    0.00\n",
       "2021-02-12    0.24\n",
       "Name: Close, Length: 2517, dtype: float64"
      ]
     },
     "execution_count": 17,
     "metadata": {},
     "output_type": "execute_result"
    }
   ],
   "source": [
    "gain = change.copy()\n",
    "gain [ gain <= 0] = 0\n",
    "gain"
   ]
  },
  {
   "cell_type": "code",
   "execution_count": 18,
   "metadata": {},
   "outputs": [
    {
     "data": {
      "text/plain": [
       "2011-02-14    0.00\n",
       "2011-02-15    0.00\n",
       "2011-02-16    0.00\n",
       "2011-02-17    0.15\n",
       "2011-02-18    0.24\n",
       "              ... \n",
       "2021-02-08    0.00\n",
       "2021-02-09    0.90\n",
       "2021-02-10    0.62\n",
       "2021-02-11    0.26\n",
       "2021-02-12    0.00\n",
       "Name: Close, Length: 2517, dtype: float64"
      ]
     },
     "execution_count": 18,
     "metadata": {},
     "output_type": "execute_result"
    }
   ],
   "source": [
    "loss = change.copy()\n",
    "loss [ loss > 0] = 0\n",
    "loss = np.abs(loss)\n",
    "loss"
   ]
  },
  {
   "cell_type": "code",
   "execution_count": 19,
   "metadata": {},
   "outputs": [],
   "source": [
    "window = 14\n",
    "Avg_gain[:] = 0.0\n",
    "Avg_loss[:] = 0.0\n",
    "for i in range(1,len(hist)):\n",
    "    if hist.Close.iloc[i] > hist.Close.iloc[i-1]:\n",
    "        Gain[i]=hist.Close.iloc[i]-hist.Close.iloc[i-1]\n",
    "    else:\n",
    "        # For loss save the absolute value on loss\n",
    "        Loss[i]=abs(hist.Close.iloc[i]-hist.Close.iloc[i-1])\n",
    "    if i>=window:\n",
    "        Avg_gain[i]=(Avg_gain[i-1]*(window-1)+Gain[i]) / window\n",
    "        Avg_loss[i]=(Avg_loss[i-1]*(window-1)+Loss[i]) / window\n",
    "#         Avg_gain[i] = np.sum(Gain[i-window+1:i+1]) / window\n",
    "#         Avg_loss[i] = np.sum(Loss[i-window+1:i+1]) / window\n",
    "        rsi[i]=(100*Avg_gain[i]/(Avg_gain[i]+Avg_loss[i]))"
   ]
  },
  {
   "cell_type": "code",
   "execution_count": 20,
   "metadata": {},
   "outputs": [
    {
     "data": {
      "text/plain": [
       "True"
      ]
     },
     "execution_count": 20,
     "metadata": {},
     "output_type": "execute_result"
    }
   ],
   "source": [
    "np.all(Gain == gain)"
   ]
  },
  {
   "cell_type": "code",
   "execution_count": 21,
   "metadata": {},
   "outputs": [
    {
     "data": {
      "text/plain": [
       "True"
      ]
     },
     "execution_count": 21,
     "metadata": {},
     "output_type": "execute_result"
    }
   ],
   "source": [
    "np.all(Loss == loss)"
   ]
  },
  {
   "cell_type": "code",
   "execution_count": 22,
   "metadata": {},
   "outputs": [
    {
     "data": {
      "text/plain": [
       "2011-03-08    0.000714\n",
       "2011-03-09    0.000663\n",
       "2011-03-10    0.000616\n",
       "2011-03-11    0.012715\n",
       "2011-03-14    0.015378\n",
       "                ...   \n",
       "2021-02-08    1.178553\n",
       "2021-02-09    1.094371\n",
       "2021-02-10    1.016201\n",
       "2021-02-11    0.943616\n",
       "2021-02-12    0.893357\n",
       "Name: Close, Length: 2502, dtype: float64"
      ]
     },
     "execution_count": 22,
     "metadata": {},
     "output_type": "execute_result"
    }
   ],
   "source": [
    "Avg_gain [ Avg_gain > 0]"
   ]
  },
  {
   "cell_type": "code",
   "execution_count": 23,
   "metadata": {},
   "outputs": [
    {
     "data": {
      "text/plain": [
       "2011-03-08    0.000714\n",
       "Name: Close, dtype: float64"
      ]
     },
     "execution_count": 23,
     "metadata": {},
     "output_type": "execute_result"
    }
   ],
   "source": [
    "Avg_gain[15:16]"
   ]
  },
  {
   "cell_type": "code",
   "execution_count": 24,
   "metadata": {},
   "outputs": [
    {
     "data": {
      "text/plain": [
       "2011-03-07    0.063571\n",
       "2011-03-08    0.062857\n",
       "2011-03-09    0.055714\n",
       "2011-03-10    0.055714\n",
       "2011-03-11    0.067857\n",
       "                ...   \n",
       "2021-02-08    1.566429\n",
       "2021-02-09    1.267143\n",
       "2021-02-10    0.921429\n",
       "2021-02-11    0.765000\n",
       "2021-02-12    0.507143\n",
       "Name: Close, Length: 2503, dtype: float64"
      ]
     },
     "execution_count": 24,
     "metadata": {},
     "output_type": "execute_result"
    }
   ],
   "source": [
    "gain.fillna(0).rolling(14).mean()[14:]"
   ]
  },
  {
   "cell_type": "code",
   "execution_count": 25,
   "metadata": {},
   "outputs": [],
   "source": [
    "def RSI_Harshad_fixed(df, window):\n",
    "    rsi=df['Close'].copy()\n",
    "    rsi[:]=np.nan\n",
    "\n",
    "    change = df.Close - df.Close.shift(1)\n",
    "    change = change.fillna(0)\n",
    "\n",
    "    gain = change.copy()\n",
    "    gain [ gain <= 0] = 0\n",
    "    \n",
    "    loss = change.copy()\n",
    "    loss [ loss > 0] = 0\n",
    "    loss = np.abs(loss)\n",
    "    \n",
    "    Avg_gain = gain.fillna(0).rolling(14).mean()\n",
    "    Avg_loss = loss.fillna(0).rolling(14).mean()\n",
    "    rsi = 100 * (Avg_gain / (Avg_gain + Avg_loss))\n",
    "\n",
    "    return rsi"
   ]
  },
  {
   "cell_type": "code",
   "execution_count": 26,
   "metadata": {},
   "outputs": [
    {
     "data": {
      "text/plain": [
       "2011-02-14          NaN\n",
       "2011-02-15          NaN\n",
       "2011-02-16          NaN\n",
       "2011-02-17          NaN\n",
       "2011-02-18          NaN\n",
       "                ...    \n",
       "2021-02-08    63.399827\n",
       "2021-02-09    56.677316\n",
       "2021-02-10    47.636632\n",
       "2021-02-11    42.584493\n",
       "2021-02-12    32.961931\n",
       "Name: Close, Length: 2517, dtype: float64"
      ]
     },
     "execution_count": 26,
     "metadata": {},
     "output_type": "execute_result"
    }
   ],
   "source": [
    "RSI_Harshad_fixed(hist, 14)"
   ]
  },
  {
   "cell_type": "code",
   "execution_count": 27,
   "metadata": {},
   "outputs": [
    {
     "data": {
      "text/plain": [
       "2011-02-14          NaN\n",
       "2011-02-15          NaN\n",
       "2011-02-16          NaN\n",
       "2011-02-17          NaN\n",
       "2011-02-18          NaN\n",
       "                ...    \n",
       "2021-02-08    63.399827\n",
       "2021-02-09    56.677316\n",
       "2021-02-10    47.636632\n",
       "2021-02-11    42.584493\n",
       "2021-02-12    32.961931\n",
       "Name: Close, Length: 2517, dtype: float64"
      ]
     },
     "execution_count": 27,
     "metadata": {},
     "output_type": "execute_result"
    }
   ],
   "source": [
    "RSI_Frank(hist, 14)"
   ]
  },
  {
   "cell_type": "code",
   "execution_count": 28,
   "metadata": {},
   "outputs": [
    {
     "data": {
      "text/plain": [
       "True"
      ]
     },
     "execution_count": 28,
     "metadata": {},
     "output_type": "execute_result"
    }
   ],
   "source": [
    "np.allclose(RSI_Harshad_fixed(hist, 14)[14:], RSI_Frank(hist, 14)[14:])"
   ]
  },
  {
   "cell_type": "code",
   "execution_count": 29,
   "metadata": {},
   "outputs": [
    {
     "name": "stdout",
     "output_type": "stream",
     "text": [
      "CPU times: user 6.74 ms, sys: 1.43 ms, total: 8.17 ms\n",
      "Wall time: 6.95 ms\n"
     ]
    },
    {
     "data": {
      "text/plain": [
       "2011-02-14          NaN\n",
       "2011-02-15          NaN\n",
       "2011-02-16          NaN\n",
       "2011-02-17          NaN\n",
       "2011-02-18          NaN\n",
       "                ...    \n",
       "2021-02-08    63.399827\n",
       "2021-02-09    56.677316\n",
       "2021-02-10    47.636632\n",
       "2021-02-11    42.584493\n",
       "2021-02-12    32.961931\n",
       "Name: Close, Length: 2517, dtype: float64"
      ]
     },
     "execution_count": 29,
     "metadata": {},
     "output_type": "execute_result"
    }
   ],
   "source": [
    "%time RSI_Harshad_fixed(hist, 14)"
   ]
  },
  {
   "cell_type": "code",
   "execution_count": 30,
   "metadata": {},
   "outputs": [
    {
     "name": "stdout",
     "output_type": "stream",
     "text": [
      "CPU times: user 10.4 ms, sys: 1.07 ms, total: 11.4 ms\n",
      "Wall time: 10.6 ms\n"
     ]
    },
    {
     "data": {
      "text/plain": [
       "2011-02-14          NaN\n",
       "2011-02-15          NaN\n",
       "2011-02-16          NaN\n",
       "2011-02-17          NaN\n",
       "2011-02-18          NaN\n",
       "                ...    \n",
       "2021-02-08    63.399827\n",
       "2021-02-09    56.677316\n",
       "2021-02-10    47.636632\n",
       "2021-02-11    42.584493\n",
       "2021-02-12    32.961931\n",
       "Name: Close, Length: 2517, dtype: float64"
      ]
     },
     "execution_count": 30,
     "metadata": {},
     "output_type": "execute_result"
    }
   ],
   "source": [
    "%time RSI_Frank(hist, 14)"
   ]
  },
  {
   "cell_type": "code",
   "execution_count": null,
   "metadata": {},
   "outputs": [],
   "source": []
  },
  {
   "cell_type": "code",
   "execution_count": null,
   "metadata": {},
   "outputs": [],
   "source": []
  },
  {
   "cell_type": "code",
   "execution_count": null,
   "metadata": {},
   "outputs": [],
   "source": []
  },
  {
   "cell_type": "code",
   "execution_count": null,
   "metadata": {},
   "outputs": [],
   "source": []
  },
  {
   "cell_type": "code",
   "execution_count": null,
   "metadata": {},
   "outputs": [],
   "source": []
  },
  {
   "cell_type": "code",
   "execution_count": null,
   "metadata": {},
   "outputs": [],
   "source": []
  },
  {
   "cell_type": "code",
   "execution_count": null,
   "metadata": {},
   "outputs": [],
   "source": []
  },
  {
   "cell_type": "code",
   "execution_count": null,
   "metadata": {},
   "outputs": [],
   "source": []
  },
  {
   "cell_type": "code",
   "execution_count": null,
   "metadata": {},
   "outputs": [],
   "source": []
  },
  {
   "cell_type": "code",
   "execution_count": null,
   "metadata": {},
   "outputs": [],
   "source": []
  }
 ],
 "metadata": {
  "kernelspec": {
   "display_name": "Python 3.7.5 64-bit ('learn': conda)",
   "language": "python",
   "name": "python37564bitlearnconda9edf13e24aea43b294d817638a3bc50f"
  },
  "language_info": {
   "codemirror_mode": {
    "name": "ipython",
    "version": 3
   },
   "file_extension": ".py",
   "mimetype": "text/x-python",
   "name": "python",
   "nbconvert_exporter": "python",
   "pygments_lexer": "ipython3",
   "version": "3.7.5"
  }
 },
 "nbformat": 4,
 "nbformat_minor": 2
}
