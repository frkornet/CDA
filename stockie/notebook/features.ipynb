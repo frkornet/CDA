{
 "cells": [
  {
   "cell_type": "code",
   "execution_count": 34,
   "metadata": {},
   "outputs": [],
   "source": [
    "import pandas as pd\n",
    "import numpy  as np\n",
    "import gc; gc.collect()\n",
    "\n",
    "from   pathlib  import Path\n",
    "\n",
    "import warnings\n",
    "warnings.filterwarnings(\"ignore\")"
   ]
  },
  {
   "cell_type": "code",
   "execution_count": 35,
   "metadata": {},
   "outputs": [],
   "source": [
    "YFLOAD_PATH = '/Users/frkornet/CDA/Project/stockie/data/yfin/'\n",
    "TRADE_PERIOD    = \"10y\"\n",
    "NAME_MAP        = f'/Users/frkornet/CDA/Project/fund_indicators/name_map.csv'"
   ]
  },
  {
   "cell_type": "code",
   "execution_count": 36,
   "metadata": {},
   "outputs": [],
   "source": [
    "def get_stock_n_smooth(ticker, period):\n",
    "    \"\"\"\n",
    "    Copy of what is in util.py. Except this version reads what has been read \n",
    "    from yfinance and stored on file. The stored version is smoothed already, \n",
    "    and reading from disk should be much faster as it avoids the expensive \n",
    "    smoothing operation. The reading from file, will only return success if \n",
    "    there is at least 5 years worth of data to work with. \n",
    "    \"\"\"\n",
    "    gc.collect()\n",
    "    try:\n",
    "       hist = pd.read_csv(f'{YFLOAD_PATH}{ticker}.csv')\n",
    "       hist.index = hist.Date.values\n",
    "       del hist['Date']\n",
    "       success = len(hist) > 5 * 252\n",
    "       print(f'Successfully retrieved smoothed price data for {ticker} '+\n",
    "             f'(len(hist)={len(hist)}, success={success})')\n",
    "    except:\n",
    "       hist = None\n",
    "       success = False\n",
    "       print(f'Failed to find {ticker}.csv in {YFLOAD_PATH}!')\n",
    "    \n",
    "    return success, hist"
   ]
  },
  {
   "cell_type": "code",
   "execution_count": 37,
   "metadata": {},
   "outputs": [
    {
     "name": "stdout",
     "output_type": "stream",
     "text": [
      "Successfully retrieved smoothed price data for ABCB (len(hist)=2517, success=True)\n"
     ]
    },
    {
     "data": {
      "text/html": [
       "<div>\n",
       "<style scoped>\n",
       "    .dataframe tbody tr th:only-of-type {\n",
       "        vertical-align: middle;\n",
       "    }\n",
       "\n",
       "    .dataframe tbody tr th {\n",
       "        vertical-align: top;\n",
       "    }\n",
       "\n",
       "    .dataframe thead th {\n",
       "        text-align: right;\n",
       "    }\n",
       "</style>\n",
       "<table border=\"1\" class=\"dataframe\">\n",
       "  <thead>\n",
       "    <tr style=\"text-align: right;\">\n",
       "      <th></th>\n",
       "      <th>Open</th>\n",
       "      <th>High</th>\n",
       "      <th>Low</th>\n",
       "      <th>Close</th>\n",
       "      <th>Volume</th>\n",
       "      <th>Dividends</th>\n",
       "      <th>Stock Splits</th>\n",
       "      <th>smooth</th>\n",
       "      <th>P/E Ratio</th>\n",
       "      <th>target</th>\n",
       "    </tr>\n",
       "  </thead>\n",
       "  <tbody>\n",
       "    <tr>\n",
       "      <th>2011-02-14</th>\n",
       "      <td>9.17</td>\n",
       "      <td>9.38</td>\n",
       "      <td>9.16</td>\n",
       "      <td>9.31</td>\n",
       "      <td>18700</td>\n",
       "      <td>0.0</td>\n",
       "      <td>0</td>\n",
       "      <td>9.205647</td>\n",
       "      <td>NaN</td>\n",
       "      <td>0</td>\n",
       "    </tr>\n",
       "    <tr>\n",
       "      <th>2011-02-15</th>\n",
       "      <td>9.24</td>\n",
       "      <td>9.34</td>\n",
       "      <td>9.14</td>\n",
       "      <td>9.22</td>\n",
       "      <td>15700</td>\n",
       "      <td>0.0</td>\n",
       "      <td>0</td>\n",
       "      <td>9.203333</td>\n",
       "      <td>NaN</td>\n",
       "      <td>0</td>\n",
       "    </tr>\n",
       "    <tr>\n",
       "      <th>2011-02-16</th>\n",
       "      <td>9.23</td>\n",
       "      <td>9.31</td>\n",
       "      <td>9.15</td>\n",
       "      <td>9.17</td>\n",
       "      <td>13800</td>\n",
       "      <td>0.0</td>\n",
       "      <td>0</td>\n",
       "      <td>9.201019</td>\n",
       "      <td>NaN</td>\n",
       "      <td>0</td>\n",
       "    </tr>\n",
       "    <tr>\n",
       "      <th>2011-02-17</th>\n",
       "      <td>9.19</td>\n",
       "      <td>9.19</td>\n",
       "      <td>9.03</td>\n",
       "      <td>9.10</td>\n",
       "      <td>60800</td>\n",
       "      <td>0.0</td>\n",
       "      <td>0</td>\n",
       "      <td>9.198705</td>\n",
       "      <td>NaN</td>\n",
       "      <td>0</td>\n",
       "    </tr>\n",
       "    <tr>\n",
       "      <th>2011-02-18</th>\n",
       "      <td>9.19</td>\n",
       "      <td>9.26</td>\n",
       "      <td>9.14</td>\n",
       "      <td>9.24</td>\n",
       "      <td>48300</td>\n",
       "      <td>0.0</td>\n",
       "      <td>0</td>\n",
       "      <td>9.196392</td>\n",
       "      <td>NaN</td>\n",
       "      <td>0</td>\n",
       "    </tr>\n",
       "    <tr>\n",
       "      <th>...</th>\n",
       "      <td>...</td>\n",
       "      <td>...</td>\n",
       "      <td>...</td>\n",
       "      <td>...</td>\n",
       "      <td>...</td>\n",
       "      <td>...</td>\n",
       "      <td>...</td>\n",
       "      <td>...</td>\n",
       "      <td>...</td>\n",
       "      <td>...</td>\n",
       "    </tr>\n",
       "    <tr>\n",
       "      <th>2021-02-08</th>\n",
       "      <td>44.38</td>\n",
       "      <td>45.14</td>\n",
       "      <td>43.70</td>\n",
       "      <td>45.08</td>\n",
       "      <td>293600</td>\n",
       "      <td>0.0</td>\n",
       "      <td>0</td>\n",
       "      <td>44.230497</td>\n",
       "      <td>13.660606</td>\n",
       "      <td>0</td>\n",
       "    </tr>\n",
       "    <tr>\n",
       "      <th>2021-02-09</th>\n",
       "      <td>45.00</td>\n",
       "      <td>45.73</td>\n",
       "      <td>44.38</td>\n",
       "      <td>45.51</td>\n",
       "      <td>551400</td>\n",
       "      <td>0.0</td>\n",
       "      <td>0</td>\n",
       "      <td>44.372137</td>\n",
       "      <td>13.790909</td>\n",
       "      <td>0</td>\n",
       "    </tr>\n",
       "    <tr>\n",
       "      <th>2021-02-10</th>\n",
       "      <td>45.70</td>\n",
       "      <td>46.98</td>\n",
       "      <td>45.30</td>\n",
       "      <td>46.09</td>\n",
       "      <td>424600</td>\n",
       "      <td>0.0</td>\n",
       "      <td>0</td>\n",
       "      <td>44.513778</td>\n",
       "      <td>13.966667</td>\n",
       "      <td>0</td>\n",
       "    </tr>\n",
       "    <tr>\n",
       "      <th>2021-02-11</th>\n",
       "      <td>46.05</td>\n",
       "      <td>46.58</td>\n",
       "      <td>44.68</td>\n",
       "      <td>45.66</td>\n",
       "      <td>317500</td>\n",
       "      <td>0.0</td>\n",
       "      <td>0</td>\n",
       "      <td>44.655419</td>\n",
       "      <td>13.836364</td>\n",
       "      <td>0</td>\n",
       "    </tr>\n",
       "    <tr>\n",
       "      <th>2021-02-12</th>\n",
       "      <td>45.37</td>\n",
       "      <td>46.16</td>\n",
       "      <td>45.02</td>\n",
       "      <td>45.93</td>\n",
       "      <td>162300</td>\n",
       "      <td>0.0</td>\n",
       "      <td>0</td>\n",
       "      <td>44.797060</td>\n",
       "      <td>13.918182</td>\n",
       "      <td>0</td>\n",
       "    </tr>\n",
       "  </tbody>\n",
       "</table>\n",
       "<p>2517 rows × 10 columns</p>\n",
       "</div>"
      ],
      "text/plain": [
       "             Open   High    Low  Close  Volume  Dividends  Stock Splits  \\\n",
       "2011-02-14   9.17   9.38   9.16   9.31   18700        0.0             0   \n",
       "2011-02-15   9.24   9.34   9.14   9.22   15700        0.0             0   \n",
       "2011-02-16   9.23   9.31   9.15   9.17   13800        0.0             0   \n",
       "2011-02-17   9.19   9.19   9.03   9.10   60800        0.0             0   \n",
       "2011-02-18   9.19   9.26   9.14   9.24   48300        0.0             0   \n",
       "...           ...    ...    ...    ...     ...        ...           ...   \n",
       "2021-02-08  44.38  45.14  43.70  45.08  293600        0.0             0   \n",
       "2021-02-09  45.00  45.73  44.38  45.51  551400        0.0             0   \n",
       "2021-02-10  45.70  46.98  45.30  46.09  424600        0.0             0   \n",
       "2021-02-11  46.05  46.58  44.68  45.66  317500        0.0             0   \n",
       "2021-02-12  45.37  46.16  45.02  45.93  162300        0.0             0   \n",
       "\n",
       "               smooth  P/E Ratio  target  \n",
       "2011-02-14   9.205647        NaN       0  \n",
       "2011-02-15   9.203333        NaN       0  \n",
       "2011-02-16   9.201019        NaN       0  \n",
       "2011-02-17   9.198705        NaN       0  \n",
       "2011-02-18   9.196392        NaN       0  \n",
       "...               ...        ...     ...  \n",
       "2021-02-08  44.230497  13.660606       0  \n",
       "2021-02-09  44.372137  13.790909       0  \n",
       "2021-02-10  44.513778  13.966667       0  \n",
       "2021-02-11  44.655419  13.836364       0  \n",
       "2021-02-12  44.797060  13.918182       0  \n",
       "\n",
       "[2517 rows x 10 columns]"
      ]
     },
     "execution_count": 37,
     "metadata": {},
     "output_type": "execute_result"
    }
   ],
   "source": [
    "ticker = 'ABCB'\n",
    "target = 'target'\n",
    "success, hist = get_stock_n_smooth(ticker, TRADE_PERIOD)\n",
    "assert success == True, \"Unable to get historical price data and smooth price!\"\n",
    "hist[target] = 0\n",
    "hist"
   ]
  },
  {
   "cell_type": "code",
   "execution_count": 38,
   "metadata": {},
   "outputs": [
    {
     "data": {
      "text/html": [
       "<div>\n",
       "<style scoped>\n",
       "    .dataframe tbody tr th:only-of-type {\n",
       "        vertical-align: middle;\n",
       "    }\n",
       "\n",
       "    .dataframe tbody tr th {\n",
       "        vertical-align: top;\n",
       "    }\n",
       "\n",
       "    .dataframe thead th {\n",
       "        text-align: right;\n",
       "    }\n",
       "</style>\n",
       "<table border=\"1\" class=\"dataframe\">\n",
       "  <thead>\n",
       "    <tr style=\"text-align: right;\">\n",
       "      <th></th>\n",
       "      <th>Open</th>\n",
       "      <th>High</th>\n",
       "      <th>Low</th>\n",
       "      <th>Close</th>\n",
       "      <th>Volume</th>\n",
       "      <th>Dividends</th>\n",
       "      <th>Stock Splits</th>\n",
       "      <th>smooth</th>\n",
       "    </tr>\n",
       "  </thead>\n",
       "  <tbody>\n",
       "    <tr>\n",
       "      <th>2011-02-14</th>\n",
       "      <td>9.17</td>\n",
       "      <td>9.38</td>\n",
       "      <td>9.16</td>\n",
       "      <td>9.31</td>\n",
       "      <td>18700</td>\n",
       "      <td>0.0</td>\n",
       "      <td>0</td>\n",
       "      <td>9.205647</td>\n",
       "    </tr>\n",
       "    <tr>\n",
       "      <th>2011-02-15</th>\n",
       "      <td>9.24</td>\n",
       "      <td>9.34</td>\n",
       "      <td>9.14</td>\n",
       "      <td>9.22</td>\n",
       "      <td>15700</td>\n",
       "      <td>0.0</td>\n",
       "      <td>0</td>\n",
       "      <td>9.203333</td>\n",
       "    </tr>\n",
       "    <tr>\n",
       "      <th>2011-02-16</th>\n",
       "      <td>9.23</td>\n",
       "      <td>9.31</td>\n",
       "      <td>9.15</td>\n",
       "      <td>9.17</td>\n",
       "      <td>13800</td>\n",
       "      <td>0.0</td>\n",
       "      <td>0</td>\n",
       "      <td>9.201019</td>\n",
       "    </tr>\n",
       "    <tr>\n",
       "      <th>2011-02-17</th>\n",
       "      <td>9.19</td>\n",
       "      <td>9.19</td>\n",
       "      <td>9.03</td>\n",
       "      <td>9.10</td>\n",
       "      <td>60800</td>\n",
       "      <td>0.0</td>\n",
       "      <td>0</td>\n",
       "      <td>9.198705</td>\n",
       "    </tr>\n",
       "    <tr>\n",
       "      <th>2011-02-18</th>\n",
       "      <td>9.19</td>\n",
       "      <td>9.26</td>\n",
       "      <td>9.14</td>\n",
       "      <td>9.24</td>\n",
       "      <td>48300</td>\n",
       "      <td>0.0</td>\n",
       "      <td>0</td>\n",
       "      <td>9.196392</td>\n",
       "    </tr>\n",
       "    <tr>\n",
       "      <th>...</th>\n",
       "      <td>...</td>\n",
       "      <td>...</td>\n",
       "      <td>...</td>\n",
       "      <td>...</td>\n",
       "      <td>...</td>\n",
       "      <td>...</td>\n",
       "      <td>...</td>\n",
       "      <td>...</td>\n",
       "    </tr>\n",
       "    <tr>\n",
       "      <th>2021-02-08</th>\n",
       "      <td>44.38</td>\n",
       "      <td>45.14</td>\n",
       "      <td>43.70</td>\n",
       "      <td>45.08</td>\n",
       "      <td>293600</td>\n",
       "      <td>0.0</td>\n",
       "      <td>0</td>\n",
       "      <td>44.230497</td>\n",
       "    </tr>\n",
       "    <tr>\n",
       "      <th>2021-02-09</th>\n",
       "      <td>45.00</td>\n",
       "      <td>45.73</td>\n",
       "      <td>44.38</td>\n",
       "      <td>45.51</td>\n",
       "      <td>551400</td>\n",
       "      <td>0.0</td>\n",
       "      <td>0</td>\n",
       "      <td>44.372137</td>\n",
       "    </tr>\n",
       "    <tr>\n",
       "      <th>2021-02-10</th>\n",
       "      <td>45.70</td>\n",
       "      <td>46.98</td>\n",
       "      <td>45.30</td>\n",
       "      <td>46.09</td>\n",
       "      <td>424600</td>\n",
       "      <td>0.0</td>\n",
       "      <td>0</td>\n",
       "      <td>44.513778</td>\n",
       "    </tr>\n",
       "    <tr>\n",
       "      <th>2021-02-11</th>\n",
       "      <td>46.05</td>\n",
       "      <td>46.58</td>\n",
       "      <td>44.68</td>\n",
       "      <td>45.66</td>\n",
       "      <td>317500</td>\n",
       "      <td>0.0</td>\n",
       "      <td>0</td>\n",
       "      <td>44.655419</td>\n",
       "    </tr>\n",
       "    <tr>\n",
       "      <th>2021-02-12</th>\n",
       "      <td>45.37</td>\n",
       "      <td>46.16</td>\n",
       "      <td>45.02</td>\n",
       "      <td>45.93</td>\n",
       "      <td>162300</td>\n",
       "      <td>0.0</td>\n",
       "      <td>0</td>\n",
       "      <td>44.797060</td>\n",
       "    </tr>\n",
       "  </tbody>\n",
       "</table>\n",
       "<p>2517 rows × 8 columns</p>\n",
       "</div>"
      ],
      "text/plain": [
       "             Open   High    Low  Close  Volume  Dividends  Stock Splits  \\\n",
       "2011-02-14   9.17   9.38   9.16   9.31   18700        0.0             0   \n",
       "2011-02-15   9.24   9.34   9.14   9.22   15700        0.0             0   \n",
       "2011-02-16   9.23   9.31   9.15   9.17   13800        0.0             0   \n",
       "2011-02-17   9.19   9.19   9.03   9.10   60800        0.0             0   \n",
       "2011-02-18   9.19   9.26   9.14   9.24   48300        0.0             0   \n",
       "...           ...    ...    ...    ...     ...        ...           ...   \n",
       "2021-02-08  44.38  45.14  43.70  45.08  293600        0.0             0   \n",
       "2021-02-09  45.00  45.73  44.38  45.51  551400        0.0             0   \n",
       "2021-02-10  45.70  46.98  45.30  46.09  424600        0.0             0   \n",
       "2021-02-11  46.05  46.58  44.68  45.66  317500        0.0             0   \n",
       "2021-02-12  45.37  46.16  45.02  45.93  162300        0.0             0   \n",
       "\n",
       "               smooth  \n",
       "2011-02-14   9.205647  \n",
       "2011-02-15   9.203333  \n",
       "2011-02-16   9.201019  \n",
       "2011-02-17   9.198705  \n",
       "2011-02-18   9.196392  \n",
       "...               ...  \n",
       "2021-02-08  44.230497  \n",
       "2021-02-09  44.372137  \n",
       "2021-02-10  44.513778  \n",
       "2021-02-11  44.655419  \n",
       "2021-02-12  44.797060  \n",
       "\n",
       "[2517 rows x 8 columns]"
      ]
     },
     "execution_count": 38,
     "metadata": {},
     "output_type": "execute_result"
    }
   ],
   "source": [
    "hist_orig = pd.read_csv('/Users/frkornet/CDA/Project/stockie/data/yfin_bak/ABCB.csv')\n",
    "hist_orig.index = hist_orig.Date.values\n",
    "del hist_orig['Date']\n",
    "hist_orig"
   ]
  },
  {
   "cell_type": "code",
   "execution_count": 39,
   "metadata": {},
   "outputs": [],
   "source": [
    "def features(data, target):\n",
    "    \"\"\" \n",
    "    Given a standard yfinance data dataframe, add features that will help\n",
    "    the balanced scorecard to recognize buy and sell signals in the data.\n",
    "    The features are added as columns in the data dataframe. \n",
    "    \n",
    "    The original hist dataframe from yfinance is provided, so we can copy\n",
    "    the target to the data dataframe. The data dataframe with the extra \n",
    "    features is returned. The target argument contains the name of the \n",
    "    column that contains the the target.\n",
    "    \"\"\"\n",
    "    windows = [3, 5, 10, 15, 20, 30, 45, 60] \n",
    "\n",
    "    for i in windows:\n",
    "        ma = data.Close.rolling(i).mean()\n",
    "        # Moving Average Convergence Divergence (MACD)\n",
    "        data[f'MACD_{i}']    = ma - data.Close\n",
    "        data[f'PctDiff_{i}'] = data.Close.diff(i)\n",
    "        data[f'StdDev_{i}']  = data.Close.rolling(i).std()\n",
    "\n",
    "\n",
    "    exclude_cols = [target, 'smooth', 'Close', 'Date', 'Volume', 'Dividends', 'Stock Splits'] \n",
    "    factor = data.Close.copy()\n",
    "    for c in data.columns.tolist():\n",
    "        if c in exclude_cols:\n",
    "           continue\n",
    "        data[c] = data[c] / factor\n",
    "\n",
    "    for i in windows:\n",
    "        #data[f'RSI_{i}']     = RSI(data, i)\n",
    "        #data[f'WPR_{i}']     = WPR(data, i)\n",
    "        #data[f'MFI_{i}']     = MFI(data, i)\n",
    "        data[f'BBP_{i}']      = BBP(data, i)\n",
    "        \n",
    "    data = data.dropna()\n",
    "    \n",
    "    return data"
   ]
  },
  {
   "cell_type": "code",
   "execution_count": 40,
   "metadata": {},
   "outputs": [],
   "source": [
    "def RSI_Frank(df, window):\n",
    "    price = hist['Close']\n",
    "    rsi = price.copy()\n",
    "    \n",
    "    daily_rets = price.copy()\n",
    "    daily_rets.values[1:] = price.values[1:] - price.values[:-1]\n",
    "    daily_rets.values[0]  = np.nan\n",
    "\n",
    "    up_rets = price.copy()\n",
    "    up_rets[:] = np.nan\n",
    "    up_rets[daily_rets >= 0] = daily_rets[daily_rets >= 0]\n",
    "    up_rets = up_rets.fillna(0).cumsum()\n",
    "    \n",
    "    down_rets = price.copy()\n",
    "    down_rets[:] = np.nan\n",
    "    down_rets[daily_rets <  0] = -daily_rets[daily_rets <  0] # .fillna(0).cumsum() * -1.0\n",
    "    down_rets = down_rets.fillna(0).cumsum() \n",
    "    \n",
    "    up_gain = price.copy()\n",
    "    up_gain[:window] = 0\n",
    "    up_gain.values[window:] = up_rets.values[window:] - up_rets.values[:-window]\n",
    "\n",
    "    down_loss = price.copy()\n",
    "    down_loss.iloc[:window] = 0 \n",
    "    down_loss.values[window:] = down_rets.values[window:] - down_rets.values[:-window]\n",
    "    \n",
    "    rs = (up_gain / window) / (down_loss / window)\n",
    "    \n",
    "    rsi = 100 - (100 / (1 + rs))\n",
    "    rsi.iloc[:window] = np.nan\n",
    "\n",
    "    rsi[rsi == np.inf] == 100 \n",
    "    return rsi "
   ]
  },
  {
   "cell_type": "code",
   "execution_count": 41,
   "metadata": {},
   "outputs": [],
   "source": [
    "def RSI_Harshad(df, window):\n",
    "    Gain=df['Close'].copy()\n",
    "    Loss=df['Close'].copy()\n",
    "    Avg_gain=df['Close'].copy()\n",
    "    Avg_loss=df['Close'].copy()\n",
    "    rsi=df['Close'].copy()\n",
    "\n",
    "    Gain[:]=0.0\n",
    "    Loss[:]=0.0\n",
    "    Avg_gain[:]=0.0\n",
    "    Avg_loss[:]=0.0\n",
    "    rsi[:]=np.nan\n",
    "\n",
    "    for i in range(1,len(df)):\n",
    "        if df.Close.iloc[i] > df.Close.iloc[i-1]:\n",
    "            Gain[i]=df.Close.iloc[i]-df.Close.iloc[i-1]\n",
    "        else:\n",
    "            # For loss save the absolute value on loss\n",
    "            Loss[i]=abs(df.Close.iloc[i]-df.Close.iloc[i-1])\n",
    "        if i>window:\n",
    "            Avg_gain[i]=(Avg_gain[i-1]*(window-1)+Gain[i])/window\n",
    "            Avg_loss[i]=(Avg_loss[i-1]*(window-1)+Loss[i])/window\n",
    "            rsi[i]=(100*Avg_gain[i]/(Avg_gain[i]+Avg_loss[i])).round(2)\n",
    "\n",
    "    return rsi"
   ]
  },
  {
   "cell_type": "code",
   "execution_count": 42,
   "metadata": {},
   "outputs": [
    {
     "data": {
      "text/plain": [
       "2011-02-14          NaN\n",
       "2011-02-15          NaN\n",
       "2011-02-16          NaN\n",
       "2011-02-17          NaN\n",
       "2011-02-18          NaN\n",
       "                ...    \n",
       "2021-02-08    51.445864\n",
       "2021-02-09    52.748691\n",
       "2021-02-10    61.103253\n",
       "2021-02-11    55.075758\n",
       "2021-02-12    58.860265\n",
       "Name: Close, Length: 2517, dtype: float64"
      ]
     },
     "execution_count": 42,
     "metadata": {},
     "output_type": "execute_result"
    }
   ],
   "source": [
    "RSI_Frank(hist, 14)"
   ]
  },
  {
   "cell_type": "code",
   "execution_count": 43,
   "metadata": {},
   "outputs": [
    {
     "data": {
      "text/plain": [
       "2011-02-14      NaN\n",
       "2011-02-15      NaN\n",
       "2011-02-16      NaN\n",
       "2011-02-17      NaN\n",
       "2011-02-18      NaN\n",
       "              ...  \n",
       "2021-02-08    63.31\n",
       "2021-02-09    64.55\n",
       "2021-02-10    66.21\n",
       "2021-02-11    63.83\n",
       "2021-02-12    64.69\n",
       "Name: Close, Length: 2517, dtype: float64"
      ]
     },
     "execution_count": 43,
     "metadata": {},
     "output_type": "execute_result"
    }
   ],
   "source": [
    "RSI_Harshad(hist, 14)"
   ]
  },
  {
   "cell_type": "code",
   "execution_count": 44,
   "metadata": {},
   "outputs": [],
   "source": [
    "def RSI_indicator_v3(df, lookback):\n",
    "    price = df.Close\n",
    "    rsi = price.copy()\n",
    "\n",
    "    daily_rets = price.copy()\n",
    "    daily_rets.values[1:] = price.values[1:] - price.values[:-1]\n",
    "    daily_rets.values[0]  = np.nan\n",
    "\n",
    "    for day in range(df.shape[0]):\n",
    "        up_gain = daily_rets.ix[day-lookback+1:day+1].where(daily_rets >= 0.0).sum()\n",
    "        down_loss = -1 * daily_rets.ix[day-lookback+1:day+1].where(daily_rets < 0.0).sum()\n",
    "\n",
    "        if down_loss == 0:\n",
    "            rsi.ix[day] = 100 \n",
    "        else:\n",
    "            rs = (up_gain / lookback) / (down_loss / lookback)\n",
    "            rsi.ix[day] = 100 - (100 / (1 + rs))\n",
    "\n",
    "    return rsi"
   ]
  },
  {
   "cell_type": "code",
   "execution_count": 45,
   "metadata": {},
   "outputs": [
    {
     "data": {
      "text/plain": [
       "2011-02-14    100.000000\n",
       "2011-02-15    100.000000\n",
       "2011-02-16    100.000000\n",
       "2011-02-17    100.000000\n",
       "2011-02-18    100.000000\n",
       "                 ...    \n",
       "2021-02-08     51.445864\n",
       "2021-02-09     52.748691\n",
       "2021-02-10     61.103253\n",
       "2021-02-11     55.075758\n",
       "2021-02-12     58.860265\n",
       "Name: Close, Length: 2517, dtype: float64"
      ]
     },
     "execution_count": 45,
     "metadata": {},
     "output_type": "execute_result"
    }
   ],
   "source": [
    "RSI_indicator_v3(hist, 14)"
   ]
  },
  {
   "cell_type": "code",
   "execution_count": 46,
   "metadata": {},
   "outputs": [],
   "source": [
    "def RSI_indicator_v1(df, lookback):\n",
    "    price = df.Close.copy()\n",
    "    rsi = price.copy()\n",
    "\n",
    "    for day in range(price.shape[0]):\n",
    "        up_gain   = 0\n",
    "        down_loss = 0\n",
    "\n",
    "        for prev_day in range(day-lookback+1, day+1):\n",
    "            delta = price.ix[prev_day] - price.ix[prev_day-1]\n",
    "\n",
    "            if delta >= 0:\n",
    "                up_gain = up_gain + delta\n",
    "            else:\n",
    "                down_loss = down_loss + (-1 * delta)\n",
    "\n",
    "        if down_loss == 0:\n",
    "            rsi.ix[day] = 100\n",
    "        else:\n",
    "            rs = (up_gain / lookback) / (down_loss / lookback)\n",
    "            rsi.ix[day] = 100 - (100 / (1 + rs))\n",
    "\n",
    "    # print(rsi)\n",
    "    return rsi"
   ]
  },
  {
   "cell_type": "code",
   "execution_count": 47,
   "metadata": {},
   "outputs": [
    {
     "data": {
      "text/plain": [
       "2011-02-14    15.520790\n",
       "2011-02-15    16.090482\n",
       "2011-02-16    15.551266\n",
       "2011-02-17    16.288475\n",
       "2011-02-18    12.329412\n",
       "                ...    \n",
       "2021-02-08    51.445864\n",
       "2021-02-09    52.748691\n",
       "2021-02-10    61.103253\n",
       "2021-02-11    55.075758\n",
       "2021-02-12    58.860265\n",
       "Name: Close, Length: 2517, dtype: float64"
      ]
     },
     "execution_count": 47,
     "metadata": {},
     "output_type": "execute_result"
    }
   ],
   "source": [
    "RSI_indicator_v1(hist, 14)"
   ]
  },
  {
   "cell_type": "code",
   "execution_count": null,
   "metadata": {},
   "outputs": [],
   "source": []
  },
  {
   "cell_type": "code",
   "execution_count": null,
   "metadata": {},
   "outputs": [],
   "source": []
  },
  {
   "cell_type": "code",
   "execution_count": null,
   "metadata": {},
   "outputs": [],
   "source": []
  },
  {
   "cell_type": "code",
   "execution_count": 48,
   "metadata": {},
   "outputs": [],
   "source": [
    "def RSI(df, window):\n",
    "    delta = hist.Close.diff()\n",
    "\n",
    "    up_days = delta.copy()\n",
    "    up_days[delta<=0] = 0.0\n",
    "\n",
    "    down_days = abs(delta.copy())\n",
    "    down_days[delta>0]=0.0\n",
    "\n",
    "    RS_up = up_days.rolling(window).mean()\n",
    "    RS_down = down_days.rolling(window).mean()\n",
    "\n",
    "    rsi = 100-100/(1+RS_up/RS_down)\n",
    "    return rsi"
   ]
  },
  {
   "cell_type": "code",
   "execution_count": 49,
   "metadata": {},
   "outputs": [
    {
     "data": {
      "text/plain": [
       "2011-02-14          NaN\n",
       "2011-02-15          NaN\n",
       "2011-02-16          NaN\n",
       "2011-02-17          NaN\n",
       "2011-02-18          NaN\n",
       "                ...    \n",
       "2021-02-08    51.445864\n",
       "2021-02-09    52.748691\n",
       "2021-02-10    61.103253\n",
       "2021-02-11    55.075758\n",
       "2021-02-12    58.860265\n",
       "Name: Close, Length: 2517, dtype: float64"
      ]
     },
     "execution_count": 49,
     "metadata": {},
     "output_type": "execute_result"
    }
   ],
   "source": [
    "RSI(hist, 14)"
   ]
  },
  {
   "cell_type": "code",
   "execution_count": 50,
   "metadata": {},
   "outputs": [
    {
     "data": {
      "text/plain": [
       "True"
      ]
     },
     "execution_count": 50,
     "metadata": {},
     "output_type": "execute_result"
    }
   ],
   "source": [
    "np.allclose(RSI_Frank(hist,14)[14:], RSI(hist,14)[14:])"
   ]
  },
  {
   "cell_type": "code",
   "execution_count": null,
   "metadata": {},
   "outputs": [],
   "source": []
  },
  {
   "cell_type": "code",
   "execution_count": 51,
   "metadata": {},
   "outputs": [],
   "source": [
    "def WPR(df, window):\n",
    "\n",
    "    Highest_High = df['High'].rolling(window,min_periods=window).max()\n",
    "    Lowest_Low   = df['Low'].rolling(window,min_periods=window).min()\n",
    "    wpr=100 *(df['Close'] - Highest_High)/(Highest_High - Lowest_Low)\n",
    "\n",
    "    return wpr"
   ]
  },
  {
   "cell_type": "code",
   "execution_count": 52,
   "metadata": {},
   "outputs": [],
   "source": [
    "def MFI(df, window):\n",
    "\n",
    "    typical_price = (df['High'] + df['Low'] + df['Close'])/3\n",
    "    raw_money_flow = typical_price*df['Volume']\n",
    "\n",
    "    idx = typical_price>typical_price.shift(1)\n",
    "\n",
    "    pos_money_flow = raw_money_flow.copy()\n",
    "    pos_money_flow.iloc[:] = 0.0\n",
    "    pos_money_flow.loc[idx] = raw_money_flow.loc[idx]\n",
    "\n",
    "    neg_money_flow = raw_money_flow.copy()\n",
    "    neg_money_flow.iloc[:] = 0.0\n",
    "    neg_money_flow.loc[~idx] = raw_money_flow.loc[~idx]\n",
    "\n",
    "    mfi_pos = pos_money_flow.rolling(window).sum()\n",
    "    mfi_neg = neg_money_flow.rolling(window).sum()\n",
    "    mfi = 100 * mfi_pos / (mfi_pos+mfi_neg)\n",
    "\n",
    "    return mfi"
   ]
  },
  {
   "cell_type": "code",
   "execution_count": 53,
   "metadata": {},
   "outputs": [],
   "source": [
    "def BBP(df, window):   \n",
    "    MA=df['Close'].rolling(window).mean()\n",
    "    Std_Dev=df['Close'].rolling(window).std()\n",
    "\n",
    "    BOLU=MA+2*Std_Dev\n",
    "    BOLL=MA-2*Std_Dev\n",
    "\n",
    "    return ( df['Close'] - BOLL) / (BOLU - BOLL)"
   ]
  },
  {
   "cell_type": "code",
   "execution_count": 54,
   "metadata": {},
   "outputs": [
    {
     "data": {
      "text/plain": [
       "2011-02-14         NaN\n",
       "2011-02-15         NaN\n",
       "2011-02-16    0.276826\n",
       "2011-02-17    0.237324\n",
       "2011-02-18    0.750000\n",
       "                ...   \n",
       "2021-02-08    0.787290\n",
       "2021-02-09    0.707806\n",
       "2021-02-10    0.761417\n",
       "2021-02-11    0.422494\n",
       "2021-02-12    0.542178\n",
       "Name: Close, Length: 2517, dtype: float64"
      ]
     },
     "execution_count": 54,
     "metadata": {},
     "output_type": "execute_result"
    }
   ],
   "source": [
    "BBP(hist,3)"
   ]
  },
  {
   "cell_type": "code",
   "execution_count": 55,
   "metadata": {},
   "outputs": [],
   "source": [
    "def get_pe(name, ticker):\n",
    "\n",
    "    sub = pd.read_parquet(data_path / '2020_4' / 'parquet' / 'sub.parquet')\n",
    "    corp = sub[sub.name == name].T.dropna().squeeze()\n",
    "\n",
    "    # Get details on the forms\n",
    "    corp_subs = pd.DataFrame()\n",
    "    cik = corp.T.cik\n",
    "\n",
    "    if type(cik) is int:\n",
    "        cik_l = [ cik ]\n",
    "    else:\n",
    "        cik_l = list(corp.T.cik.unique())\n",
    "\n",
    "    for sub in data_path.glob('**/sub.parquet'):\n",
    "        sub = pd.read_parquet(sub)\n",
    "        idx = (sub.cik.isin(cik_l)) & (sub.form.isin(['10-Q', '10-K']))\n",
    "        corp_sub = sub.loc[idx]\n",
    "        corp_subs = pd.concat([corp_subs, corp_sub])\n",
    "\n",
    "    if len(corp_subs) == 0:\n",
    "        print(f\"No 10-Q or 10-K data found in SUB for {name} {ticker}!\")\n",
    "        return None\n",
    "    \n",
    "        # Get numeric details on the forms\n",
    "    nums_file = data_path / 'PE_nums' / f'{ticker}_nums.parquet'\n",
    "    if nums_file.exists():\n",
    "        corp_nums = pd.read_parquet(nums_file)\n",
    "    else:\n",
    "        print(\"File not available, will process the individual num files instead\")\n",
    "\n",
    "        corp_nums = pd.DataFrame()\n",
    "        for num in data_path.glob('**/num.parquet'):\n",
    "            num = pd.read_parquet(num).drop('dimh', axis=1)\n",
    "            corp_num = num[num.adsh.isin(corp_subs.adsh)]\n",
    "            corp_nums = pd.concat([corp_nums, corp_num])\n",
    "\n",
    "        assert len(corp_nums) != 0, \"No rows in corp_nums!\"\n",
    "        corp_nums.ddate = pd.to_datetime(corp_nums.ddate, format='%Y%m%d')\n",
    "        corp_nums.to_parquet(nums_file)\n",
    "\n",
    "    # Retrieve the Earnings per share diluted\n",
    "    # It only keeps the latest reported earnings.\n",
    "    # Needs be refined over time as it is leaking information here.\n",
    "    idx = (corp_nums.tag == 'EarningsPerShareDiluted') & (corp_nums.qtrs == 1)\n",
    "    eps = corp_nums.loc[idx].drop('tag', axis=1)\n",
    "    if len(eps) == 0:\n",
    "        print(\"No quarterly reports with 'EarningsPerShareDiluted' available!\")\n",
    "        return None\n",
    "\n",
    "    eps = eps[['adsh', 'ddate', 'value']].groupby('adsh').apply(lambda x: x.nlargest(n=1, columns=['ddate']))\n",
    "    eps.index = eps.ddate.values\n",
    "    eps = eps[['ddate', 'value']]\n",
    "    eps = eps.sort_values(by='ddate', ascending=True)\n",
    "    print(f'len(eps)={len(eps)}')\n",
    "\n",
    "    # Get stock data and process splits and adjust reported earnings\n",
    "    # corp_stock =yf.Ticker(ticker).history(start=str(eps.index.min())[:10], end=str(eps.index.max())[:10])\n",
    "    success, corp_stock = get_stock_n_smooth(ticker, TRADE_PERIOD)\n",
    "    if success == False or len(corp_stock) == 0:\n",
    "        print(f\"Yfinance did not return any rows!\")\n",
    "        return None\n",
    "    print(f'len(corp_stock)={len(corp_stock)}')\n",
    "    \n",
    "    splits = corp_stock[['Stock Splits']].loc[corp_stock['Stock Splits'] > 0]\n",
    "    splits['Split_Date'] = splits.index\n",
    "\n",
    "    for index, row in splits.sort_values(by='Split_Date', ascending=False).iterrows():\n",
    "        split_date  = str(index)[:10]\n",
    "        stock_split = row['Stock Splits']\n",
    "        print(split_date, stock_split)\n",
    "        eps.loc[eps.ddate < split_date,'value'] = eps.loc[eps.ddate < split_date, 'value'].div(stock_split)\n",
    "\n",
    "    eps = eps[['ddate', 'value']].set_index('ddate').squeeze().sort_index()\n",
    "    eps = eps.rolling(window=4).sum()#.dropna()\n",
    "\n",
    "    # Calculate p/e ratio\n",
    "    pe = corp_stock.Close.to_frame('price').join(eps.to_frame('eps'))\n",
    "    pe = pe.fillna(method='ffill')#.dropna()\n",
    "    pe['P/E Ratio'] = pe.price.div(pe.eps)\n",
    "    return pe\n"
   ]
  },
  {
   "cell_type": "code",
   "execution_count": null,
   "metadata": {},
   "outputs": [],
   "source": []
  },
  {
   "cell_type": "code",
   "execution_count": null,
   "metadata": {},
   "outputs": [],
   "source": []
  },
  {
   "cell_type": "code",
   "execution_count": null,
   "metadata": {},
   "outputs": [],
   "source": []
  },
  {
   "cell_type": "code",
   "execution_count": null,
   "metadata": {},
   "outputs": [],
   "source": []
  },
  {
   "cell_type": "code",
   "execution_count": 56,
   "metadata": {},
   "outputs": [
    {
     "data": {
      "text/html": [
       "<div>\n",
       "<style scoped>\n",
       "    .dataframe tbody tr th:only-of-type {\n",
       "        vertical-align: middle;\n",
       "    }\n",
       "\n",
       "    .dataframe tbody tr th {\n",
       "        vertical-align: top;\n",
       "    }\n",
       "\n",
       "    .dataframe thead th {\n",
       "        text-align: right;\n",
       "    }\n",
       "</style>\n",
       "<table border=\"1\" class=\"dataframe\">\n",
       "  <thead>\n",
       "    <tr style=\"text-align: right;\">\n",
       "      <th></th>\n",
       "      <th>ticker</th>\n",
       "      <th>stocks_name</th>\n",
       "      <th>subs_name</th>\n",
       "      <th>data</th>\n",
       "    </tr>\n",
       "  </thead>\n",
       "  <tbody>\n",
       "    <tr>\n",
       "      <th>47</th>\n",
       "      <td>AMRB</td>\n",
       "      <td>AMERICAN RIVER BANKSHARES</td>\n",
       "      <td>AMERICAN RIVER BANKSHARES</td>\n",
       "      <td>1</td>\n",
       "    </tr>\n",
       "  </tbody>\n",
       "</table>\n",
       "</div>"
      ],
      "text/plain": [
       "   ticker                stocks_name                  subs_name  data\n",
       "47   AMRB  AMERICAN RIVER BANKSHARES  AMERICAN RIVER BANKSHARES     1"
      ]
     },
     "execution_count": 56,
     "metadata": {},
     "output_type": "execute_result"
    }
   ],
   "source": [
    "name_map = pd.read_csv(NAME_MAP)\n",
    "name_map[name_map.ticker == 'AMRB']"
   ]
  },
  {
   "cell_type": "code",
   "execution_count": 57,
   "metadata": {},
   "outputs": [
    {
     "data": {
      "text/plain": [
       "'AMERICAN RIVER BANKSHARES'"
      ]
     },
     "execution_count": 57,
     "metadata": {},
     "output_type": "execute_result"
    }
   ],
   "source": [
    "ticker = 'AMRB'\n",
    "subs_name = 'AMERICAN RIVER BANKSHARES'\n",
    "subs_name"
   ]
  },
  {
   "cell_type": "code",
   "execution_count": 58,
   "metadata": {},
   "outputs": [
    {
     "data": {
      "text/plain": [
       "PosixPath('/Users/frkornet/CDA/Project/fund_indicators/data')"
      ]
     },
     "execution_count": 58,
     "metadata": {},
     "output_type": "execute_result"
    }
   ],
   "source": [
    "data_path = Path('/Users')\n",
    "data_path = data_path / 'frkornet' / 'CDA' / 'Project' / 'fund_indicators' / 'data'\n",
    "data_path"
   ]
  },
  {
   "cell_type": "code",
   "execution_count": 59,
   "metadata": {},
   "outputs": [
    {
     "data": {
      "text/plain": [
       "PosixPath('/Users/frkornet/CDA/Project/fund_indicators/data/2020_4/parquet/sub.parquet')"
      ]
     },
     "execution_count": 59,
     "metadata": {},
     "output_type": "execute_result"
    }
   ],
   "source": [
    "data_path / '2020_4' / 'parquet' / 'sub.parquet'"
   ]
  },
  {
   "cell_type": "code",
   "execution_count": 60,
   "metadata": {},
   "outputs": [
    {
     "name": "stdout",
     "output_type": "stream",
     "text": [
      "len(eps)=29\n",
      "Successfully retrieved smoothed price data for AMRB (len(hist)=2517, success=True)\n",
      "len(corp_stock)=2517\n"
     ]
    }
   ],
   "source": [
    "pe_df = get_pe(subs_name, ticker)"
   ]
  },
  {
   "cell_type": "code",
   "execution_count": 61,
   "metadata": {},
   "outputs": [
    {
     "data": {
      "text/plain": [
       "2518"
      ]
     },
     "execution_count": 61,
     "metadata": {},
     "output_type": "execute_result"
    }
   ],
   "source": [
    "len(pe_df)"
   ]
  },
  {
   "cell_type": "code",
   "execution_count": 62,
   "metadata": {},
   "outputs": [
    {
     "name": "stdout",
     "output_type": "stream",
     "text": [
      "AMN AMN HEALTHCARE SERVICES INC\n",
      "len(eps)=37\n",
      "Successfully retrieved smoothed price data for AMN (len(hist)=2517, success=True)\n",
      "len(corp_stock)=2517\n"
     ]
    },
    {
     "data": {
      "text/html": [
       "<div>\n",
       "<style scoped>\n",
       "    .dataframe tbody tr th:only-of-type {\n",
       "        vertical-align: middle;\n",
       "    }\n",
       "\n",
       "    .dataframe tbody tr th {\n",
       "        vertical-align: top;\n",
       "    }\n",
       "\n",
       "    .dataframe thead th {\n",
       "        text-align: right;\n",
       "    }\n",
       "</style>\n",
       "<table border=\"1\" class=\"dataframe\">\n",
       "  <thead>\n",
       "    <tr style=\"text-align: right;\">\n",
       "      <th></th>\n",
       "      <th>price</th>\n",
       "      <th>eps</th>\n",
       "      <th>P/E Ratio</th>\n",
       "      <th>date</th>\n",
       "    </tr>\n",
       "  </thead>\n",
       "  <tbody>\n",
       "    <tr>\n",
       "      <th>2012-12-31</th>\n",
       "      <td>11.55</td>\n",
       "      <td>0.36</td>\n",
       "      <td>32.083333</td>\n",
       "      <td>2012-12-31</td>\n",
       "    </tr>\n",
       "    <tr>\n",
       "      <th>2012-12-31</th>\n",
       "      <td>11.55</td>\n",
       "      <td>0.42</td>\n",
       "      <td>27.500000</td>\n",
       "      <td>2012-12-31</td>\n",
       "    </tr>\n",
       "  </tbody>\n",
       "</table>\n",
       "</div>"
      ],
      "text/plain": [
       "            price   eps  P/E Ratio       date\n",
       "2012-12-31  11.55  0.36  32.083333 2012-12-31\n",
       "2012-12-31  11.55  0.42  27.500000 2012-12-31"
      ]
     },
     "metadata": {},
     "output_type": "display_data"
    },
    {
     "name": "stdout",
     "output_type": "stream",
     "text": [
      "\n",
      "AMRB AMERICAN RIVER BANKSHARES\n",
      "len(eps)=29\n",
      "Successfully retrieved smoothed price data for AMRB (len(hist)=2517, success=True)\n",
      "len(corp_stock)=2517\n"
     ]
    },
    {
     "data": {
      "text/html": [
       "<div>\n",
       "<style scoped>\n",
       "    .dataframe tbody tr th:only-of-type {\n",
       "        vertical-align: middle;\n",
       "    }\n",
       "\n",
       "    .dataframe tbody tr th {\n",
       "        vertical-align: top;\n",
       "    }\n",
       "\n",
       "    .dataframe thead th {\n",
       "        text-align: right;\n",
       "    }\n",
       "</style>\n",
       "<table border=\"1\" class=\"dataframe\">\n",
       "  <thead>\n",
       "    <tr style=\"text-align: right;\">\n",
       "      <th></th>\n",
       "      <th>price</th>\n",
       "      <th>eps</th>\n",
       "      <th>P/E Ratio</th>\n",
       "      <th>date</th>\n",
       "    </tr>\n",
       "  </thead>\n",
       "  <tbody>\n",
       "    <tr>\n",
       "      <th>2015-09-30</th>\n",
       "      <td>8.93</td>\n",
       "      <td>0.64</td>\n",
       "      <td>13.953125</td>\n",
       "      <td>2015-09-30</td>\n",
       "    </tr>\n",
       "    <tr>\n",
       "      <th>2015-09-30</th>\n",
       "      <td>8.93</td>\n",
       "      <td>0.70</td>\n",
       "      <td>12.757143</td>\n",
       "      <td>2015-09-30</td>\n",
       "    </tr>\n",
       "  </tbody>\n",
       "</table>\n",
       "</div>"
      ],
      "text/plain": [
       "            price   eps  P/E Ratio       date\n",
       "2015-09-30   8.93  0.64  13.953125 2015-09-30\n",
       "2015-09-30   8.93  0.70  12.757143 2015-09-30"
      ]
     },
     "metadata": {},
     "output_type": "display_data"
    },
    {
     "name": "stdout",
     "output_type": "stream",
     "text": [
      "\n",
      "ARAY ACCURAY INC\n",
      "len(eps)=11\n",
      "Successfully retrieved smoothed price data for ARAY (len(hist)=2517, success=True)\n",
      "len(corp_stock)=2517\n"
     ]
    },
    {
     "data": {
      "text/html": [
       "<div>\n",
       "<style scoped>\n",
       "    .dataframe tbody tr th:only-of-type {\n",
       "        vertical-align: middle;\n",
       "    }\n",
       "\n",
       "    .dataframe tbody tr th {\n",
       "        vertical-align: top;\n",
       "    }\n",
       "\n",
       "    .dataframe thead th {\n",
       "        text-align: right;\n",
       "    }\n",
       "</style>\n",
       "<table border=\"1\" class=\"dataframe\">\n",
       "  <thead>\n",
       "    <tr style=\"text-align: right;\">\n",
       "      <th></th>\n",
       "      <th>price</th>\n",
       "      <th>eps</th>\n",
       "      <th>P/E Ratio</th>\n",
       "      <th>date</th>\n",
       "    </tr>\n",
       "  </thead>\n",
       "  <tbody>\n",
       "    <tr>\n",
       "      <th>2016-06-30</th>\n",
       "      <td>5.19</td>\n",
       "      <td>-0.57</td>\n",
       "      <td>-9.105263</td>\n",
       "      <td>2016-06-30</td>\n",
       "    </tr>\n",
       "    <tr>\n",
       "      <th>2016-06-30</th>\n",
       "      <td>5.19</td>\n",
       "      <td>-0.45</td>\n",
       "      <td>-11.533333</td>\n",
       "      <td>2016-06-30</td>\n",
       "    </tr>\n",
       "  </tbody>\n",
       "</table>\n",
       "</div>"
      ],
      "text/plain": [
       "            price   eps  P/E Ratio       date\n",
       "2016-06-30   5.19 -0.57  -9.105263 2016-06-30\n",
       "2016-06-30   5.19 -0.45 -11.533333 2016-06-30"
      ]
     },
     "metadata": {},
     "output_type": "display_data"
    },
    {
     "name": "stdout",
     "output_type": "stream",
     "text": [
      "\n",
      "BLL BALL CORP\n",
      "len(eps)=41\n",
      "Successfully retrieved smoothed price data for BLL (len(hist)=2517, success=True)\n",
      "len(corp_stock)=2517\n",
      "2017-05-17 2.0\n",
      "2011-02-16 2.0\n"
     ]
    },
    {
     "data": {
      "text/html": [
       "<div>\n",
       "<style scoped>\n",
       "    .dataframe tbody tr th:only-of-type {\n",
       "        vertical-align: middle;\n",
       "    }\n",
       "\n",
       "    .dataframe tbody tr th {\n",
       "        vertical-align: top;\n",
       "    }\n",
       "\n",
       "    .dataframe thead th {\n",
       "        text-align: right;\n",
       "    }\n",
       "</style>\n",
       "<table border=\"1\" class=\"dataframe\">\n",
       "  <thead>\n",
       "    <tr style=\"text-align: right;\">\n",
       "      <th></th>\n",
       "      <th>price</th>\n",
       "      <th>eps</th>\n",
       "      <th>P/E Ratio</th>\n",
       "      <th>date</th>\n",
       "    </tr>\n",
       "  </thead>\n",
       "  <tbody>\n",
       "    <tr>\n",
       "      <th>2015-09-30</th>\n",
       "      <td>29.45</td>\n",
       "      <td>1.07</td>\n",
       "      <td>27.523364</td>\n",
       "      <td>2015-09-30</td>\n",
       "    </tr>\n",
       "    <tr>\n",
       "      <th>2015-09-30</th>\n",
       "      <td>29.45</td>\n",
       "      <td>0.96</td>\n",
       "      <td>30.677083</td>\n",
       "      <td>2015-09-30</td>\n",
       "    </tr>\n",
       "  </tbody>\n",
       "</table>\n",
       "</div>"
      ],
      "text/plain": [
       "            price   eps  P/E Ratio       date\n",
       "2015-09-30  29.45  1.07  27.523364 2015-09-30\n",
       "2015-09-30  29.45  0.96  30.677083 2015-09-30"
      ]
     },
     "metadata": {},
     "output_type": "display_data"
    },
    {
     "name": "stdout",
     "output_type": "stream",
     "text": [
      "\n",
      "CFX COLFAX CORP\n",
      "len(eps)=25\n",
      "Successfully retrieved smoothed price data for CFX (len(hist)=2517, success=True)\n",
      "len(corp_stock)=2517\n"
     ]
    },
    {
     "data": {
      "text/html": [
       "<div>\n",
       "<style scoped>\n",
       "    .dataframe tbody tr th:only-of-type {\n",
       "        vertical-align: middle;\n",
       "    }\n",
       "\n",
       "    .dataframe tbody tr th {\n",
       "        vertical-align: top;\n",
       "    }\n",
       "\n",
       "    .dataframe thead th {\n",
       "        text-align: right;\n",
       "    }\n",
       "</style>\n",
       "<table border=\"1\" class=\"dataframe\">\n",
       "  <thead>\n",
       "    <tr style=\"text-align: right;\">\n",
       "      <th></th>\n",
       "      <th>price</th>\n",
       "      <th>eps</th>\n",
       "      <th>P/E Ratio</th>\n",
       "      <th>date</th>\n",
       "    </tr>\n",
       "  </thead>\n",
       "  <tbody>\n",
       "    <tr>\n",
       "      <th>2015-12-31</th>\n",
       "      <td>23.35</td>\n",
       "      <td>1.57</td>\n",
       "      <td>14.872611</td>\n",
       "      <td>2015-12-31</td>\n",
       "    </tr>\n",
       "    <tr>\n",
       "      <th>2015-12-31</th>\n",
       "      <td>23.35</td>\n",
       "      <td>1.29</td>\n",
       "      <td>18.100775</td>\n",
       "      <td>2015-12-31</td>\n",
       "    </tr>\n",
       "  </tbody>\n",
       "</table>\n",
       "</div>"
      ],
      "text/plain": [
       "            price   eps  P/E Ratio       date\n",
       "2015-12-31  23.35  1.57  14.872611 2015-12-31\n",
       "2015-12-31  23.35  1.29  18.100775 2015-12-31"
      ]
     },
     "metadata": {},
     "output_type": "display_data"
    },
    {
     "name": "stdout",
     "output_type": "stream",
     "text": [
      "\n",
      "CGNX COGNEX CORP\n",
      "len(eps)=34\n",
      "Successfully retrieved smoothed price data for CGNX (len(hist)=2517, success=True)\n",
      "len(corp_stock)=2517\n",
      "2017-12-04 2.0\n",
      "2013-09-17 2.0\n"
     ]
    },
    {
     "data": {
      "text/html": [
       "<div>\n",
       "<style scoped>\n",
       "    .dataframe tbody tr th:only-of-type {\n",
       "        vertical-align: middle;\n",
       "    }\n",
       "\n",
       "    .dataframe tbody tr th {\n",
       "        vertical-align: top;\n",
       "    }\n",
       "\n",
       "    .dataframe thead th {\n",
       "        text-align: right;\n",
       "    }\n",
       "</style>\n",
       "<table border=\"1\" class=\"dataframe\">\n",
       "  <thead>\n",
       "    <tr style=\"text-align: right;\">\n",
       "      <th></th>\n",
       "      <th>price</th>\n",
       "      <th>eps</th>\n",
       "      <th>P/E Ratio</th>\n",
       "      <th>date</th>\n",
       "    </tr>\n",
       "  </thead>\n",
       "  <tbody>\n",
       "    <tr>\n",
       "      <th>2018-12-31</th>\n",
       "      <td>37.33</td>\n",
       "      <td>1.24</td>\n",
       "      <td>30.104839</td>\n",
       "      <td>2018-12-31</td>\n",
       "    </tr>\n",
       "    <tr>\n",
       "      <th>2018-12-31</th>\n",
       "      <td>37.33</td>\n",
       "      <td>1.49</td>\n",
       "      <td>25.053691</td>\n",
       "      <td>2018-12-31</td>\n",
       "    </tr>\n",
       "  </tbody>\n",
       "</table>\n",
       "</div>"
      ],
      "text/plain": [
       "            price   eps  P/E Ratio       date\n",
       "2018-12-31  37.33  1.24  30.104839 2018-12-31\n",
       "2018-12-31  37.33  1.49  25.053691 2018-12-31"
      ]
     },
     "metadata": {},
     "output_type": "display_data"
    },
    {
     "name": "stdout",
     "output_type": "stream",
     "text": [
      "\n",
      "CRI CARTERS INC\n",
      "len(eps)=41\n",
      "Successfully retrieved smoothed price data for CRI (len(hist)=2517, success=True)\n",
      "len(corp_stock)=2517\n"
     ]
    },
    {
     "data": {
      "text/html": [
       "<div>\n",
       "<style scoped>\n",
       "    .dataframe tbody tr th:only-of-type {\n",
       "        vertical-align: middle;\n",
       "    }\n",
       "\n",
       "    .dataframe tbody tr th {\n",
       "        vertical-align: top;\n",
       "    }\n",
       "\n",
       "    .dataframe thead th {\n",
       "        text-align: right;\n",
       "    }\n",
       "</style>\n",
       "<table border=\"1\" class=\"dataframe\">\n",
       "  <thead>\n",
       "    <tr style=\"text-align: right;\">\n",
       "      <th></th>\n",
       "      <th>price</th>\n",
       "      <th>eps</th>\n",
       "      <th>P/E Ratio</th>\n",
       "      <th>date</th>\n",
       "    </tr>\n",
       "  </thead>\n",
       "  <tbody>\n",
       "    <tr>\n",
       "      <th>2014-12-31</th>\n",
       "      <td>80.23</td>\n",
       "      <td>3.63</td>\n",
       "      <td>22.101928</td>\n",
       "      <td>2014-12-31</td>\n",
       "    </tr>\n",
       "    <tr>\n",
       "      <th>2014-12-31</th>\n",
       "      <td>80.23</td>\n",
       "      <td>4.29</td>\n",
       "      <td>18.701632</td>\n",
       "      <td>2014-12-31</td>\n",
       "    </tr>\n",
       "  </tbody>\n",
       "</table>\n",
       "</div>"
      ],
      "text/plain": [
       "            price   eps  P/E Ratio       date\n",
       "2014-12-31  80.23  3.63  22.101928 2014-12-31\n",
       "2014-12-31  80.23  4.29  18.701632 2014-12-31"
      ]
     },
     "metadata": {},
     "output_type": "display_data"
    },
    {
     "name": "stdout",
     "output_type": "stream",
     "text": [
      "\n",
      "CTRN CITI TRENDS INC\n",
      "len(eps)=37\n",
      "Successfully retrieved smoothed price data for CTRN (len(hist)=2517, success=True)\n",
      "len(corp_stock)=2517\n"
     ]
    },
    {
     "data": {
      "text/html": [
       "<div>\n",
       "<style scoped>\n",
       "    .dataframe tbody tr th:only-of-type {\n",
       "        vertical-align: middle;\n",
       "    }\n",
       "\n",
       "    .dataframe tbody tr th {\n",
       "        vertical-align: top;\n",
       "    }\n",
       "\n",
       "    .dataframe thead th {\n",
       "        text-align: right;\n",
       "    }\n",
       "</style>\n",
       "<table border=\"1\" class=\"dataframe\">\n",
       "  <thead>\n",
       "    <tr style=\"text-align: right;\">\n",
       "      <th></th>\n",
       "      <th>price</th>\n",
       "      <th>eps</th>\n",
       "      <th>P/E Ratio</th>\n",
       "      <th>date</th>\n",
       "    </tr>\n",
       "  </thead>\n",
       "  <tbody>\n",
       "    <tr>\n",
       "      <th>2017-10-31</th>\n",
       "      <td>20.94</td>\n",
       "      <td>0.91</td>\n",
       "      <td>23.010989</td>\n",
       "      <td>2017-10-31</td>\n",
       "    </tr>\n",
       "    <tr>\n",
       "      <th>2017-10-31</th>\n",
       "      <td>20.94</td>\n",
       "      <td>1.02</td>\n",
       "      <td>20.529412</td>\n",
       "      <td>2017-10-31</td>\n",
       "    </tr>\n",
       "  </tbody>\n",
       "</table>\n",
       "</div>"
      ],
      "text/plain": [
       "            price   eps  P/E Ratio       date\n",
       "2017-10-31  20.94  0.91  23.010989 2017-10-31\n",
       "2017-10-31  20.94  1.02  20.529412 2017-10-31"
      ]
     },
     "metadata": {},
     "output_type": "display_data"
    },
    {
     "name": "stdout",
     "output_type": "stream",
     "text": [
      "\n",
      "CXDC CHINA XD PLASTICS CO LTD\n",
      "len(eps)=13\n",
      "Successfully retrieved smoothed price data for CXDC (len(hist)=2517, success=True)\n",
      "len(corp_stock)=2517\n"
     ]
    },
    {
     "data": {
      "text/html": [
       "<div>\n",
       "<style scoped>\n",
       "    .dataframe tbody tr th:only-of-type {\n",
       "        vertical-align: middle;\n",
       "    }\n",
       "\n",
       "    .dataframe tbody tr th {\n",
       "        vertical-align: top;\n",
       "    }\n",
       "\n",
       "    .dataframe thead th {\n",
       "        text-align: right;\n",
       "    }\n",
       "</style>\n",
       "<table border=\"1\" class=\"dataframe\">\n",
       "  <thead>\n",
       "    <tr style=\"text-align: right;\">\n",
       "      <th></th>\n",
       "      <th>price</th>\n",
       "      <th>eps</th>\n",
       "      <th>P/E Ratio</th>\n",
       "      <th>date</th>\n",
       "    </tr>\n",
       "  </thead>\n",
       "  <tbody>\n",
       "    <tr>\n",
       "      <th>2014-12-31</th>\n",
       "      <td>5.43</td>\n",
       "      <td>1.88</td>\n",
       "      <td>2.888298</td>\n",
       "      <td>2014-12-31</td>\n",
       "    </tr>\n",
       "    <tr>\n",
       "      <th>2014-12-31</th>\n",
       "      <td>5.43</td>\n",
       "      <td>2.02</td>\n",
       "      <td>2.688119</td>\n",
       "      <td>2014-12-31</td>\n",
       "    </tr>\n",
       "  </tbody>\n",
       "</table>\n",
       "</div>"
      ],
      "text/plain": [
       "            price   eps  P/E Ratio       date\n",
       "2014-12-31   5.43  1.88   2.888298 2014-12-31\n",
       "2014-12-31   5.43  2.02   2.688119 2014-12-31"
      ]
     },
     "metadata": {},
     "output_type": "display_data"
    },
    {
     "name": "stdout",
     "output_type": "stream",
     "text": [
      "\n",
      "GFF GRIFFON CORP\n",
      "len(eps)=33\n",
      "Successfully retrieved smoothed price data for GFF (len(hist)=2517, success=True)\n",
      "len(corp_stock)=2517\n"
     ]
    },
    {
     "data": {
      "text/html": [
       "<div>\n",
       "<style scoped>\n",
       "    .dataframe tbody tr th:only-of-type {\n",
       "        vertical-align: middle;\n",
       "    }\n",
       "\n",
       "    .dataframe tbody tr th {\n",
       "        vertical-align: top;\n",
       "    }\n",
       "\n",
       "    .dataframe thead th {\n",
       "        text-align: right;\n",
       "    }\n",
       "</style>\n",
       "<table border=\"1\" class=\"dataframe\">\n",
       "  <thead>\n",
       "    <tr style=\"text-align: right;\">\n",
       "      <th></th>\n",
       "      <th>price</th>\n",
       "      <th>eps</th>\n",
       "      <th>P/E Ratio</th>\n",
       "      <th>date</th>\n",
       "    </tr>\n",
       "  </thead>\n",
       "  <tbody>\n",
       "    <tr>\n",
       "      <th>2016-09-30</th>\n",
       "      <td>15.04</td>\n",
       "      <td>0.23</td>\n",
       "      <td>65.391304</td>\n",
       "      <td>2016-09-30</td>\n",
       "    </tr>\n",
       "    <tr>\n",
       "      <th>2016-09-30</th>\n",
       "      <td>15.04</td>\n",
       "      <td>0.22</td>\n",
       "      <td>68.363636</td>\n",
       "      <td>2016-09-30</td>\n",
       "    </tr>\n",
       "  </tbody>\n",
       "</table>\n",
       "</div>"
      ],
      "text/plain": [
       "            price   eps  P/E Ratio       date\n",
       "2016-09-30  15.04  0.23  65.391304 2016-09-30\n",
       "2016-09-30  15.04  0.22  68.363636 2016-09-30"
      ]
     },
     "metadata": {},
     "output_type": "display_data"
    },
    {
     "name": "stdout",
     "output_type": "stream",
     "text": [
      "\n",
      "GHM GRAHAM CORP\n",
      "len(eps)=37\n",
      "Successfully retrieved smoothed price data for GHM (len(hist)=2517, success=True)\n",
      "len(corp_stock)=2517\n"
     ]
    },
    {
     "data": {
      "text/html": [
       "<div>\n",
       "<style scoped>\n",
       "    .dataframe tbody tr th:only-of-type {\n",
       "        vertical-align: middle;\n",
       "    }\n",
       "\n",
       "    .dataframe tbody tr th {\n",
       "        vertical-align: top;\n",
       "    }\n",
       "\n",
       "    .dataframe thead th {\n",
       "        text-align: right;\n",
       "    }\n",
       "</style>\n",
       "<table border=\"1\" class=\"dataframe\">\n",
       "  <thead>\n",
       "    <tr style=\"text-align: right;\">\n",
       "      <th></th>\n",
       "      <th>price</th>\n",
       "      <th>eps</th>\n",
       "      <th>P/E Ratio</th>\n",
       "      <th>date</th>\n",
       "    </tr>\n",
       "  </thead>\n",
       "  <tbody>\n",
       "    <tr>\n",
       "      <th>2016-09-30</th>\n",
       "      <td>17.33</td>\n",
       "      <td>0.32</td>\n",
       "      <td>54.156250</td>\n",
       "      <td>2016-09-30</td>\n",
       "    </tr>\n",
       "    <tr>\n",
       "      <th>2016-09-30</th>\n",
       "      <td>17.33</td>\n",
       "      <td>0.32</td>\n",
       "      <td>54.156250</td>\n",
       "      <td>2016-09-30</td>\n",
       "    </tr>\n",
       "    <tr>\n",
       "      <th>2018-12-31</th>\n",
       "      <td>21.54</td>\n",
       "      <td>0.53</td>\n",
       "      <td>40.641509</td>\n",
       "      <td>2018-12-31</td>\n",
       "    </tr>\n",
       "    <tr>\n",
       "      <th>2018-12-31</th>\n",
       "      <td>21.54</td>\n",
       "      <td>0.45</td>\n",
       "      <td>47.866667</td>\n",
       "      <td>2018-12-31</td>\n",
       "    </tr>\n",
       "  </tbody>\n",
       "</table>\n",
       "</div>"
      ],
      "text/plain": [
       "            price   eps  P/E Ratio       date\n",
       "2016-09-30  17.33  0.32  54.156250 2016-09-30\n",
       "2016-09-30  17.33  0.32  54.156250 2016-09-30\n",
       "2018-12-31  21.54  0.53  40.641509 2018-12-31\n",
       "2018-12-31  21.54  0.45  47.866667 2018-12-31"
      ]
     },
     "metadata": {},
     "output_type": "display_data"
    },
    {
     "name": "stdout",
     "output_type": "stream",
     "text": [
      "\n",
      "GORO GOLD RESOURCE CORP\n",
      "len(eps)=30\n",
      "Successfully retrieved smoothed price data for GORO (len(hist)=2517, success=True)\n",
      "len(corp_stock)=2517\n"
     ]
    },
    {
     "data": {
      "text/html": [
       "<div>\n",
       "<style scoped>\n",
       "    .dataframe tbody tr th:only-of-type {\n",
       "        vertical-align: middle;\n",
       "    }\n",
       "\n",
       "    .dataframe tbody tr th {\n",
       "        vertical-align: top;\n",
       "    }\n",
       "\n",
       "    .dataframe thead th {\n",
       "        text-align: right;\n",
       "    }\n",
       "</style>\n",
       "<table border=\"1\" class=\"dataframe\">\n",
       "  <thead>\n",
       "    <tr style=\"text-align: right;\">\n",
       "      <th></th>\n",
       "      <th>price</th>\n",
       "      <th>eps</th>\n",
       "      <th>P/E Ratio</th>\n",
       "      <th>date</th>\n",
       "    </tr>\n",
       "  </thead>\n",
       "  <tbody>\n",
       "    <tr>\n",
       "      <th>2018-12-31</th>\n",
       "      <td>3.9227</td>\n",
       "      <td>0.15</td>\n",
       "      <td>26.151333</td>\n",
       "      <td>2018-12-31</td>\n",
       "    </tr>\n",
       "    <tr>\n",
       "      <th>2018-12-31</th>\n",
       "      <td>3.9227</td>\n",
       "      <td>0.07</td>\n",
       "      <td>56.038571</td>\n",
       "      <td>2018-12-31</td>\n",
       "    </tr>\n",
       "  </tbody>\n",
       "</table>\n",
       "</div>"
      ],
      "text/plain": [
       "             price   eps  P/E Ratio       date\n",
       "2018-12-31  3.9227  0.15  26.151333 2018-12-31\n",
       "2018-12-31  3.9227  0.07  56.038571 2018-12-31"
      ]
     },
     "metadata": {},
     "output_type": "display_data"
    },
    {
     "name": "stdout",
     "output_type": "stream",
     "text": [
      "\n",
      "HBI HANESBRANDS INC.\n",
      "len(eps)=39\n",
      "Successfully retrieved smoothed price data for HBI (len(hist)=2517, success=True)\n",
      "len(corp_stock)=2517\n",
      "2015-03-04 4.0\n"
     ]
    },
    {
     "data": {
      "text/html": [
       "<div>\n",
       "<style scoped>\n",
       "    .dataframe tbody tr th:only-of-type {\n",
       "        vertical-align: middle;\n",
       "    }\n",
       "\n",
       "    .dataframe tbody tr th {\n",
       "        vertical-align: top;\n",
       "    }\n",
       "\n",
       "    .dataframe thead th {\n",
       "        text-align: right;\n",
       "    }\n",
       "</style>\n",
       "<table border=\"1\" class=\"dataframe\">\n",
       "  <thead>\n",
       "    <tr style=\"text-align: right;\">\n",
       "      <th></th>\n",
       "      <th>price</th>\n",
       "      <th>eps</th>\n",
       "      <th>P/E Ratio</th>\n",
       "      <th>date</th>\n",
       "    </tr>\n",
       "  </thead>\n",
       "  <tbody>\n",
       "    <tr>\n",
       "      <th>2015-12-31</th>\n",
       "      <td>24.74</td>\n",
       "      <td>1.06</td>\n",
       "      <td>23.339623</td>\n",
       "      <td>2015-12-31</td>\n",
       "    </tr>\n",
       "    <tr>\n",
       "      <th>2015-12-31</th>\n",
       "      <td>24.74</td>\n",
       "      <td>1.23</td>\n",
       "      <td>20.113821</td>\n",
       "      <td>2015-12-31</td>\n",
       "    </tr>\n",
       "  </tbody>\n",
       "</table>\n",
       "</div>"
      ],
      "text/plain": [
       "            price   eps  P/E Ratio       date\n",
       "2015-12-31  24.74  1.06  23.339623 2015-12-31\n",
       "2015-12-31  24.74  1.23  20.113821 2015-12-31"
      ]
     },
     "metadata": {},
     "output_type": "display_data"
    },
    {
     "name": "stdout",
     "output_type": "stream",
     "text": [
      "\n",
      "HSC HARSCO CORP\n",
      "len(eps)=32\n",
      "Successfully retrieved smoothed price data for HSC (len(hist)=2517, success=True)\n",
      "len(corp_stock)=2517\n"
     ]
    },
    {
     "data": {
      "text/html": [
       "<div>\n",
       "<style scoped>\n",
       "    .dataframe tbody tr th:only-of-type {\n",
       "        vertical-align: middle;\n",
       "    }\n",
       "\n",
       "    .dataframe tbody tr th {\n",
       "        vertical-align: top;\n",
       "    }\n",
       "\n",
       "    .dataframe thead th {\n",
       "        text-align: right;\n",
       "    }\n",
       "</style>\n",
       "<table border=\"1\" class=\"dataframe\">\n",
       "  <thead>\n",
       "    <tr style=\"text-align: right;\">\n",
       "      <th></th>\n",
       "      <th>price</th>\n",
       "      <th>eps</th>\n",
       "      <th>P/E Ratio</th>\n",
       "      <th>date</th>\n",
       "    </tr>\n",
       "  </thead>\n",
       "  <tbody>\n",
       "    <tr>\n",
       "      <th>2011-06-30</th>\n",
       "      <td>26.76</td>\n",
       "      <td>1.23</td>\n",
       "      <td>21.756098</td>\n",
       "      <td>2011-06-30</td>\n",
       "    </tr>\n",
       "    <tr>\n",
       "      <th>2011-06-30</th>\n",
       "      <td>26.76</td>\n",
       "      <td>1.33</td>\n",
       "      <td>20.120301</td>\n",
       "      <td>2011-06-30</td>\n",
       "    </tr>\n",
       "  </tbody>\n",
       "</table>\n",
       "</div>"
      ],
      "text/plain": [
       "            price   eps  P/E Ratio       date\n",
       "2011-06-30  26.76  1.23  21.756098 2011-06-30\n",
       "2011-06-30  26.76  1.33  20.120301 2011-06-30"
      ]
     },
     "metadata": {},
     "output_type": "display_data"
    },
    {
     "name": "stdout",
     "output_type": "stream",
     "text": [
      "\n",
      "INCY INCYTE CORP\n",
      "len(eps)=30\n",
      "Successfully retrieved smoothed price data for INCY (len(hist)=2517, success=True)\n",
      "len(corp_stock)=2517\n"
     ]
    },
    {
     "data": {
      "text/html": [
       "<div>\n",
       "<style scoped>\n",
       "    .dataframe tbody tr th:only-of-type {\n",
       "        vertical-align: middle;\n",
       "    }\n",
       "\n",
       "    .dataframe tbody tr th {\n",
       "        vertical-align: top;\n",
       "    }\n",
       "\n",
       "    .dataframe thead th {\n",
       "        text-align: right;\n",
       "    }\n",
       "</style>\n",
       "<table border=\"1\" class=\"dataframe\">\n",
       "  <thead>\n",
       "    <tr style=\"text-align: right;\">\n",
       "      <th></th>\n",
       "      <th>price</th>\n",
       "      <th>eps</th>\n",
       "      <th>P/E Ratio</th>\n",
       "      <th>date</th>\n",
       "    </tr>\n",
       "  </thead>\n",
       "  <tbody>\n",
       "    <tr>\n",
       "      <th>2012-12-31</th>\n",
       "      <td>16.61</td>\n",
       "      <td>-0.45</td>\n",
       "      <td>-36.911111</td>\n",
       "      <td>2012-12-31</td>\n",
       "    </tr>\n",
       "    <tr>\n",
       "      <th>2012-12-31</th>\n",
       "      <td>16.61</td>\n",
       "      <td>-0.10</td>\n",
       "      <td>-166.100000</td>\n",
       "      <td>2012-12-31</td>\n",
       "    </tr>\n",
       "  </tbody>\n",
       "</table>\n",
       "</div>"
      ],
      "text/plain": [
       "            price   eps   P/E Ratio       date\n",
       "2012-12-31  16.61 -0.45  -36.911111 2012-12-31\n",
       "2012-12-31  16.61 -0.10 -166.100000 2012-12-31"
      ]
     },
     "metadata": {},
     "output_type": "display_data"
    },
    {
     "name": "stdout",
     "output_type": "stream",
     "text": [
      "\n",
      "IPHI INPHI CORP\n",
      "len(eps)=37\n",
      "Successfully retrieved smoothed price data for IPHI (len(hist)=2517, success=True)\n",
      "len(corp_stock)=2517\n"
     ]
    },
    {
     "data": {
      "text/html": [
       "<div>\n",
       "<style scoped>\n",
       "    .dataframe tbody tr th:only-of-type {\n",
       "        vertical-align: middle;\n",
       "    }\n",
       "\n",
       "    .dataframe tbody tr th {\n",
       "        vertical-align: top;\n",
       "    }\n",
       "\n",
       "    .dataframe thead th {\n",
       "        text-align: right;\n",
       "    }\n",
       "</style>\n",
       "<table border=\"1\" class=\"dataframe\">\n",
       "  <thead>\n",
       "    <tr style=\"text-align: right;\">\n",
       "      <th></th>\n",
       "      <th>price</th>\n",
       "      <th>eps</th>\n",
       "      <th>P/E Ratio</th>\n",
       "      <th>date</th>\n",
       "    </tr>\n",
       "  </thead>\n",
       "  <tbody>\n",
       "    <tr>\n",
       "      <th>2014-06-30</th>\n",
       "      <td>14.68</td>\n",
       "      <td>-0.08</td>\n",
       "      <td>-183.500000</td>\n",
       "      <td>2014-06-30</td>\n",
       "    </tr>\n",
       "    <tr>\n",
       "      <th>2014-06-30</th>\n",
       "      <td>14.68</td>\n",
       "      <td>0.09</td>\n",
       "      <td>163.111111</td>\n",
       "      <td>2014-06-30</td>\n",
       "    </tr>\n",
       "  </tbody>\n",
       "</table>\n",
       "</div>"
      ],
      "text/plain": [
       "            price   eps   P/E Ratio       date\n",
       "2014-06-30  14.68 -0.08 -183.500000 2014-06-30\n",
       "2014-06-30  14.68  0.09  163.111111 2014-06-30"
      ]
     },
     "metadata": {},
     "output_type": "display_data"
    },
    {
     "name": "stdout",
     "output_type": "stream",
     "text": [
      "\n",
      "JOE ST JOE CO\n",
      "len(eps)=9\n",
      "Successfully retrieved smoothed price data for JOE (len(hist)=2517, success=True)\n",
      "len(corp_stock)=2517\n"
     ]
    },
    {
     "data": {
      "text/html": [
       "<div>\n",
       "<style scoped>\n",
       "    .dataframe tbody tr th:only-of-type {\n",
       "        vertical-align: middle;\n",
       "    }\n",
       "\n",
       "    .dataframe tbody tr th {\n",
       "        vertical-align: top;\n",
       "    }\n",
       "\n",
       "    .dataframe thead th {\n",
       "        text-align: right;\n",
       "    }\n",
       "</style>\n",
       "<table border=\"1\" class=\"dataframe\">\n",
       "  <thead>\n",
       "    <tr style=\"text-align: right;\">\n",
       "      <th></th>\n",
       "      <th>price</th>\n",
       "      <th>eps</th>\n",
       "      <th>P/E Ratio</th>\n",
       "      <th>date</th>\n",
       "    </tr>\n",
       "  </thead>\n",
       "  <tbody>\n",
       "    <tr>\n",
       "      <th>2011-06-30</th>\n",
       "      <td>20.76</td>\n",
       "      <td>-0.22</td>\n",
       "      <td>-94.363636</td>\n",
       "      <td>2011-06-30</td>\n",
       "    </tr>\n",
       "    <tr>\n",
       "      <th>2011-06-30</th>\n",
       "      <td>20.76</td>\n",
       "      <td>-0.27</td>\n",
       "      <td>-76.888889</td>\n",
       "      <td>2011-06-30</td>\n",
       "    </tr>\n",
       "  </tbody>\n",
       "</table>\n",
       "</div>"
      ],
      "text/plain": [
       "            price   eps  P/E Ratio       date\n",
       "2011-06-30  20.76 -0.22 -94.363636 2011-06-30\n",
       "2011-06-30  20.76 -0.27 -76.888889 2011-06-30"
      ]
     },
     "metadata": {},
     "output_type": "display_data"
    },
    {
     "name": "stdout",
     "output_type": "stream",
     "text": [
      "\n",
      "L LOEWS CORP\n",
      "len(eps)=28\n",
      "Successfully retrieved smoothed price data for L (len(hist)=2517, success=True)\n",
      "len(corp_stock)=2517\n"
     ]
    },
    {
     "data": {
      "text/html": [
       "<div>\n",
       "<style scoped>\n",
       "    .dataframe tbody tr th:only-of-type {\n",
       "        vertical-align: middle;\n",
       "    }\n",
       "\n",
       "    .dataframe tbody tr th {\n",
       "        vertical-align: top;\n",
       "    }\n",
       "\n",
       "    .dataframe thead th {\n",
       "        text-align: right;\n",
       "    }\n",
       "</style>\n",
       "<table border=\"1\" class=\"dataframe\">\n",
       "  <thead>\n",
       "    <tr style=\"text-align: right;\">\n",
       "      <th></th>\n",
       "      <th>price</th>\n",
       "      <th>eps</th>\n",
       "      <th>P/E Ratio</th>\n",
       "      <th>date</th>\n",
       "    </tr>\n",
       "  </thead>\n",
       "  <tbody>\n",
       "    <tr>\n",
       "      <th>2012-12-31</th>\n",
       "      <td>38.82</td>\n",
       "      <td>1.43</td>\n",
       "      <td>27.146853</td>\n",
       "      <td>2012-12-31</td>\n",
       "    </tr>\n",
       "    <tr>\n",
       "      <th>2012-12-31</th>\n",
       "      <td>38.82</td>\n",
       "      <td>0.43</td>\n",
       "      <td>90.279070</td>\n",
       "      <td>2012-12-31</td>\n",
       "    </tr>\n",
       "    <tr>\n",
       "      <th>2014-12-31</th>\n",
       "      <td>40.54</td>\n",
       "      <td>2.52</td>\n",
       "      <td>16.087302</td>\n",
       "      <td>2014-12-31</td>\n",
       "    </tr>\n",
       "    <tr>\n",
       "      <th>2014-12-31</th>\n",
       "      <td>40.54</td>\n",
       "      <td>2.38</td>\n",
       "      <td>17.033613</td>\n",
       "      <td>2014-12-31</td>\n",
       "    </tr>\n",
       "  </tbody>\n",
       "</table>\n",
       "</div>"
      ],
      "text/plain": [
       "            price   eps  P/E Ratio       date\n",
       "2012-12-31  38.82  1.43  27.146853 2012-12-31\n",
       "2012-12-31  38.82  0.43  90.279070 2012-12-31\n",
       "2014-12-31  40.54  2.52  16.087302 2014-12-31\n",
       "2014-12-31  40.54  2.38  17.033613 2014-12-31"
      ]
     },
     "metadata": {},
     "output_type": "display_data"
    },
    {
     "name": "stdout",
     "output_type": "stream",
     "text": [
      "\n",
      "MBI MBIA INC\n",
      "len(eps)=34\n",
      "Successfully retrieved smoothed price data for MBI (len(hist)=2517, success=True)\n",
      "len(corp_stock)=2517\n"
     ]
    },
    {
     "data": {
      "text/html": [
       "<div>\n",
       "<style scoped>\n",
       "    .dataframe tbody tr th:only-of-type {\n",
       "        vertical-align: middle;\n",
       "    }\n",
       "\n",
       "    .dataframe tbody tr th {\n",
       "        vertical-align: top;\n",
       "    }\n",
       "\n",
       "    .dataframe thead th {\n",
       "        text-align: right;\n",
       "    }\n",
       "</style>\n",
       "<table border=\"1\" class=\"dataframe\">\n",
       "  <thead>\n",
       "    <tr style=\"text-align: right;\">\n",
       "      <th></th>\n",
       "      <th>price</th>\n",
       "      <th>eps</th>\n",
       "      <th>P/E Ratio</th>\n",
       "      <th>date</th>\n",
       "    </tr>\n",
       "  </thead>\n",
       "  <tbody>\n",
       "    <tr>\n",
       "      <th>2013-09-30</th>\n",
       "      <td>10.23</td>\n",
       "      <td>0.63</td>\n",
       "      <td>16.238095</td>\n",
       "      <td>2013-09-30</td>\n",
       "    </tr>\n",
       "    <tr>\n",
       "      <th>2013-09-30</th>\n",
       "      <td>10.23</td>\n",
       "      <td>1.26</td>\n",
       "      <td>8.119048</td>\n",
       "      <td>2013-09-30</td>\n",
       "    </tr>\n",
       "    <tr>\n",
       "      <th>2019-09-30</th>\n",
       "      <td>9.23</td>\n",
       "      <td>-1.86</td>\n",
       "      <td>-4.962366</td>\n",
       "      <td>2019-09-30</td>\n",
       "    </tr>\n",
       "    <tr>\n",
       "      <th>2019-09-30</th>\n",
       "      <td>9.23</td>\n",
       "      <td>-0.50</td>\n",
       "      <td>-18.460000</td>\n",
       "      <td>2019-09-30</td>\n",
       "    </tr>\n",
       "  </tbody>\n",
       "</table>\n",
       "</div>"
      ],
      "text/plain": [
       "            price   eps  P/E Ratio       date\n",
       "2013-09-30  10.23  0.63  16.238095 2013-09-30\n",
       "2013-09-30  10.23  1.26   8.119048 2013-09-30\n",
       "2019-09-30   9.23 -1.86  -4.962366 2019-09-30\n",
       "2019-09-30   9.23 -0.50 -18.460000 2019-09-30"
      ]
     },
     "metadata": {},
     "output_type": "display_data"
    },
    {
     "name": "stdout",
     "output_type": "stream",
     "text": [
      "\n",
      "MRC MRC GLOBAL INC.\n",
      "len(eps)=37\n",
      "Successfully retrieved smoothed price data for MRC (len(hist)=2225, success=True)\n",
      "len(corp_stock)=2225\n"
     ]
    },
    {
     "data": {
      "text/html": [
       "<div>\n",
       "<style scoped>\n",
       "    .dataframe tbody tr th:only-of-type {\n",
       "        vertical-align: middle;\n",
       "    }\n",
       "\n",
       "    .dataframe tbody tr th {\n",
       "        vertical-align: top;\n",
       "    }\n",
       "\n",
       "    .dataframe thead th {\n",
       "        text-align: right;\n",
       "    }\n",
       "</style>\n",
       "<table border=\"1\" class=\"dataframe\">\n",
       "  <thead>\n",
       "    <tr style=\"text-align: right;\">\n",
       "      <th></th>\n",
       "      <th>price</th>\n",
       "      <th>eps</th>\n",
       "      <th>P/E Ratio</th>\n",
       "      <th>date</th>\n",
       "    </tr>\n",
       "  </thead>\n",
       "  <tbody>\n",
       "    <tr>\n",
       "      <th>2016-06-30</th>\n",
       "      <td>14.21</td>\n",
       "      <td>-4.20</td>\n",
       "      <td>-3.383333</td>\n",
       "      <td>2016-06-30</td>\n",
       "    </tr>\n",
       "    <tr>\n",
       "      <th>2016-06-30</th>\n",
       "      <td>14.21</td>\n",
       "      <td>-4.54</td>\n",
       "      <td>-3.129956</td>\n",
       "      <td>2016-06-30</td>\n",
       "    </tr>\n",
       "  </tbody>\n",
       "</table>\n",
       "</div>"
      ],
      "text/plain": [
       "            price   eps  P/E Ratio       date\n",
       "2016-06-30  14.21 -4.20  -3.383333 2016-06-30\n",
       "2016-06-30  14.21 -4.54  -3.129956 2016-06-30"
      ]
     },
     "metadata": {},
     "output_type": "display_data"
    },
    {
     "name": "stdout",
     "output_type": "stream",
     "text": [
      "\n",
      "QCRH QCR HOLDINGS INC\n",
      "len(eps)=36\n",
      "Successfully retrieved smoothed price data for QCRH (len(hist)=2517, success=True)\n",
      "len(corp_stock)=2517\n"
     ]
    },
    {
     "data": {
      "text/html": [
       "<div>\n",
       "<style scoped>\n",
       "    .dataframe tbody tr th:only-of-type {\n",
       "        vertical-align: middle;\n",
       "    }\n",
       "\n",
       "    .dataframe tbody tr th {\n",
       "        vertical-align: top;\n",
       "    }\n",
       "\n",
       "    .dataframe thead th {\n",
       "        text-align: right;\n",
       "    }\n",
       "</style>\n",
       "<table border=\"1\" class=\"dataframe\">\n",
       "  <thead>\n",
       "    <tr style=\"text-align: right;\">\n",
       "      <th></th>\n",
       "      <th>price</th>\n",
       "      <th>eps</th>\n",
       "      <th>P/E Ratio</th>\n",
       "      <th>date</th>\n",
       "    </tr>\n",
       "  </thead>\n",
       "  <tbody>\n",
       "    <tr>\n",
       "      <th>2011-09-30</th>\n",
       "      <td>8.3</td>\n",
       "      <td>NaN</td>\n",
       "      <td>NaN</td>\n",
       "      <td>2011-09-30</td>\n",
       "    </tr>\n",
       "    <tr>\n",
       "      <th>2011-09-30</th>\n",
       "      <td>8.3</td>\n",
       "      <td>NaN</td>\n",
       "      <td>NaN</td>\n",
       "      <td>2011-09-30</td>\n",
       "    </tr>\n",
       "  </tbody>\n",
       "</table>\n",
       "</div>"
      ],
      "text/plain": [
       "            price  eps  P/E Ratio       date\n",
       "2011-09-30    8.3  NaN        NaN 2011-09-30\n",
       "2011-09-30    8.3  NaN        NaN 2011-09-30"
      ]
     },
     "metadata": {},
     "output_type": "display_data"
    },
    {
     "name": "stdout",
     "output_type": "stream",
     "text": [
      "\n",
      "RGR STURM RUGER & CO INC\n",
      "len(eps)=37\n",
      "Successfully retrieved smoothed price data for RGR (len(hist)=2517, success=True)\n",
      "len(corp_stock)=2517\n"
     ]
    },
    {
     "data": {
      "text/html": [
       "<div>\n",
       "<style scoped>\n",
       "    .dataframe tbody tr th:only-of-type {\n",
       "        vertical-align: middle;\n",
       "    }\n",
       "\n",
       "    .dataframe tbody tr th {\n",
       "        vertical-align: top;\n",
       "    }\n",
       "\n",
       "    .dataframe thead th {\n",
       "        text-align: right;\n",
       "    }\n",
       "</style>\n",
       "<table border=\"1\" class=\"dataframe\">\n",
       "  <thead>\n",
       "    <tr style=\"text-align: right;\">\n",
       "      <th></th>\n",
       "      <th>price</th>\n",
       "      <th>eps</th>\n",
       "      <th>P/E Ratio</th>\n",
       "      <th>date</th>\n",
       "    </tr>\n",
       "  </thead>\n",
       "  <tbody>\n",
       "    <tr>\n",
       "      <th>2011-06-30</th>\n",
       "      <td>16.19</td>\n",
       "      <td>NaN</td>\n",
       "      <td>NaN</td>\n",
       "      <td>2011-06-30</td>\n",
       "    </tr>\n",
       "    <tr>\n",
       "      <th>2011-06-30</th>\n",
       "      <td>16.19</td>\n",
       "      <td>NaN</td>\n",
       "      <td>NaN</td>\n",
       "      <td>2011-06-30</td>\n",
       "    </tr>\n",
       "  </tbody>\n",
       "</table>\n",
       "</div>"
      ],
      "text/plain": [
       "            price  eps  P/E Ratio       date\n",
       "2011-06-30  16.19  NaN        NaN 2011-06-30\n",
       "2011-06-30  16.19  NaN        NaN 2011-06-30"
      ]
     },
     "metadata": {},
     "output_type": "display_data"
    },
    {
     "name": "stdout",
     "output_type": "stream",
     "text": [
      "\n",
      "TACT TRANSACT TECHNOLOGIES INC\n",
      "len(eps)=36\n",
      "Successfully retrieved smoothed price data for TACT (len(hist)=2517, success=True)\n",
      "len(corp_stock)=2517\n"
     ]
    },
    {
     "data": {
      "text/html": [
       "<div>\n",
       "<style scoped>\n",
       "    .dataframe tbody tr th:only-of-type {\n",
       "        vertical-align: middle;\n",
       "    }\n",
       "\n",
       "    .dataframe tbody tr th {\n",
       "        vertical-align: top;\n",
       "    }\n",
       "\n",
       "    .dataframe thead th {\n",
       "        text-align: right;\n",
       "    }\n",
       "</style>\n",
       "<table border=\"1\" class=\"dataframe\">\n",
       "  <thead>\n",
       "    <tr style=\"text-align: right;\">\n",
       "      <th></th>\n",
       "      <th>price</th>\n",
       "      <th>eps</th>\n",
       "      <th>P/E Ratio</th>\n",
       "      <th>date</th>\n",
       "    </tr>\n",
       "  </thead>\n",
       "  <tbody>\n",
       "    <tr>\n",
       "      <th>2015-12-31</th>\n",
       "      <td>7.43</td>\n",
       "      <td>0.40</td>\n",
       "      <td>18.575000</td>\n",
       "      <td>2015-12-31</td>\n",
       "    </tr>\n",
       "    <tr>\n",
       "      <th>2015-12-31</th>\n",
       "      <td>7.43</td>\n",
       "      <td>0.56</td>\n",
       "      <td>13.267857</td>\n",
       "      <td>2015-12-31</td>\n",
       "    </tr>\n",
       "  </tbody>\n",
       "</table>\n",
       "</div>"
      ],
      "text/plain": [
       "            price   eps  P/E Ratio       date\n",
       "2015-12-31   7.43  0.40  18.575000 2015-12-31\n",
       "2015-12-31   7.43  0.56  13.267857 2015-12-31"
      ]
     },
     "metadata": {},
     "output_type": "display_data"
    },
    {
     "name": "stdout",
     "output_type": "stream",
     "text": [
      "\n",
      "TRC TEJON RANCH CO\n",
      "len(eps)=37\n",
      "Successfully retrieved smoothed price data for TRC (len(hist)=2517, success=True)\n",
      "len(corp_stock)=2517\n",
      "2017-10-02 1.03\n",
      "2013-08-29 1.031\n"
     ]
    },
    {
     "data": {
      "text/html": [
       "<div>\n",
       "<style scoped>\n",
       "    .dataframe tbody tr th:only-of-type {\n",
       "        vertical-align: middle;\n",
       "    }\n",
       "\n",
       "    .dataframe tbody tr th {\n",
       "        vertical-align: top;\n",
       "    }\n",
       "\n",
       "    .dataframe thead th {\n",
       "        text-align: right;\n",
       "    }\n",
       "</style>\n",
       "<table border=\"1\" class=\"dataframe\">\n",
       "  <thead>\n",
       "    <tr style=\"text-align: right;\">\n",
       "      <th></th>\n",
       "      <th>price</th>\n",
       "      <th>eps</th>\n",
       "      <th>P/E Ratio</th>\n",
       "      <th>date</th>\n",
       "    </tr>\n",
       "  </thead>\n",
       "  <tbody>\n",
       "    <tr>\n",
       "      <th>2013-12-31</th>\n",
       "      <td>35.69</td>\n",
       "      <td>0.190380</td>\n",
       "      <td>187.467387</td>\n",
       "      <td>2013-12-31</td>\n",
       "    </tr>\n",
       "    <tr>\n",
       "      <th>2013-12-31</th>\n",
       "      <td>35.69</td>\n",
       "      <td>0.249508</td>\n",
       "      <td>143.041522</td>\n",
       "      <td>2013-12-31</td>\n",
       "    </tr>\n",
       "  </tbody>\n",
       "</table>\n",
       "</div>"
      ],
      "text/plain": [
       "            price       eps   P/E Ratio       date\n",
       "2013-12-31  35.69  0.190380  187.467387 2013-12-31\n",
       "2013-12-31  35.69  0.249508  143.041522 2013-12-31"
      ]
     },
     "metadata": {},
     "output_type": "display_data"
    },
    {
     "name": "stdout",
     "output_type": "stream",
     "text": [
      "\n",
      "TSBK TIMBERLAND BANCORP INC\n",
      "len(eps)=36\n",
      "Successfully retrieved smoothed price data for TSBK (len(hist)=2517, success=True)\n",
      "len(corp_stock)=2517\n"
     ]
    },
    {
     "data": {
      "text/html": [
       "<div>\n",
       "<style scoped>\n",
       "    .dataframe tbody tr th:only-of-type {\n",
       "        vertical-align: middle;\n",
       "    }\n",
       "\n",
       "    .dataframe tbody tr th {\n",
       "        vertical-align: top;\n",
       "    }\n",
       "\n",
       "    .dataframe thead th {\n",
       "        text-align: right;\n",
       "    }\n",
       "</style>\n",
       "<table border=\"1\" class=\"dataframe\">\n",
       "  <thead>\n",
       "    <tr style=\"text-align: right;\">\n",
       "      <th></th>\n",
       "      <th>price</th>\n",
       "      <th>eps</th>\n",
       "      <th>P/E Ratio</th>\n",
       "      <th>date</th>\n",
       "    </tr>\n",
       "  </thead>\n",
       "  <tbody>\n",
       "    <tr>\n",
       "      <th>2013-09-30</th>\n",
       "      <td>7.5</td>\n",
       "      <td>0.58</td>\n",
       "      <td>12.931034</td>\n",
       "      <td>2013-09-30</td>\n",
       "    </tr>\n",
       "    <tr>\n",
       "      <th>2013-09-30</th>\n",
       "      <td>7.5</td>\n",
       "      <td>0.60</td>\n",
       "      <td>12.500000</td>\n",
       "      <td>2013-09-30</td>\n",
       "    </tr>\n",
       "  </tbody>\n",
       "</table>\n",
       "</div>"
      ],
      "text/plain": [
       "            price   eps  P/E Ratio       date\n",
       "2013-09-30    7.5  0.58  12.931034 2013-09-30\n",
       "2013-09-30    7.5  0.60  12.500000 2013-09-30"
      ]
     },
     "metadata": {},
     "output_type": "display_data"
    },
    {
     "name": "stdout",
     "output_type": "stream",
     "text": [
      "\n",
      "T AT&T INC.\n",
      "len(eps)=42\n",
      "Successfully retrieved smoothed price data for T (len(hist)=2517, success=True)\n",
      "len(corp_stock)=2517\n"
     ]
    },
    {
     "data": {
      "text/html": [
       "<div>\n",
       "<style scoped>\n",
       "    .dataframe tbody tr th:only-of-type {\n",
       "        vertical-align: middle;\n",
       "    }\n",
       "\n",
       "    .dataframe tbody tr th {\n",
       "        vertical-align: top;\n",
       "    }\n",
       "\n",
       "    .dataframe thead th {\n",
       "        text-align: right;\n",
       "    }\n",
       "</style>\n",
       "<table border=\"1\" class=\"dataframe\">\n",
       "  <thead>\n",
       "    <tr style=\"text-align: right;\">\n",
       "      <th></th>\n",
       "      <th>price</th>\n",
       "      <th>eps</th>\n",
       "      <th>P/E Ratio</th>\n",
       "      <th>date</th>\n",
       "    </tr>\n",
       "  </thead>\n",
       "  <tbody>\n",
       "    <tr>\n",
       "      <th>2014-06-30</th>\n",
       "      <td>24.12</td>\n",
       "      <td>3.41</td>\n",
       "      <td>7.073314</td>\n",
       "      <td>2014-06-30</td>\n",
       "    </tr>\n",
       "    <tr>\n",
       "      <th>2014-06-30</th>\n",
       "      <td>24.12</td>\n",
       "      <td>3.37</td>\n",
       "      <td>7.157270</td>\n",
       "      <td>2014-06-30</td>\n",
       "    </tr>\n",
       "  </tbody>\n",
       "</table>\n",
       "</div>"
      ],
      "text/plain": [
       "            price   eps  P/E Ratio       date\n",
       "2014-06-30  24.12  3.41   7.073314 2014-06-30\n",
       "2014-06-30  24.12  3.37   7.157270 2014-06-30"
      ]
     },
     "metadata": {},
     "output_type": "display_data"
    },
    {
     "name": "stdout",
     "output_type": "stream",
     "text": [
      "\n",
      "UFCS UNITED FIRE GROUP INC\n",
      "len(eps)=34\n",
      "Successfully retrieved smoothed price data for UFCS (len(hist)=2517, success=True)\n",
      "len(corp_stock)=2517\n"
     ]
    },
    {
     "data": {
      "text/html": [
       "<div>\n",
       "<style scoped>\n",
       "    .dataframe tbody tr th:only-of-type {\n",
       "        vertical-align: middle;\n",
       "    }\n",
       "\n",
       "    .dataframe tbody tr th {\n",
       "        vertical-align: top;\n",
       "    }\n",
       "\n",
       "    .dataframe thead th {\n",
       "        text-align: right;\n",
       "    }\n",
       "</style>\n",
       "<table border=\"1\" class=\"dataframe\">\n",
       "  <thead>\n",
       "    <tr style=\"text-align: right;\">\n",
       "      <th></th>\n",
       "      <th>price</th>\n",
       "      <th>eps</th>\n",
       "      <th>P/E Ratio</th>\n",
       "      <th>date</th>\n",
       "    </tr>\n",
       "  </thead>\n",
       "  <tbody>\n",
       "    <tr>\n",
       "      <th>2012-12-31</th>\n",
       "      <td>16.63</td>\n",
       "      <td>0.55</td>\n",
       "      <td>30.236364</td>\n",
       "      <td>2012-12-31</td>\n",
       "    </tr>\n",
       "    <tr>\n",
       "      <th>2012-12-31</th>\n",
       "      <td>16.63</td>\n",
       "      <td>0.64</td>\n",
       "      <td>25.984375</td>\n",
       "      <td>2012-12-31</td>\n",
       "    </tr>\n",
       "  </tbody>\n",
       "</table>\n",
       "</div>"
      ],
      "text/plain": [
       "            price   eps  P/E Ratio       date\n",
       "2012-12-31  16.63  0.55  30.236364 2012-12-31\n",
       "2012-12-31  16.63  0.64  25.984375 2012-12-31"
      ]
     },
     "metadata": {},
     "output_type": "display_data"
    },
    {
     "name": "stdout",
     "output_type": "stream",
     "text": [
      "\n",
      "ULBI ULTRALIFE CORP\n",
      "len(eps)=28\n",
      "Successfully retrieved smoothed price data for ULBI (len(hist)=2517, success=True)\n",
      "len(corp_stock)=2517\n"
     ]
    },
    {
     "data": {
      "text/html": [
       "<div>\n",
       "<style scoped>\n",
       "    .dataframe tbody tr th:only-of-type {\n",
       "        vertical-align: middle;\n",
       "    }\n",
       "\n",
       "    .dataframe tbody tr th {\n",
       "        vertical-align: top;\n",
       "    }\n",
       "\n",
       "    .dataframe thead th {\n",
       "        text-align: right;\n",
       "    }\n",
       "</style>\n",
       "<table border=\"1\" class=\"dataframe\">\n",
       "  <thead>\n",
       "    <tr style=\"text-align: right;\">\n",
       "      <th></th>\n",
       "      <th>price</th>\n",
       "      <th>eps</th>\n",
       "      <th>P/E Ratio</th>\n",
       "      <th>date</th>\n",
       "    </tr>\n",
       "  </thead>\n",
       "  <tbody>\n",
       "    <tr>\n",
       "      <th>2013-09-30</th>\n",
       "      <td>4.0</td>\n",
       "      <td>-0.04</td>\n",
       "      <td>-100.0</td>\n",
       "      <td>2013-09-30</td>\n",
       "    </tr>\n",
       "    <tr>\n",
       "      <th>2013-09-30</th>\n",
       "      <td>4.0</td>\n",
       "      <td>-0.02</td>\n",
       "      <td>-200.0</td>\n",
       "      <td>2013-09-30</td>\n",
       "    </tr>\n",
       "  </tbody>\n",
       "</table>\n",
       "</div>"
      ],
      "text/plain": [
       "            price   eps  P/E Ratio       date\n",
       "2013-09-30    4.0 -0.04     -100.0 2013-09-30\n",
       "2013-09-30    4.0 -0.02     -200.0 2013-09-30"
      ]
     },
     "metadata": {},
     "output_type": "display_data"
    },
    {
     "name": "stdout",
     "output_type": "stream",
     "text": [
      "\n",
      "VNDA VANDA PHARMACEUTICALS INC.\n",
      "len(eps)=23\n",
      "Successfully retrieved smoothed price data for VNDA (len(hist)=2517, success=True)\n",
      "len(corp_stock)=2517\n"
     ]
    },
    {
     "data": {
      "text/html": [
       "<div>\n",
       "<style scoped>\n",
       "    .dataframe tbody tr th:only-of-type {\n",
       "        vertical-align: middle;\n",
       "    }\n",
       "\n",
       "    .dataframe tbody tr th {\n",
       "        vertical-align: top;\n",
       "    }\n",
       "\n",
       "    .dataframe thead th {\n",
       "        text-align: right;\n",
       "    }\n",
       "</style>\n",
       "<table border=\"1\" class=\"dataframe\">\n",
       "  <thead>\n",
       "    <tr style=\"text-align: right;\">\n",
       "      <th></th>\n",
       "      <th>price</th>\n",
       "      <th>eps</th>\n",
       "      <th>P/E Ratio</th>\n",
       "      <th>date</th>\n",
       "    </tr>\n",
       "  </thead>\n",
       "  <tbody>\n",
       "    <tr>\n",
       "      <th>2014-12-31</th>\n",
       "      <td>14.32</td>\n",
       "      <td>1.26</td>\n",
       "      <td>11.365079</td>\n",
       "      <td>2014-12-31</td>\n",
       "    </tr>\n",
       "    <tr>\n",
       "      <th>2014-12-31</th>\n",
       "      <td>14.32</td>\n",
       "      <td>3.14</td>\n",
       "      <td>4.560510</td>\n",
       "      <td>2014-12-31</td>\n",
       "    </tr>\n",
       "  </tbody>\n",
       "</table>\n",
       "</div>"
      ],
      "text/plain": [
       "            price   eps  P/E Ratio       date\n",
       "2014-12-31  14.32  1.26  11.365079 2014-12-31\n",
       "2014-12-31  14.32  3.14   4.560510 2014-12-31"
      ]
     },
     "metadata": {},
     "output_type": "display_data"
    },
    {
     "name": "stdout",
     "output_type": "stream",
     "text": [
      "\n",
      "ZIXI ZIX CORP\n",
      "len(eps)=37\n",
      "Successfully retrieved smoothed price data for ZIXI (len(hist)=2517, success=True)\n",
      "len(corp_stock)=2517\n"
     ]
    },
    {
     "data": {
      "text/html": [
       "<div>\n",
       "<style scoped>\n",
       "    .dataframe tbody tr th:only-of-type {\n",
       "        vertical-align: middle;\n",
       "    }\n",
       "\n",
       "    .dataframe tbody tr th {\n",
       "        vertical-align: top;\n",
       "    }\n",
       "\n",
       "    .dataframe thead th {\n",
       "        text-align: right;\n",
       "    }\n",
       "</style>\n",
       "<table border=\"1\" class=\"dataframe\">\n",
       "  <thead>\n",
       "    <tr style=\"text-align: right;\">\n",
       "      <th></th>\n",
       "      <th>price</th>\n",
       "      <th>eps</th>\n",
       "      <th>P/E Ratio</th>\n",
       "      <th>date</th>\n",
       "    </tr>\n",
       "  </thead>\n",
       "  <tbody>\n",
       "    <tr>\n",
       "      <th>2016-03-31</th>\n",
       "      <td>3.93</td>\n",
       "      <td>0.09</td>\n",
       "      <td>43.666667</td>\n",
       "      <td>2016-03-31</td>\n",
       "    </tr>\n",
       "    <tr>\n",
       "      <th>2016-03-31</th>\n",
       "      <td>3.93</td>\n",
       "      <td>0.10</td>\n",
       "      <td>39.300000</td>\n",
       "      <td>2016-03-31</td>\n",
       "    </tr>\n",
       "  </tbody>\n",
       "</table>\n",
       "</div>"
      ],
      "text/plain": [
       "            price   eps  P/E Ratio       date\n",
       "2016-03-31   3.93  0.09  43.666667 2016-03-31\n",
       "2016-03-31   3.93  0.10  39.300000 2016-03-31"
      ]
     },
     "metadata": {},
     "output_type": "display_data"
    },
    {
     "name": "stdout",
     "output_type": "stream",
     "text": [
      "\n"
     ]
    }
   ],
   "source": [
    "error_l = ['AMN', 'AMRB', 'ARAY', 'BLL', 'CFX', 'CGNX', 'CRI', 'CTRN', 'CXDC', \n",
    "           'GFF', 'GHM', 'GORO', 'HBI', 'HSC', 'INCY', 'IPHI', 'JOE', 'L', 'MBI', \n",
    "           'MRC', 'QCRH', 'RGR', 'TACT', 'TRC', 'TSBK', 'T', 'UFCS', 'ULBI', 'VNDA', 'ZIXI']\n",
    "for t in error_l:\n",
    "    subs_name = str(name_map['subs_name'].loc[name_map.ticker == t].unique()[0])\n",
    "    print(t, subs_name)\n",
    "    pe_df = get_pe(subs_name, t)\n",
    "    pe_df['date'] = pe_df.index\n",
    "    display(pe_df.loc[pe_df.loc[pe_df.date.duplicated()].date])\n",
    "    print('')"
   ]
  },
  {
   "cell_type": "code",
   "execution_count": 63,
   "metadata": {},
   "outputs": [
    {
     "name": "stdout",
     "output_type": "stream",
     "text": [
      "len(eps)=29\n",
      "Successfully retrieved smoothed price data for AMRB (len(hist)=2517, success=True)\n",
      "len(corp_stock)=2517\n"
     ]
    },
    {
     "data": {
      "text/html": [
       "<div>\n",
       "<style scoped>\n",
       "    .dataframe tbody tr th:only-of-type {\n",
       "        vertical-align: middle;\n",
       "    }\n",
       "\n",
       "    .dataframe tbody tr th {\n",
       "        vertical-align: top;\n",
       "    }\n",
       "\n",
       "    .dataframe thead th {\n",
       "        text-align: right;\n",
       "    }\n",
       "</style>\n",
       "<table border=\"1\" class=\"dataframe\">\n",
       "  <thead>\n",
       "    <tr style=\"text-align: right;\">\n",
       "      <th></th>\n",
       "      <th>Date</th>\n",
       "      <th>price</th>\n",
       "      <th>eps</th>\n",
       "      <th>P/E Ratio</th>\n",
       "    </tr>\n",
       "  </thead>\n",
       "  <tbody>\n",
       "    <tr>\n",
       "      <th>0</th>\n",
       "      <td>2011-02-14</td>\n",
       "      <td>5.81</td>\n",
       "      <td>NaN</td>\n",
       "      <td>NaN</td>\n",
       "    </tr>\n",
       "    <tr>\n",
       "      <th>1</th>\n",
       "      <td>2011-02-15</td>\n",
       "      <td>6.02</td>\n",
       "      <td>NaN</td>\n",
       "      <td>NaN</td>\n",
       "    </tr>\n",
       "    <tr>\n",
       "      <th>2</th>\n",
       "      <td>2011-02-16</td>\n",
       "      <td>6.08</td>\n",
       "      <td>NaN</td>\n",
       "      <td>NaN</td>\n",
       "    </tr>\n",
       "    <tr>\n",
       "      <th>3</th>\n",
       "      <td>2011-02-17</td>\n",
       "      <td>5.86</td>\n",
       "      <td>NaN</td>\n",
       "      <td>NaN</td>\n",
       "    </tr>\n",
       "    <tr>\n",
       "      <th>4</th>\n",
       "      <td>2011-02-18</td>\n",
       "      <td>5.75</td>\n",
       "      <td>NaN</td>\n",
       "      <td>NaN</td>\n",
       "    </tr>\n",
       "    <tr>\n",
       "      <th>...</th>\n",
       "      <td>...</td>\n",
       "      <td>...</td>\n",
       "      <td>...</td>\n",
       "      <td>...</td>\n",
       "    </tr>\n",
       "    <tr>\n",
       "      <th>2512</th>\n",
       "      <td>2021-02-08</td>\n",
       "      <td>13.84</td>\n",
       "      <td>1.11</td>\n",
       "      <td>12.468468</td>\n",
       "    </tr>\n",
       "    <tr>\n",
       "      <th>2513</th>\n",
       "      <td>2021-02-09</td>\n",
       "      <td>13.46</td>\n",
       "      <td>1.11</td>\n",
       "      <td>12.126126</td>\n",
       "    </tr>\n",
       "    <tr>\n",
       "      <th>2514</th>\n",
       "      <td>2021-02-10</td>\n",
       "      <td>13.63</td>\n",
       "      <td>1.11</td>\n",
       "      <td>12.279279</td>\n",
       "    </tr>\n",
       "    <tr>\n",
       "      <th>2515</th>\n",
       "      <td>2021-02-11</td>\n",
       "      <td>14.13</td>\n",
       "      <td>1.11</td>\n",
       "      <td>12.729730</td>\n",
       "    </tr>\n",
       "    <tr>\n",
       "      <th>2516</th>\n",
       "      <td>2021-02-12</td>\n",
       "      <td>15.79</td>\n",
       "      <td>1.11</td>\n",
       "      <td>14.225225</td>\n",
       "    </tr>\n",
       "  </tbody>\n",
       "</table>\n",
       "<p>2517 rows × 4 columns</p>\n",
       "</div>"
      ],
      "text/plain": [
       "           Date  price   eps  P/E Ratio\n",
       "0    2011-02-14   5.81   NaN        NaN\n",
       "1    2011-02-15   6.02   NaN        NaN\n",
       "2    2011-02-16   6.08   NaN        NaN\n",
       "3    2011-02-17   5.86   NaN        NaN\n",
       "4    2011-02-18   5.75   NaN        NaN\n",
       "...         ...    ...   ...        ...\n",
       "2512 2021-02-08  13.84  1.11  12.468468\n",
       "2513 2021-02-09  13.46  1.11  12.126126\n",
       "2514 2021-02-10  13.63  1.11  12.279279\n",
       "2515 2021-02-11  14.13  1.11  12.729730\n",
       "2516 2021-02-12  15.79  1.11  14.225225\n",
       "\n",
       "[2517 rows x 4 columns]"
      ]
     },
     "execution_count": 63,
     "metadata": {},
     "output_type": "execute_result"
    }
   ],
   "source": [
    "pe_df = get_pe(subs_name, ticker)\n",
    "pe_df['Date'] = pe_df.index\n",
    "pe_df = pe_df.groupby(by='Date').max().reset_index()\n",
    "pe_df"
   ]
  },
  {
   "cell_type": "code",
   "execution_count": 64,
   "metadata": {},
   "outputs": [
    {
     "data": {
      "text/html": [
       "<div>\n",
       "<style scoped>\n",
       "    .dataframe tbody tr th:only-of-type {\n",
       "        vertical-align: middle;\n",
       "    }\n",
       "\n",
       "    .dataframe tbody tr th {\n",
       "        vertical-align: top;\n",
       "    }\n",
       "\n",
       "    .dataframe thead th {\n",
       "        text-align: right;\n",
       "    }\n",
       "</style>\n",
       "<table border=\"1\" class=\"dataframe\">\n",
       "  <thead>\n",
       "    <tr style=\"text-align: right;\">\n",
       "      <th></th>\n",
       "      <th>Open</th>\n",
       "      <th>High</th>\n",
       "      <th>Low</th>\n",
       "      <th>Close</th>\n",
       "      <th>Volume</th>\n",
       "      <th>Dividends</th>\n",
       "      <th>Stock Splits</th>\n",
       "      <th>smooth</th>\n",
       "      <th>P/E Ratio</th>\n",
       "      <th>target</th>\n",
       "    </tr>\n",
       "  </thead>\n",
       "  <tbody>\n",
       "    <tr>\n",
       "      <th>2011-02-14</th>\n",
       "      <td>9.17</td>\n",
       "      <td>9.38</td>\n",
       "      <td>9.16</td>\n",
       "      <td>9.31</td>\n",
       "      <td>18700</td>\n",
       "      <td>0.0</td>\n",
       "      <td>0</td>\n",
       "      <td>9.205647</td>\n",
       "      <td>NaN</td>\n",
       "      <td>0</td>\n",
       "    </tr>\n",
       "    <tr>\n",
       "      <th>2011-02-15</th>\n",
       "      <td>9.24</td>\n",
       "      <td>9.34</td>\n",
       "      <td>9.14</td>\n",
       "      <td>9.22</td>\n",
       "      <td>15700</td>\n",
       "      <td>0.0</td>\n",
       "      <td>0</td>\n",
       "      <td>9.203333</td>\n",
       "      <td>NaN</td>\n",
       "      <td>0</td>\n",
       "    </tr>\n",
       "    <tr>\n",
       "      <th>2011-02-16</th>\n",
       "      <td>9.23</td>\n",
       "      <td>9.31</td>\n",
       "      <td>9.15</td>\n",
       "      <td>9.17</td>\n",
       "      <td>13800</td>\n",
       "      <td>0.0</td>\n",
       "      <td>0</td>\n",
       "      <td>9.201019</td>\n",
       "      <td>NaN</td>\n",
       "      <td>0</td>\n",
       "    </tr>\n",
       "    <tr>\n",
       "      <th>2011-02-17</th>\n",
       "      <td>9.19</td>\n",
       "      <td>9.19</td>\n",
       "      <td>9.03</td>\n",
       "      <td>9.10</td>\n",
       "      <td>60800</td>\n",
       "      <td>0.0</td>\n",
       "      <td>0</td>\n",
       "      <td>9.198705</td>\n",
       "      <td>NaN</td>\n",
       "      <td>0</td>\n",
       "    </tr>\n",
       "    <tr>\n",
       "      <th>2011-02-18</th>\n",
       "      <td>9.19</td>\n",
       "      <td>9.26</td>\n",
       "      <td>9.14</td>\n",
       "      <td>9.24</td>\n",
       "      <td>48300</td>\n",
       "      <td>0.0</td>\n",
       "      <td>0</td>\n",
       "      <td>9.196392</td>\n",
       "      <td>NaN</td>\n",
       "      <td>0</td>\n",
       "    </tr>\n",
       "    <tr>\n",
       "      <th>...</th>\n",
       "      <td>...</td>\n",
       "      <td>...</td>\n",
       "      <td>...</td>\n",
       "      <td>...</td>\n",
       "      <td>...</td>\n",
       "      <td>...</td>\n",
       "      <td>...</td>\n",
       "      <td>...</td>\n",
       "      <td>...</td>\n",
       "      <td>...</td>\n",
       "    </tr>\n",
       "    <tr>\n",
       "      <th>2021-02-08</th>\n",
       "      <td>44.38</td>\n",
       "      <td>45.14</td>\n",
       "      <td>43.70</td>\n",
       "      <td>45.08</td>\n",
       "      <td>293600</td>\n",
       "      <td>0.0</td>\n",
       "      <td>0</td>\n",
       "      <td>44.230497</td>\n",
       "      <td>13.660606</td>\n",
       "      <td>0</td>\n",
       "    </tr>\n",
       "    <tr>\n",
       "      <th>2021-02-09</th>\n",
       "      <td>45.00</td>\n",
       "      <td>45.73</td>\n",
       "      <td>44.38</td>\n",
       "      <td>45.51</td>\n",
       "      <td>551400</td>\n",
       "      <td>0.0</td>\n",
       "      <td>0</td>\n",
       "      <td>44.372137</td>\n",
       "      <td>13.790909</td>\n",
       "      <td>0</td>\n",
       "    </tr>\n",
       "    <tr>\n",
       "      <th>2021-02-10</th>\n",
       "      <td>45.70</td>\n",
       "      <td>46.98</td>\n",
       "      <td>45.30</td>\n",
       "      <td>46.09</td>\n",
       "      <td>424600</td>\n",
       "      <td>0.0</td>\n",
       "      <td>0</td>\n",
       "      <td>44.513778</td>\n",
       "      <td>13.966667</td>\n",
       "      <td>0</td>\n",
       "    </tr>\n",
       "    <tr>\n",
       "      <th>2021-02-11</th>\n",
       "      <td>46.05</td>\n",
       "      <td>46.58</td>\n",
       "      <td>44.68</td>\n",
       "      <td>45.66</td>\n",
       "      <td>317500</td>\n",
       "      <td>0.0</td>\n",
       "      <td>0</td>\n",
       "      <td>44.655419</td>\n",
       "      <td>13.836364</td>\n",
       "      <td>0</td>\n",
       "    </tr>\n",
       "    <tr>\n",
       "      <th>2021-02-12</th>\n",
       "      <td>45.37</td>\n",
       "      <td>46.16</td>\n",
       "      <td>45.02</td>\n",
       "      <td>45.93</td>\n",
       "      <td>162300</td>\n",
       "      <td>0.0</td>\n",
       "      <td>0</td>\n",
       "      <td>44.797060</td>\n",
       "      <td>13.918182</td>\n",
       "      <td>0</td>\n",
       "    </tr>\n",
       "  </tbody>\n",
       "</table>\n",
       "<p>2517 rows × 10 columns</p>\n",
       "</div>"
      ],
      "text/plain": [
       "             Open   High    Low  Close  Volume  Dividends  Stock Splits  \\\n",
       "2011-02-14   9.17   9.38   9.16   9.31   18700        0.0             0   \n",
       "2011-02-15   9.24   9.34   9.14   9.22   15700        0.0             0   \n",
       "2011-02-16   9.23   9.31   9.15   9.17   13800        0.0             0   \n",
       "2011-02-17   9.19   9.19   9.03   9.10   60800        0.0             0   \n",
       "2011-02-18   9.19   9.26   9.14   9.24   48300        0.0             0   \n",
       "...           ...    ...    ...    ...     ...        ...           ...   \n",
       "2021-02-08  44.38  45.14  43.70  45.08  293600        0.0             0   \n",
       "2021-02-09  45.00  45.73  44.38  45.51  551400        0.0             0   \n",
       "2021-02-10  45.70  46.98  45.30  46.09  424600        0.0             0   \n",
       "2021-02-11  46.05  46.58  44.68  45.66  317500        0.0             0   \n",
       "2021-02-12  45.37  46.16  45.02  45.93  162300        0.0             0   \n",
       "\n",
       "               smooth  P/E Ratio  target  \n",
       "2011-02-14   9.205647        NaN       0  \n",
       "2011-02-15   9.203333        NaN       0  \n",
       "2011-02-16   9.201019        NaN       0  \n",
       "2011-02-17   9.198705        NaN       0  \n",
       "2011-02-18   9.196392        NaN       0  \n",
       "...               ...        ...     ...  \n",
       "2021-02-08  44.230497  13.660606       0  \n",
       "2021-02-09  44.372137  13.790909       0  \n",
       "2021-02-10  44.513778  13.966667       0  \n",
       "2021-02-11  44.655419  13.836364       0  \n",
       "2021-02-12  44.797060  13.918182       0  \n",
       "\n",
       "[2517 rows x 10 columns]"
      ]
     },
     "execution_count": 64,
     "metadata": {},
     "output_type": "execute_result"
    }
   ],
   "source": [
    "hist"
   ]
  },
  {
   "cell_type": "code",
   "execution_count": 65,
   "metadata": {},
   "outputs": [
    {
     "data": {
      "text/html": [
       "<div>\n",
       "<style scoped>\n",
       "    .dataframe tbody tr th:only-of-type {\n",
       "        vertical-align: middle;\n",
       "    }\n",
       "\n",
       "    .dataframe tbody tr th {\n",
       "        vertical-align: top;\n",
       "    }\n",
       "\n",
       "    .dataframe thead th {\n",
       "        text-align: right;\n",
       "    }\n",
       "</style>\n",
       "<table border=\"1\" class=\"dataframe\">\n",
       "  <thead>\n",
       "    <tr style=\"text-align: right;\">\n",
       "      <th></th>\n",
       "      <th>Open</th>\n",
       "      <th>High</th>\n",
       "      <th>Low</th>\n",
       "      <th>Close</th>\n",
       "      <th>Volume</th>\n",
       "      <th>Dividends</th>\n",
       "      <th>Stock Splits</th>\n",
       "      <th>smooth</th>\n",
       "      <th>P/E Ratiol_</th>\n",
       "      <th>target</th>\n",
       "      <th>P/E Ratior_</th>\n",
       "    </tr>\n",
       "  </thead>\n",
       "  <tbody>\n",
       "    <tr>\n",
       "      <th>2011-02-14</th>\n",
       "      <td>9.17</td>\n",
       "      <td>9.38</td>\n",
       "      <td>9.16</td>\n",
       "      <td>9.31</td>\n",
       "      <td>18700</td>\n",
       "      <td>0.0</td>\n",
       "      <td>0</td>\n",
       "      <td>9.205647</td>\n",
       "      <td>NaN</td>\n",
       "      <td>0</td>\n",
       "      <td>NaN</td>\n",
       "    </tr>\n",
       "    <tr>\n",
       "      <th>2011-02-15</th>\n",
       "      <td>9.24</td>\n",
       "      <td>9.34</td>\n",
       "      <td>9.14</td>\n",
       "      <td>9.22</td>\n",
       "      <td>15700</td>\n",
       "      <td>0.0</td>\n",
       "      <td>0</td>\n",
       "      <td>9.203333</td>\n",
       "      <td>NaN</td>\n",
       "      <td>0</td>\n",
       "      <td>NaN</td>\n",
       "    </tr>\n",
       "    <tr>\n",
       "      <th>2011-02-16</th>\n",
       "      <td>9.23</td>\n",
       "      <td>9.31</td>\n",
       "      <td>9.15</td>\n",
       "      <td>9.17</td>\n",
       "      <td>13800</td>\n",
       "      <td>0.0</td>\n",
       "      <td>0</td>\n",
       "      <td>9.201019</td>\n",
       "      <td>NaN</td>\n",
       "      <td>0</td>\n",
       "      <td>NaN</td>\n",
       "    </tr>\n",
       "    <tr>\n",
       "      <th>2011-02-17</th>\n",
       "      <td>9.19</td>\n",
       "      <td>9.19</td>\n",
       "      <td>9.03</td>\n",
       "      <td>9.10</td>\n",
       "      <td>60800</td>\n",
       "      <td>0.0</td>\n",
       "      <td>0</td>\n",
       "      <td>9.198705</td>\n",
       "      <td>NaN</td>\n",
       "      <td>0</td>\n",
       "      <td>NaN</td>\n",
       "    </tr>\n",
       "    <tr>\n",
       "      <th>2011-02-18</th>\n",
       "      <td>9.19</td>\n",
       "      <td>9.26</td>\n",
       "      <td>9.14</td>\n",
       "      <td>9.24</td>\n",
       "      <td>48300</td>\n",
       "      <td>0.0</td>\n",
       "      <td>0</td>\n",
       "      <td>9.196392</td>\n",
       "      <td>NaN</td>\n",
       "      <td>0</td>\n",
       "      <td>NaN</td>\n",
       "    </tr>\n",
       "    <tr>\n",
       "      <th>...</th>\n",
       "      <td>...</td>\n",
       "      <td>...</td>\n",
       "      <td>...</td>\n",
       "      <td>...</td>\n",
       "      <td>...</td>\n",
       "      <td>...</td>\n",
       "      <td>...</td>\n",
       "      <td>...</td>\n",
       "      <td>...</td>\n",
       "      <td>...</td>\n",
       "      <td>...</td>\n",
       "    </tr>\n",
       "    <tr>\n",
       "      <th>2021-02-08</th>\n",
       "      <td>44.38</td>\n",
       "      <td>45.14</td>\n",
       "      <td>43.70</td>\n",
       "      <td>45.08</td>\n",
       "      <td>293600</td>\n",
       "      <td>0.0</td>\n",
       "      <td>0</td>\n",
       "      <td>44.230497</td>\n",
       "      <td>13.660606</td>\n",
       "      <td>0</td>\n",
       "      <td>NaN</td>\n",
       "    </tr>\n",
       "    <tr>\n",
       "      <th>2021-02-09</th>\n",
       "      <td>45.00</td>\n",
       "      <td>45.73</td>\n",
       "      <td>44.38</td>\n",
       "      <td>45.51</td>\n",
       "      <td>551400</td>\n",
       "      <td>0.0</td>\n",
       "      <td>0</td>\n",
       "      <td>44.372137</td>\n",
       "      <td>13.790909</td>\n",
       "      <td>0</td>\n",
       "      <td>NaN</td>\n",
       "    </tr>\n",
       "    <tr>\n",
       "      <th>2021-02-10</th>\n",
       "      <td>45.70</td>\n",
       "      <td>46.98</td>\n",
       "      <td>45.30</td>\n",
       "      <td>46.09</td>\n",
       "      <td>424600</td>\n",
       "      <td>0.0</td>\n",
       "      <td>0</td>\n",
       "      <td>44.513778</td>\n",
       "      <td>13.966667</td>\n",
       "      <td>0</td>\n",
       "      <td>NaN</td>\n",
       "    </tr>\n",
       "    <tr>\n",
       "      <th>2021-02-11</th>\n",
       "      <td>46.05</td>\n",
       "      <td>46.58</td>\n",
       "      <td>44.68</td>\n",
       "      <td>45.66</td>\n",
       "      <td>317500</td>\n",
       "      <td>0.0</td>\n",
       "      <td>0</td>\n",
       "      <td>44.655419</td>\n",
       "      <td>13.836364</td>\n",
       "      <td>0</td>\n",
       "      <td>NaN</td>\n",
       "    </tr>\n",
       "    <tr>\n",
       "      <th>2021-02-12</th>\n",
       "      <td>45.37</td>\n",
       "      <td>46.16</td>\n",
       "      <td>45.02</td>\n",
       "      <td>45.93</td>\n",
       "      <td>162300</td>\n",
       "      <td>0.0</td>\n",
       "      <td>0</td>\n",
       "      <td>44.797060</td>\n",
       "      <td>13.918182</td>\n",
       "      <td>0</td>\n",
       "      <td>NaN</td>\n",
       "    </tr>\n",
       "  </tbody>\n",
       "</table>\n",
       "<p>2517 rows × 11 columns</p>\n",
       "</div>"
      ],
      "text/plain": [
       "             Open   High    Low  Close  Volume  Dividends  Stock Splits  \\\n",
       "2011-02-14   9.17   9.38   9.16   9.31   18700        0.0             0   \n",
       "2011-02-15   9.24   9.34   9.14   9.22   15700        0.0             0   \n",
       "2011-02-16   9.23   9.31   9.15   9.17   13800        0.0             0   \n",
       "2011-02-17   9.19   9.19   9.03   9.10   60800        0.0             0   \n",
       "2011-02-18   9.19   9.26   9.14   9.24   48300        0.0             0   \n",
       "...           ...    ...    ...    ...     ...        ...           ...   \n",
       "2021-02-08  44.38  45.14  43.70  45.08  293600        0.0             0   \n",
       "2021-02-09  45.00  45.73  44.38  45.51  551400        0.0             0   \n",
       "2021-02-10  45.70  46.98  45.30  46.09  424600        0.0             0   \n",
       "2021-02-11  46.05  46.58  44.68  45.66  317500        0.0             0   \n",
       "2021-02-12  45.37  46.16  45.02  45.93  162300        0.0             0   \n",
       "\n",
       "               smooth  P/E Ratiol_  target  P/E Ratior_  \n",
       "2011-02-14   9.205647          NaN       0          NaN  \n",
       "2011-02-15   9.203333          NaN       0          NaN  \n",
       "2011-02-16   9.201019          NaN       0          NaN  \n",
       "2011-02-17   9.198705          NaN       0          NaN  \n",
       "2011-02-18   9.196392          NaN       0          NaN  \n",
       "...               ...          ...     ...          ...  \n",
       "2021-02-08  44.230497    13.660606       0          NaN  \n",
       "2021-02-09  44.372137    13.790909       0          NaN  \n",
       "2021-02-10  44.513778    13.966667       0          NaN  \n",
       "2021-02-11  44.655419    13.836364       0          NaN  \n",
       "2021-02-12  44.797060    13.918182       0          NaN  \n",
       "\n",
       "[2517 rows x 11 columns]"
      ]
     },
     "execution_count": 65,
     "metadata": {},
     "output_type": "execute_result"
    }
   ],
   "source": [
    "hist.join(pe_df['P/E Ratio'], lsuffix='l_', rsuffix='r_')"
   ]
  },
  {
   "cell_type": "code",
   "execution_count": 71,
   "metadata": {},
   "outputs": [
    {
     "data": {
      "text/html": [
       "<div>\n",
       "<style scoped>\n",
       "    .dataframe tbody tr th:only-of-type {\n",
       "        vertical-align: middle;\n",
       "    }\n",
       "\n",
       "    .dataframe tbody tr th {\n",
       "        vertical-align: top;\n",
       "    }\n",
       "\n",
       "    .dataframe thead th {\n",
       "        text-align: right;\n",
       "    }\n",
       "</style>\n",
       "<table border=\"1\" class=\"dataframe\">\n",
       "  <thead>\n",
       "    <tr style=\"text-align: right;\">\n",
       "      <th></th>\n",
       "      <th>Date</th>\n",
       "      <th>price</th>\n",
       "      <th>eps</th>\n",
       "      <th>P/E Ratio</th>\n",
       "      <th>date</th>\n",
       "    </tr>\n",
       "  </thead>\n",
       "  <tbody>\n",
       "    <tr>\n",
       "      <th>0</th>\n",
       "      <td>2011-02-14</td>\n",
       "      <td>5.81</td>\n",
       "      <td>NaN</td>\n",
       "      <td>NaN</td>\n",
       "      <td>0</td>\n",
       "    </tr>\n",
       "    <tr>\n",
       "      <th>1</th>\n",
       "      <td>2011-02-15</td>\n",
       "      <td>6.02</td>\n",
       "      <td>NaN</td>\n",
       "      <td>NaN</td>\n",
       "      <td>1</td>\n",
       "    </tr>\n",
       "    <tr>\n",
       "      <th>2</th>\n",
       "      <td>2011-02-16</td>\n",
       "      <td>6.08</td>\n",
       "      <td>NaN</td>\n",
       "      <td>NaN</td>\n",
       "      <td>2</td>\n",
       "    </tr>\n",
       "    <tr>\n",
       "      <th>3</th>\n",
       "      <td>2011-02-17</td>\n",
       "      <td>5.86</td>\n",
       "      <td>NaN</td>\n",
       "      <td>NaN</td>\n",
       "      <td>3</td>\n",
       "    </tr>\n",
       "    <tr>\n",
       "      <th>4</th>\n",
       "      <td>2011-02-18</td>\n",
       "      <td>5.75</td>\n",
       "      <td>NaN</td>\n",
       "      <td>NaN</td>\n",
       "      <td>4</td>\n",
       "    </tr>\n",
       "    <tr>\n",
       "      <th>...</th>\n",
       "      <td>...</td>\n",
       "      <td>...</td>\n",
       "      <td>...</td>\n",
       "      <td>...</td>\n",
       "      <td>...</td>\n",
       "    </tr>\n",
       "    <tr>\n",
       "      <th>655</th>\n",
       "      <td>2013-09-23</td>\n",
       "      <td>8.04</td>\n",
       "      <td>NaN</td>\n",
       "      <td>NaN</td>\n",
       "      <td>655</td>\n",
       "    </tr>\n",
       "    <tr>\n",
       "      <th>656</th>\n",
       "      <td>2013-09-24</td>\n",
       "      <td>8.17</td>\n",
       "      <td>NaN</td>\n",
       "      <td>NaN</td>\n",
       "      <td>656</td>\n",
       "    </tr>\n",
       "    <tr>\n",
       "      <th>657</th>\n",
       "      <td>2013-09-25</td>\n",
       "      <td>7.97</td>\n",
       "      <td>NaN</td>\n",
       "      <td>NaN</td>\n",
       "      <td>657</td>\n",
       "    </tr>\n",
       "    <tr>\n",
       "      <th>658</th>\n",
       "      <td>2013-09-26</td>\n",
       "      <td>8.05</td>\n",
       "      <td>NaN</td>\n",
       "      <td>NaN</td>\n",
       "      <td>658</td>\n",
       "    </tr>\n",
       "    <tr>\n",
       "      <th>659</th>\n",
       "      <td>2013-09-27</td>\n",
       "      <td>8.17</td>\n",
       "      <td>NaN</td>\n",
       "      <td>NaN</td>\n",
       "      <td>659</td>\n",
       "    </tr>\n",
       "  </tbody>\n",
       "</table>\n",
       "<p>660 rows × 5 columns</p>\n",
       "</div>"
      ],
      "text/plain": [
       "          Date  price  eps  P/E Ratio  date\n",
       "0   2011-02-14   5.81  NaN        NaN     0\n",
       "1   2011-02-15   6.02  NaN        NaN     1\n",
       "2   2011-02-16   6.08  NaN        NaN     2\n",
       "3   2011-02-17   5.86  NaN        NaN     3\n",
       "4   2011-02-18   5.75  NaN        NaN     4\n",
       "..         ...    ...  ...        ...   ...\n",
       "655 2013-09-23   8.04  NaN        NaN   655\n",
       "656 2013-09-24   8.17  NaN        NaN   656\n",
       "657 2013-09-25   7.97  NaN        NaN   657\n",
       "658 2013-09-26   8.05  NaN        NaN   658\n",
       "659 2013-09-27   8.17  NaN        NaN   659\n",
       "\n",
       "[660 rows x 5 columns]"
      ]
     },
     "execution_count": 71,
     "metadata": {},
     "output_type": "execute_result"
    }
   ],
   "source": [
    "pe_df.loc[pe_df['P/E Ratio'].isnull()]"
   ]
  },
  {
   "cell_type": "code",
   "execution_count": 75,
   "metadata": {},
   "outputs": [
    {
     "data": {
      "text/plain": [
       "<matplotlib.axes._subplots.AxesSubplot at 0x7fcd5952c410>"
      ]
     },
     "execution_count": 75,
     "metadata": {},
     "output_type": "execute_result"
    },
    {
     "data": {
      "image/png": "[encoded data removed]",
      "text/plain": [
       "<Figure size 432x288 with 1 Axes>"
      ]
     },
     "metadata": {
      "needs_background": "light"
     },
     "output_type": "display_data"
    }
   ],
   "source": [
    "pe_df['P/E Ratio'].plot()"
   ]
  },
  {
   "cell_type": "code",
   "execution_count": 76,
   "metadata": {},
   "outputs": [
    {
     "data": {
      "text/plain": [
       "<matplotlib.axes._subplots.AxesSubplot at 0x7fcd59570950>"
      ]
     },
     "execution_count": 76,
     "metadata": {},
     "output_type": "execute_result"
    },
    {
     "data": {
      "image/png": "[encoded data removed]",
      "text/plain": [
       "<Figure size 432x288 with 1 Axes>"
      ]
     },
     "metadata": {
      "needs_background": "light"
     },
     "output_type": "display_data"
    }
   ],
   "source": [
    "pe_df['price'].plot()"
   ]
  },
  {
   "cell_type": "code",
   "execution_count": 77,
   "metadata": {},
   "outputs": [
    {
     "data": {
      "text/plain": [
       "<matplotlib.axes._subplots.AxesSubplot at 0x7fcd28a6d250>"
      ]
     },
     "execution_count": 77,
     "metadata": {},
     "output_type": "execute_result"
    },
    {
     "data": {
      "image/png": "[encoded data removed]",
      "text/plain": [
       "<Figure size 432x288 with 1 Axes>"
      ]
     },
     "metadata": {
      "needs_background": "light"
     },
     "output_type": "display_data"
    }
   ],
   "source": [
    "pe_df['eps'].plot()"
   ]
  },
  {
   "cell_type": "code",
   "execution_count": 78,
   "metadata": {},
   "outputs": [
    {
     "name": "stdout",
     "output_type": "stream",
     "text": [
      "Successfully retrieved smoothed price data for AAPL (len(hist)=2517, success=True)\n"
     ]
    },
    {
     "data": {
      "text/html": [
       "<div>\n",
       "<style scoped>\n",
       "    .dataframe tbody tr th:only-of-type {\n",
       "        vertical-align: middle;\n",
       "    }\n",
       "\n",
       "    .dataframe tbody tr th {\n",
       "        vertical-align: top;\n",
       "    }\n",
       "\n",
       "    .dataframe thead th {\n",
       "        text-align: right;\n",
       "    }\n",
       "</style>\n",
       "<table border=\"1\" class=\"dataframe\">\n",
       "  <thead>\n",
       "    <tr style=\"text-align: right;\">\n",
       "      <th></th>\n",
       "      <th>Open</th>\n",
       "      <th>High</th>\n",
       "      <th>Low</th>\n",
       "      <th>Close</th>\n",
       "      <th>Volume</th>\n",
       "      <th>Dividends</th>\n",
       "      <th>Stock Splits</th>\n",
       "      <th>smooth</th>\n",
       "      <th>P/E Ratio</th>\n",
       "      <th>target</th>\n",
       "    </tr>\n",
       "  </thead>\n",
       "  <tbody>\n",
       "    <tr>\n",
       "      <th>2011-02-14</th>\n",
       "      <td>10.98</td>\n",
       "      <td>11.06</td>\n",
       "      <td>10.97</td>\n",
       "      <td>11.05</td>\n",
       "      <td>310416400</td>\n",
       "      <td>0.0</td>\n",
       "      <td>0.0</td>\n",
       "      <td>10.952331</td>\n",
       "      <td>NaN</td>\n",
       "      <td>0</td>\n",
       "    </tr>\n",
       "    <tr>\n",
       "      <th>2011-02-15</th>\n",
       "      <td>11.05</td>\n",
       "      <td>11.07</td>\n",
       "      <td>11.00</td>\n",
       "      <td>11.07</td>\n",
       "      <td>284174800</td>\n",
       "      <td>0.0</td>\n",
       "      <td>0.0</td>\n",
       "      <td>10.937638</td>\n",
       "      <td>NaN</td>\n",
       "      <td>0</td>\n",
       "    </tr>\n",
       "    <tr>\n",
       "      <th>2011-02-16</th>\n",
       "      <td>11.10</td>\n",
       "      <td>11.23</td>\n",
       "      <td>11.09</td>\n",
       "      <td>11.17</td>\n",
       "      <td>481157600</td>\n",
       "      <td>0.0</td>\n",
       "      <td>0.0</td>\n",
       "      <td>10.922946</td>\n",
       "      <td>NaN</td>\n",
       "      <td>0</td>\n",
       "    </tr>\n",
       "    <tr>\n",
       "      <th>2011-02-17</th>\n",
       "      <td>10.99</td>\n",
       "      <td>11.08</td>\n",
       "      <td>10.97</td>\n",
       "      <td>11.02</td>\n",
       "      <td>530583200</td>\n",
       "      <td>0.0</td>\n",
       "      <td>0.0</td>\n",
       "      <td>10.908253</td>\n",
       "      <td>NaN</td>\n",
       "      <td>0</td>\n",
       "    </tr>\n",
       "    <tr>\n",
       "      <th>2011-02-18</th>\n",
       "      <td>11.03</td>\n",
       "      <td>11.06</td>\n",
       "      <td>10.75</td>\n",
       "      <td>10.78</td>\n",
       "      <td>816057200</td>\n",
       "      <td>0.0</td>\n",
       "      <td>0.0</td>\n",
       "      <td>10.893560</td>\n",
       "      <td>NaN</td>\n",
       "      <td>0</td>\n",
       "    </tr>\n",
       "    <tr>\n",
       "      <th>...</th>\n",
       "      <td>...</td>\n",
       "      <td>...</td>\n",
       "      <td>...</td>\n",
       "      <td>...</td>\n",
       "      <td>...</td>\n",
       "      <td>...</td>\n",
       "      <td>...</td>\n",
       "      <td>...</td>\n",
       "      <td>...</td>\n",
       "      <td>...</td>\n",
       "    </tr>\n",
       "    <tr>\n",
       "      <th>2021-02-08</th>\n",
       "      <td>136.03</td>\n",
       "      <td>136.96</td>\n",
       "      <td>134.92</td>\n",
       "      <td>136.91</td>\n",
       "      <td>71297200</td>\n",
       "      <td>0.0</td>\n",
       "      <td>0.0</td>\n",
       "      <td>136.688054</td>\n",
       "      <td>41.996933</td>\n",
       "      <td>0</td>\n",
       "    </tr>\n",
       "    <tr>\n",
       "      <th>2021-02-09</th>\n",
       "      <td>136.62</td>\n",
       "      <td>137.88</td>\n",
       "      <td>135.85</td>\n",
       "      <td>136.01</td>\n",
       "      <td>76774200</td>\n",
       "      <td>0.0</td>\n",
       "      <td>0.0</td>\n",
       "      <td>136.930016</td>\n",
       "      <td>41.720859</td>\n",
       "      <td>0</td>\n",
       "    </tr>\n",
       "    <tr>\n",
       "      <th>2021-02-10</th>\n",
       "      <td>136.48</td>\n",
       "      <td>136.99</td>\n",
       "      <td>134.40</td>\n",
       "      <td>135.39</td>\n",
       "      <td>73046600</td>\n",
       "      <td>0.0</td>\n",
       "      <td>0.0</td>\n",
       "      <td>137.171978</td>\n",
       "      <td>41.530675</td>\n",
       "      <td>0</td>\n",
       "    </tr>\n",
       "    <tr>\n",
       "      <th>2021-02-11</th>\n",
       "      <td>135.90</td>\n",
       "      <td>136.39</td>\n",
       "      <td>133.77</td>\n",
       "      <td>135.13</td>\n",
       "      <td>64154400</td>\n",
       "      <td>0.0</td>\n",
       "      <td>0.0</td>\n",
       "      <td>137.413940</td>\n",
       "      <td>41.450920</td>\n",
       "      <td>0</td>\n",
       "    </tr>\n",
       "    <tr>\n",
       "      <th>2021-02-12</th>\n",
       "      <td>134.35</td>\n",
       "      <td>135.53</td>\n",
       "      <td>133.69</td>\n",
       "      <td>135.37</td>\n",
       "      <td>60029300</td>\n",
       "      <td>0.0</td>\n",
       "      <td>0.0</td>\n",
       "      <td>137.655902</td>\n",
       "      <td>41.524540</td>\n",
       "      <td>0</td>\n",
       "    </tr>\n",
       "  </tbody>\n",
       "</table>\n",
       "<p>2517 rows × 10 columns</p>\n",
       "</div>"
      ],
      "text/plain": [
       "              Open    High     Low   Close     Volume  Dividends  \\\n",
       "2011-02-14   10.98   11.06   10.97   11.05  310416400        0.0   \n",
       "2011-02-15   11.05   11.07   11.00   11.07  284174800        0.0   \n",
       "2011-02-16   11.10   11.23   11.09   11.17  481157600        0.0   \n",
       "2011-02-17   10.99   11.08   10.97   11.02  530583200        0.0   \n",
       "2011-02-18   11.03   11.06   10.75   10.78  816057200        0.0   \n",
       "...            ...     ...     ...     ...        ...        ...   \n",
       "2021-02-08  136.03  136.96  134.92  136.91   71297200        0.0   \n",
       "2021-02-09  136.62  137.88  135.85  136.01   76774200        0.0   \n",
       "2021-02-10  136.48  136.99  134.40  135.39   73046600        0.0   \n",
       "2021-02-11  135.90  136.39  133.77  135.13   64154400        0.0   \n",
       "2021-02-12  134.35  135.53  133.69  135.37   60029300        0.0   \n",
       "\n",
       "            Stock Splits      smooth  P/E Ratio  target  \n",
       "2011-02-14           0.0   10.952331        NaN       0  \n",
       "2011-02-15           0.0   10.937638        NaN       0  \n",
       "2011-02-16           0.0   10.922946        NaN       0  \n",
       "2011-02-17           0.0   10.908253        NaN       0  \n",
       "2011-02-18           0.0   10.893560        NaN       0  \n",
       "...                  ...         ...        ...     ...  \n",
       "2021-02-08           0.0  136.688054  41.996933       0  \n",
       "2021-02-09           0.0  136.930016  41.720859       0  \n",
       "2021-02-10           0.0  137.171978  41.530675       0  \n",
       "2021-02-11           0.0  137.413940  41.450920       0  \n",
       "2021-02-12           0.0  137.655902  41.524540       0  \n",
       "\n",
       "[2517 rows x 10 columns]"
      ]
     },
     "execution_count": 78,
     "metadata": {},
     "output_type": "execute_result"
    }
   ],
   "source": [
    "ticker = 'AAPL'\n",
    "target = 'target'\n",
    "success, hist = get_stock_n_smooth(ticker, TRADE_PERIOD)\n",
    "assert success == True, \"Unable to get historical price data and smooth price!\"\n",
    "hist[target] = 0\n",
    "hist"
   ]
  },
  {
   "cell_type": "code",
   "execution_count": 79,
   "metadata": {},
   "outputs": [
    {
     "data": {
      "text/html": [
       "<div>\n",
       "<style scoped>\n",
       "    .dataframe tbody tr th:only-of-type {\n",
       "        vertical-align: middle;\n",
       "    }\n",
       "\n",
       "    .dataframe tbody tr th {\n",
       "        vertical-align: top;\n",
       "    }\n",
       "\n",
       "    .dataframe thead th {\n",
       "        text-align: right;\n",
       "    }\n",
       "</style>\n",
       "<table border=\"1\" class=\"dataframe\">\n",
       "  <thead>\n",
       "    <tr style=\"text-align: right;\">\n",
       "      <th></th>\n",
       "      <th>Open</th>\n",
       "      <th>High</th>\n",
       "      <th>Low</th>\n",
       "      <th>Close</th>\n",
       "      <th>Volume</th>\n",
       "      <th>Dividends</th>\n",
       "      <th>Stock Splits</th>\n",
       "      <th>smooth</th>\n",
       "      <th>P/E Ratio</th>\n",
       "      <th>target</th>\n",
       "    </tr>\n",
       "  </thead>\n",
       "  <tbody>\n",
       "    <tr>\n",
       "      <th>2011-02-14</th>\n",
       "      <td>10.98</td>\n",
       "      <td>11.06</td>\n",
       "      <td>10.97</td>\n",
       "      <td>11.05</td>\n",
       "      <td>310416400</td>\n",
       "      <td>0.0</td>\n",
       "      <td>0.0</td>\n",
       "      <td>10.952331</td>\n",
       "      <td>NaN</td>\n",
       "      <td>0</td>\n",
       "    </tr>\n",
       "    <tr>\n",
       "      <th>2011-02-15</th>\n",
       "      <td>11.05</td>\n",
       "      <td>11.07</td>\n",
       "      <td>11.00</td>\n",
       "      <td>11.07</td>\n",
       "      <td>284174800</td>\n",
       "      <td>0.0</td>\n",
       "      <td>0.0</td>\n",
       "      <td>10.937638</td>\n",
       "      <td>NaN</td>\n",
       "      <td>0</td>\n",
       "    </tr>\n",
       "    <tr>\n",
       "      <th>2011-02-16</th>\n",
       "      <td>11.10</td>\n",
       "      <td>11.23</td>\n",
       "      <td>11.09</td>\n",
       "      <td>11.17</td>\n",
       "      <td>481157600</td>\n",
       "      <td>0.0</td>\n",
       "      <td>0.0</td>\n",
       "      <td>10.922946</td>\n",
       "      <td>NaN</td>\n",
       "      <td>0</td>\n",
       "    </tr>\n",
       "    <tr>\n",
       "      <th>2011-02-17</th>\n",
       "      <td>10.99</td>\n",
       "      <td>11.08</td>\n",
       "      <td>10.97</td>\n",
       "      <td>11.02</td>\n",
       "      <td>530583200</td>\n",
       "      <td>0.0</td>\n",
       "      <td>0.0</td>\n",
       "      <td>10.908253</td>\n",
       "      <td>NaN</td>\n",
       "      <td>0</td>\n",
       "    </tr>\n",
       "    <tr>\n",
       "      <th>2011-02-18</th>\n",
       "      <td>11.03</td>\n",
       "      <td>11.06</td>\n",
       "      <td>10.75</td>\n",
       "      <td>10.78</td>\n",
       "      <td>816057200</td>\n",
       "      <td>0.0</td>\n",
       "      <td>0.0</td>\n",
       "      <td>10.893560</td>\n",
       "      <td>NaN</td>\n",
       "      <td>0</td>\n",
       "    </tr>\n",
       "    <tr>\n",
       "      <th>...</th>\n",
       "      <td>...</td>\n",
       "      <td>...</td>\n",
       "      <td>...</td>\n",
       "      <td>...</td>\n",
       "      <td>...</td>\n",
       "      <td>...</td>\n",
       "      <td>...</td>\n",
       "      <td>...</td>\n",
       "      <td>...</td>\n",
       "      <td>...</td>\n",
       "    </tr>\n",
       "    <tr>\n",
       "      <th>2021-02-08</th>\n",
       "      <td>136.03</td>\n",
       "      <td>136.96</td>\n",
       "      <td>134.92</td>\n",
       "      <td>136.91</td>\n",
       "      <td>71297200</td>\n",
       "      <td>0.0</td>\n",
       "      <td>0.0</td>\n",
       "      <td>136.688054</td>\n",
       "      <td>41.996933</td>\n",
       "      <td>0</td>\n",
       "    </tr>\n",
       "    <tr>\n",
       "      <th>2021-02-09</th>\n",
       "      <td>136.62</td>\n",
       "      <td>137.88</td>\n",
       "      <td>135.85</td>\n",
       "      <td>136.01</td>\n",
       "      <td>76774200</td>\n",
       "      <td>0.0</td>\n",
       "      <td>0.0</td>\n",
       "      <td>136.930016</td>\n",
       "      <td>41.720859</td>\n",
       "      <td>0</td>\n",
       "    </tr>\n",
       "    <tr>\n",
       "      <th>2021-02-10</th>\n",
       "      <td>136.48</td>\n",
       "      <td>136.99</td>\n",
       "      <td>134.40</td>\n",
       "      <td>135.39</td>\n",
       "      <td>73046600</td>\n",
       "      <td>0.0</td>\n",
       "      <td>0.0</td>\n",
       "      <td>137.171978</td>\n",
       "      <td>41.530675</td>\n",
       "      <td>0</td>\n",
       "    </tr>\n",
       "    <tr>\n",
       "      <th>2021-02-11</th>\n",
       "      <td>135.90</td>\n",
       "      <td>136.39</td>\n",
       "      <td>133.77</td>\n",
       "      <td>135.13</td>\n",
       "      <td>64154400</td>\n",
       "      <td>0.0</td>\n",
       "      <td>0.0</td>\n",
       "      <td>137.413940</td>\n",
       "      <td>41.450920</td>\n",
       "      <td>0</td>\n",
       "    </tr>\n",
       "    <tr>\n",
       "      <th>2021-02-12</th>\n",
       "      <td>134.35</td>\n",
       "      <td>135.53</td>\n",
       "      <td>133.69</td>\n",
       "      <td>135.37</td>\n",
       "      <td>60029300</td>\n",
       "      <td>0.0</td>\n",
       "      <td>0.0</td>\n",
       "      <td>137.655902</td>\n",
       "      <td>41.524540</td>\n",
       "      <td>0</td>\n",
       "    </tr>\n",
       "  </tbody>\n",
       "</table>\n",
       "<p>2517 rows × 10 columns</p>\n",
       "</div>"
      ],
      "text/plain": [
       "              Open    High     Low   Close     Volume  Dividends  \\\n",
       "2011-02-14   10.98   11.06   10.97   11.05  310416400        0.0   \n",
       "2011-02-15   11.05   11.07   11.00   11.07  284174800        0.0   \n",
       "2011-02-16   11.10   11.23   11.09   11.17  481157600        0.0   \n",
       "2011-02-17   10.99   11.08   10.97   11.02  530583200        0.0   \n",
       "2011-02-18   11.03   11.06   10.75   10.78  816057200        0.0   \n",
       "...            ...     ...     ...     ...        ...        ...   \n",
       "2021-02-08  136.03  136.96  134.92  136.91   71297200        0.0   \n",
       "2021-02-09  136.62  137.88  135.85  136.01   76774200        0.0   \n",
       "2021-02-10  136.48  136.99  134.40  135.39   73046600        0.0   \n",
       "2021-02-11  135.90  136.39  133.77  135.13   64154400        0.0   \n",
       "2021-02-12  134.35  135.53  133.69  135.37   60029300        0.0   \n",
       "\n",
       "            Stock Splits      smooth  P/E Ratio  target  \n",
       "2011-02-14           0.0   10.952331        NaN       0  \n",
       "2011-02-15           0.0   10.937638        NaN       0  \n",
       "2011-02-16           0.0   10.922946        NaN       0  \n",
       "2011-02-17           0.0   10.908253        NaN       0  \n",
       "2011-02-18           0.0   10.893560        NaN       0  \n",
       "...                  ...         ...        ...     ...  \n",
       "2021-02-08           0.0  136.688054  41.996933       0  \n",
       "2021-02-09           0.0  136.930016  41.720859       0  \n",
       "2021-02-10           0.0  137.171978  41.530675       0  \n",
       "2021-02-11           0.0  137.413940  41.450920       0  \n",
       "2021-02-12           0.0  137.655902  41.524540       0  \n",
       "\n",
       "[2517 rows x 10 columns]"
      ]
     },
     "execution_count": 79,
     "metadata": {},
     "output_type": "execute_result"
    }
   ],
   "source": [
    "hist"
   ]
  },
  {
   "cell_type": "code",
   "execution_count": 82,
   "metadata": {},
   "outputs": [
    {
     "name": "stdout",
     "output_type": "stream",
     "text": [
      "Successfully retrieved smoothed price data for AAPL (len(hist)=2517, success=True)\n"
     ]
    },
    {
     "data": {
      "text/plain": [
       "0"
      ]
     },
     "execution_count": 82,
     "metadata": {},
     "output_type": "execute_result"
    }
   ],
   "source": [
    "ticker = 'AAPL'\n",
    "target = 'target'\n",
    "success, hist = get_stock_n_smooth(ticker, TRADE_PERIOD)\n",
    "assert success == True, \"Unable to get historical price data and smooth price!\"\n",
    "hist[target] = 0\n",
    "sum(BBP(hist,14) == np.inf)"
   ]
  },
  {
   "cell_type": "code",
   "execution_count": 83,
   "metadata": {},
   "outputs": [],
   "source": [
    "#hist = features(hist, target)"
   ]
  },
  {
   "cell_type": "code",
   "execution_count": 86,
   "metadata": {},
   "outputs": [
    {
     "data": {
      "text/plain": [
       "Index(['Open', 'High', 'Low', 'Close', 'Volume', 'Dividends', 'Stock Splits',\n",
       "       'smooth', 'P/E Ratio', 'target'],\n",
       "      dtype='object')"
      ]
     },
     "execution_count": 86,
     "metadata": {},
     "output_type": "execute_result"
    }
   ],
   "source": [
    "hist.columns"
   ]
  },
  {
   "cell_type": "code",
   "execution_count": 85,
   "metadata": {},
   "outputs": [
    {
     "data": {
      "text/plain": [
       "2517"
      ]
     },
     "execution_count": 85,
     "metadata": {},
     "output_type": "execute_result"
    }
   ],
   "source": [
    "len(hist)"
   ]
  },
  {
   "cell_type": "code",
   "execution_count": 87,
   "metadata": {},
   "outputs": [],
   "source": [
    "Gain=hist['Close'].copy()\n",
    "Loss=hist['Close'].copy()\n",
    "Avg_gain=hist['Close'].copy()\n",
    "Avg_loss=hist['Close'].copy()\n",
    "rsi=hist['Close'].copy()\n",
    "\n",
    "Gain[:]=0.0\n",
    "Loss[:]=0.0\n",
    "Avg_gain[:]=0.0\n",
    "Avg_loss[:]=0.0\n",
    "rsi[:]=np.nan"
   ]
  },
  {
   "cell_type": "code",
   "execution_count": 88,
   "metadata": {},
   "outputs": [
    {
     "data": {
      "text/plain": [
       "2011-02-14    0.00\n",
       "2011-02-15    0.02\n",
       "2011-02-16    0.10\n",
       "2011-02-17   -0.15\n",
       "2011-02-18   -0.24\n",
       "              ... \n",
       "2021-02-08    0.15\n",
       "2021-02-09   -0.90\n",
       "2021-02-10   -0.62\n",
       "2021-02-11   -0.26\n",
       "2021-02-12    0.24\n",
       "Name: Close, Length: 2517, dtype: float64"
      ]
     },
     "execution_count": 88,
     "metadata": {},
     "output_type": "execute_result"
    }
   ],
   "source": [
    "change = hist.Close - hist.Close.shift(1)\n",
    "change = change.fillna(0)\n",
    "change"
   ]
  },
  {
   "cell_type": "code",
   "execution_count": 89,
   "metadata": {},
   "outputs": [
    {
     "data": {
      "text/plain": [
       "2011-02-14    0.00\n",
       "2011-02-15    0.02\n",
       "2011-02-16    0.10\n",
       "2011-02-17    0.00\n",
       "2011-02-18    0.00\n",
       "              ... \n",
       "2021-02-08    0.15\n",
       "2021-02-09    0.00\n",
       "2021-02-10    0.00\n",
       "2021-02-11    0.00\n",
       "2021-02-12    0.24\n",
       "Name: Close, Length: 2517, dtype: float64"
      ]
     },
     "execution_count": 89,
     "metadata": {},
     "output_type": "execute_result"
    }
   ],
   "source": [
    "gain = change.copy()\n",
    "gain [ gain <= 0] = 0\n",
    "gain"
   ]
  },
  {
   "cell_type": "code",
   "execution_count": 90,
   "metadata": {},
   "outputs": [
    {
     "data": {
      "text/plain": [
       "2011-02-14    0.00\n",
       "2011-02-15    0.00\n",
       "2011-02-16    0.00\n",
       "2011-02-17    0.15\n",
       "2011-02-18    0.24\n",
       "              ... \n",
       "2021-02-08    0.00\n",
       "2021-02-09    0.90\n",
       "2021-02-10    0.62\n",
       "2021-02-11    0.26\n",
       "2021-02-12    0.00\n",
       "Name: Close, Length: 2517, dtype: float64"
      ]
     },
     "execution_count": 90,
     "metadata": {},
     "output_type": "execute_result"
    }
   ],
   "source": [
    "loss = change.copy()\n",
    "loss [ loss > 0] = 0\n",
    "loss = np.abs(loss)\n",
    "loss"
   ]
  },
  {
   "cell_type": "code",
   "execution_count": 91,
   "metadata": {},
   "outputs": [],
   "source": [
    "window = 14\n",
    "Avg_gain[:] = 0.0\n",
    "Avg_loss[:] = 0.0\n",
    "for i in range(1,len(hist)):\n",
    "    if hist.Close.iloc[i] > hist.Close.iloc[i-1]:\n",
    "        Gain[i]=hist.Close.iloc[i]-hist.Close.iloc[i-1]\n",
    "    else:\n",
    "        # For loss save the absolute value on loss\n",
    "        Loss[i]=abs(hist.Close.iloc[i]-hist.Close.iloc[i-1])\n",
    "    if i>=window:\n",
    "        Avg_gain[i]=(Avg_gain[i-1]*(window-1)+Gain[i]) / window\n",
    "        Avg_loss[i]=(Avg_loss[i-1]*(window-1)+Loss[i]) / window\n",
    "#         Avg_gain[i] = np.sum(Gain[i-window+1:i+1]) / window\n",
    "#         Avg_loss[i] = np.sum(Loss[i-window+1:i+1]) / window\n",
    "        rsi[i]=(100*Avg_gain[i]/(Avg_gain[i]+Avg_loss[i]))"
   ]
  },
  {
   "cell_type": "code",
   "execution_count": 92,
   "metadata": {},
   "outputs": [
    {
     "data": {
      "text/plain": [
       "True"
      ]
     },
     "execution_count": 92,
     "metadata": {},
     "output_type": "execute_result"
    }
   ],
   "source": [
    "np.all(Gain == gain)"
   ]
  },
  {
   "cell_type": "code",
   "execution_count": 93,
   "metadata": {},
   "outputs": [
    {
     "data": {
      "text/plain": [
       "True"
      ]
     },
     "execution_count": 93,
     "metadata": {},
     "output_type": "execute_result"
    }
   ],
   "source": [
    "np.all(Loss == loss)"
   ]
  },
  {
   "cell_type": "code",
   "execution_count": 94,
   "metadata": {},
   "outputs": [
    {
     "data": {
      "text/plain": [
       "2011-03-08    0.000714\n",
       "2011-03-09    0.000663\n",
       "2011-03-10    0.000616\n",
       "2011-03-11    0.012715\n",
       "2011-03-14    0.015378\n",
       "                ...   \n",
       "2021-02-08    1.178553\n",
       "2021-02-09    1.094371\n",
       "2021-02-10    1.016201\n",
       "2021-02-11    0.943616\n",
       "2021-02-12    0.893357\n",
       "Name: Close, Length: 2502, dtype: float64"
      ]
     },
     "execution_count": 94,
     "metadata": {},
     "output_type": "execute_result"
    }
   ],
   "source": [
    "Avg_gain [ Avg_gain > 0]"
   ]
  },
  {
   "cell_type": "code",
   "execution_count": 95,
   "metadata": {},
   "outputs": [
    {
     "data": {
      "text/plain": [
       "2011-03-08    0.000714\n",
       "Name: Close, dtype: float64"
      ]
     },
     "execution_count": 95,
     "metadata": {},
     "output_type": "execute_result"
    }
   ],
   "source": [
    "Avg_gain[15:16]"
   ]
  },
  {
   "cell_type": "code",
   "execution_count": 96,
   "metadata": {},
   "outputs": [
    {
     "data": {
      "text/plain": [
       "2011-03-07    0.063571\n",
       "2011-03-08    0.062857\n",
       "2011-03-09    0.055714\n",
       "2011-03-10    0.055714\n",
       "2011-03-11    0.067857\n",
       "                ...   \n",
       "2021-02-08    1.566429\n",
       "2021-02-09    1.267143\n",
       "2021-02-10    0.921429\n",
       "2021-02-11    0.765000\n",
       "2021-02-12    0.507143\n",
       "Name: Close, Length: 2503, dtype: float64"
      ]
     },
     "execution_count": 96,
     "metadata": {},
     "output_type": "execute_result"
    }
   ],
   "source": [
    "gain.fillna(0).rolling(14).mean()[14:]"
   ]
  },
  {
   "cell_type": "code",
   "execution_count": 97,
   "metadata": {},
   "outputs": [],
   "source": [
    "def RSI_Harshad_fixed(df, window):\n",
    "    rsi=df['Close'].copy()\n",
    "    rsi[:]=np.nan\n",
    "\n",
    "    change = df.Close - df.Close.shift(1)\n",
    "    change = change.fillna(0)\n",
    "\n",
    "    gain = change.copy()\n",
    "    gain [ gain <= 0] = 0\n",
    "    \n",
    "    loss = change.copy()\n",
    "    loss [ loss > 0] = 0\n",
    "    loss = np.abs(loss)\n",
    "    \n",
    "    Avg_gain = gain.fillna(0).rolling(14).mean()\n",
    "    Avg_loss = loss.fillna(0).rolling(14).mean()\n",
    "    rsi = 100 * (Avg_gain / (Avg_gain + Avg_loss))\n",
    "\n",
    "    return rsi"
   ]
  },
  {
   "cell_type": "code",
   "execution_count": 98,
   "metadata": {},
   "outputs": [
    {
     "data": {
      "text/plain": [
       "2011-02-14          NaN\n",
       "2011-02-15          NaN\n",
       "2011-02-16          NaN\n",
       "2011-02-17          NaN\n",
       "2011-02-18          NaN\n",
       "                ...    \n",
       "2021-02-08    63.399827\n",
       "2021-02-09    56.677316\n",
       "2021-02-10    47.636632\n",
       "2021-02-11    42.584493\n",
       "2021-02-12    32.961931\n",
       "Name: Close, Length: 2517, dtype: float64"
      ]
     },
     "execution_count": 98,
     "metadata": {},
     "output_type": "execute_result"
    }
   ],
   "source": [
    "RSI_Harshad_fixed(hist, 14)"
   ]
  },
  {
   "cell_type": "code",
   "execution_count": 99,
   "metadata": {},
   "outputs": [
    {
     "data": {
      "text/plain": [
       "2011-02-14          NaN\n",
       "2011-02-15          NaN\n",
       "2011-02-16          NaN\n",
       "2011-02-17          NaN\n",
       "2011-02-18          NaN\n",
       "                ...    \n",
       "2021-02-08    63.399827\n",
       "2021-02-09    56.677316\n",
       "2021-02-10    47.636632\n",
       "2021-02-11    42.584493\n",
       "2021-02-12    32.961931\n",
       "Name: Close, Length: 2517, dtype: float64"
      ]
     },
     "execution_count": 99,
     "metadata": {},
     "output_type": "execute_result"
    }
   ],
   "source": [
    "RSI_Frank(hist, 14)"
   ]
  },
  {
   "cell_type": "code",
   "execution_count": 100,
   "metadata": {},
   "outputs": [
    {
     "data": {
      "text/plain": [
       "True"
      ]
     },
     "execution_count": 100,
     "metadata": {},
     "output_type": "execute_result"
    }
   ],
   "source": [
    "np.allclose(RSI_Harshad_fixed(hist, 14)[14:], RSI_Frank(hist, 14)[14:])"
   ]
  },
  {
   "cell_type": "code",
   "execution_count": 101,
   "metadata": {},
   "outputs": [
    {
     "name": "stdout",
     "output_type": "stream",
     "text": [
      "CPU times: user 7.32 ms, sys: 584 µs, total: 7.9 ms\n",
      "Wall time: 7.4 ms\n"
     ]
    },
    {
     "data": {
      "text/plain": [
       "2011-02-14          NaN\n",
       "2011-02-15          NaN\n",
       "2011-02-16          NaN\n",
       "2011-02-17          NaN\n",
       "2011-02-18          NaN\n",
       "                ...    \n",
       "2021-02-08    63.399827\n",
       "2021-02-09    56.677316\n",
       "2021-02-10    47.636632\n",
       "2021-02-11    42.584493\n",
       "2021-02-12    32.961931\n",
       "Name: Close, Length: 2517, dtype: float64"
      ]
     },
     "execution_count": 101,
     "metadata": {},
     "output_type": "execute_result"
    }
   ],
   "source": [
    "%time RSI_Harshad_fixed(hist, 14)"
   ]
  },
  {
   "cell_type": "code",
   "execution_count": 102,
   "metadata": {},
   "outputs": [
    {
     "name": "stdout",
     "output_type": "stream",
     "text": [
      "CPU times: user 12.5 ms, sys: 1.36 ms, total: 13.9 ms\n",
      "Wall time: 12.6 ms\n"
     ]
    },
    {
     "data": {
      "text/plain": [
       "2011-02-14          NaN\n",
       "2011-02-15          NaN\n",
       "2011-02-16          NaN\n",
       "2011-02-17          NaN\n",
       "2011-02-18          NaN\n",
       "                ...    \n",
       "2021-02-08    63.399827\n",
       "2021-02-09    56.677316\n",
       "2021-02-10    47.636632\n",
       "2021-02-11    42.584493\n",
       "2021-02-12    32.961931\n",
       "Name: Close, Length: 2517, dtype: float64"
      ]
     },
     "execution_count": 102,
     "metadata": {},
     "output_type": "execute_result"
    }
   ],
   "source": [
    "%time RSI_Frank(hist, 14)"
   ]
  },
  {
   "cell_type": "code",
   "execution_count": null,
   "metadata": {},
   "outputs": [],
   "source": []
  },
  {
   "cell_type": "code",
   "execution_count": 103,
   "metadata": {},
   "outputs": [],
   "source": [
    "def RSI_v1(df, window):\n",
    "    rsi=df['Close'].copy()\n",
    "    rsi[:]=np.nan\n",
    "\n",
    "    change = df.Close - df.Close.shift(1)\n",
    "    change = change.fillna(0)\n",
    "\n",
    "    gain = change.copy()\n",
    "    gain [ gain <= 0] = 0\n",
    "\n",
    "    loss = change.copy()\n",
    "    loss [ loss > 0] = 0\n",
    "    loss = np.abs(loss)\n",
    "\n",
    "    avg_gain = gain[:window].mean()\n",
    "    avg_loss = loss[:window].mean()\n",
    "\n",
    "    i=window\n",
    "    for g, l in zip(gain[window:], loss[window:]):\n",
    "        avg_gain = (avg_gain * (window-1) + g) / window\n",
    "        avg_loss = (avg_loss * (window-1) + l) / window\n",
    "        rsi[i] = 100 * (avg_gain / (avg_gain + avg_loss) )\n",
    "        i+=1\n",
    "\n",
    "    return rsi"
   ]
  },
  {
   "cell_type": "code",
   "execution_count": 104,
   "metadata": {},
   "outputs": [
    {
     "name": "stdout",
     "output_type": "stream",
     "text": [
      "CPU times: user 26.4 s, sys: 15.4 ms, total: 26.4 s\n",
      "Wall time: 26.4 s\n"
     ]
    }
   ],
   "source": [
    "%%time \n",
    "for i in range(1000): rsi=RSI_v1(hist, 14)"
   ]
  },
  {
   "cell_type": "code",
   "execution_count": 105,
   "metadata": {},
   "outputs": [
    {
     "name": "stdout",
     "output_type": "stream",
     "text": [
      "CPU times: user 6min 18s, sys: 228 ms, total: 6min 18s\n",
      "Wall time: 6min 19s\n"
     ]
    }
   ],
   "source": [
    "%%time \n",
    "for i in range(1000): rsi=RSI_Harshad(hist, 14)"
   ]
  },
  {
   "cell_type": "code",
   "execution_count": 115,
   "metadata": {},
   "outputs": [
    {
     "data": {
      "text/plain": [
       "2011-03-07    46.578100\n",
       "2011-03-08    46.900394\n",
       "2011-03-09    44.039139\n",
       "2011-03-10    39.381848\n",
       "2011-03-11    45.268801\n",
       "                ...    \n",
       "2021-02-08    56.078438\n",
       "2021-02-09    54.290032\n",
       "2021-02-10    53.035249\n",
       "2021-02-11    52.487389\n",
       "2021-02-12    52.970336\n",
       "Name: Close, Length: 2503, dtype: float64"
      ]
     },
     "execution_count": 115,
     "metadata": {},
     "output_type": "execute_result"
    }
   ],
   "source": [
    "RSI_v1(hist, 14)[14:]"
   ]
  },
  {
   "cell_type": "code",
   "execution_count": 116,
   "metadata": {},
   "outputs": [
    {
     "data": {
      "text/plain": [
       "2011-03-07       NaN\n",
       "2011-03-08    100.00\n",
       "2011-03-09      8.50\n",
       "2011-03-10      3.06\n",
       "2011-03-11     41.27\n",
       "               ...  \n",
       "2021-02-08     56.08\n",
       "2021-02-09     54.29\n",
       "2021-02-10     53.04\n",
       "2021-02-11     52.49\n",
       "2021-02-12     52.97\n",
       "Name: Close, Length: 2503, dtype: float64"
      ]
     },
     "execution_count": 116,
     "metadata": {},
     "output_type": "execute_result"
    }
   ],
   "source": [
    "RSI_Harshad(hist, 14)[14:]"
   ]
  },
  {
   "cell_type": "code",
   "execution_count": 114,
   "metadata": {},
   "outputs": [
    {
     "data": {
      "text/plain": [
       "False"
      ]
     },
     "execution_count": 114,
     "metadata": {},
     "output_type": "execute_result"
    }
   ],
   "source": [
    "np.allclose(RSI_v1(hist, 14)[-5:], RSI_Harshad(hist, 14)[-5:])"
   ]
  },
  {
   "cell_type": "code",
   "execution_count": null,
   "metadata": {},
   "outputs": [],
   "source": []
  },
  {
   "cell_type": "code",
   "execution_count": null,
   "metadata": {},
   "outputs": [],
   "source": []
  },
  {
   "cell_type": "code",
   "execution_count": null,
   "metadata": {},
   "outputs": [],
   "source": []
  },
  {
   "cell_type": "code",
   "execution_count": null,
   "metadata": {},
   "outputs": [],
   "source": []
  },
  {
   "cell_type": "code",
   "execution_count": null,
   "metadata": {},
   "outputs": [],
   "source": []
  },
  {
   "cell_type": "code",
   "execution_count": null,
   "metadata": {},
   "outputs": [],
   "source": []
  },
  {
   "cell_type": "code",
   "execution_count": null,
   "metadata": {},
   "outputs": [],
   "source": []
  },
  {
   "cell_type": "code",
   "execution_count": null,
   "metadata": {},
   "outputs": [],
   "source": []
  },
  {
   "cell_type": "code",
   "execution_count": null,
   "metadata": {},
   "outputs": [],
   "source": []
  },
  {
   "cell_type": "code",
   "execution_count": null,
   "metadata": {},
   "outputs": [],
   "source": []
  },
  {
   "cell_type": "code",
   "execution_count": null,
   "metadata": {},
   "outputs": [],
   "source": []
  },
  {
   "cell_type": "code",
   "execution_count": null,
   "metadata": {},
   "outputs": [],
   "source": []
  },
  {
   "cell_type": "code",
   "execution_count": null,
   "metadata": {},
   "outputs": [],
   "source": []
  },
  {
   "cell_type": "code",
   "execution_count": null,
   "metadata": {},
   "outputs": [],
   "source": []
  },
  {
   "cell_type": "code",
   "execution_count": null,
   "metadata": {},
   "outputs": [],
   "source": []
  }
 ],
 "metadata": {
  "kernelspec": {
   "display_name": "Python 3.7.5 64-bit ('learn': conda)",
   "language": "python",
   "name": "python37564bitlearnconda9edf13e24aea43b294d817638a3bc50f"
  },
  "language_info": {
   "codemirror_mode": {
    "name": "ipython",
    "version": 3
   },
   "file_extension": ".py",
   "mimetype": "text/x-python",
   "name": "python",
   "nbconvert_exporter": "python",
   "pygments_lexer": "ipython3",
   "version": "3.7.5"
  }
 },
 "nbformat": 4,
 "nbformat_minor": 2
}
